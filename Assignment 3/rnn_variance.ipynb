{
 "cells": [
  {
   "cell_type": "markdown",
   "source": [
    "# Recurrent Neural Network"
   ],
   "metadata": {}
  },
  {
   "cell_type": "code",
   "execution_count": 19,
   "source": [
    "import pandas as pd\r\n",
    "import torch\r\n",
    "from torch.utils.data import TensorDataset, DataLoader\r\n",
    "from sklearn.preprocessing import MinMaxScaler\r\n",
    "from sklearn.model_selection import train_test_split\r\n",
    "\r\n",
    "\r\n",
    "def union(df1, df2):\r\n",
    "    return pd.concat([df1, df2]).drop_duplicates().reset_index(drop=True)\r\n",
    "\r\n",
    "\r\n",
    "def load_data(column, batch_size):\r\n",
    "    # Load data\r\n",
    "    train = pd.read_csv(\"Google_Stock_Price_Train.csv\", parse_dates=[\"Date\"], thousands=',')\r\n",
    "    test = pd.read_csv(\"Google_Stock_Price_Test.csv\", parse_dates=[\"Date\"], thousands=',')\r\n",
    "\r\n",
    "    # Merge training and testing and apply one hot encoding\r\n",
    "    data = union(train, test)\r\n",
    "    # Add month and day\r\n",
    "    data[\"month\"] = pd.DatetimeIndex(data[\"Date\"]).month\r\n",
    "    data[\"day\"] = pd.DatetimeIndex(data[\"Date\"]).day\r\n",
    "    data = pd.get_dummies(data, columns=[\"month\", \"day\"]).drop(columns=[\"Date\"])\r\n",
    "    data = data.iloc[565:]\r\n",
    "\r\n",
    "    # Apply min-max scaler\r\n",
    "    scaler = MinMaxScaler()\r\n",
    "    scaler.fit(data)\r\n",
    "    data = pd.DataFrame(scaler.transform(data), columns=data.columns)\r\n",
    "    \r\n",
    "    y = data[column].to_numpy()\r\n",
    "    X = data.drop(columns=column).to_numpy()\r\n",
    "    features = X.shape[1]\r\n",
    "\r\n",
    "    # Split training and testing data\r\n",
    "    X_train, X_test, y_train, y_test = train_test_split(X, y, test_size=20, shuffle=False)\r\n",
    "    X_train, X_val, y_train, y_val = train_test_split(X_train, y_train, test_size=0.1, shuffle=False)\r\n",
    "\r\n",
    "    # Convert to tensor\r\n",
    "    X_train = torch.Tensor(X_train)\r\n",
    "    y_train = torch.Tensor(y_train)\r\n",
    "    X_test = torch.Tensor(X_test)\r\n",
    "    y_test = torch.Tensor(y_test)\r\n",
    "    X_val = torch.Tensor(X_val)\r\n",
    "    y_val = torch.Tensor(y_val)\r\n",
    "\r\n",
    "    train = TensorDataset(X_train, y_train)\r\n",
    "    test = TensorDataset(X_test, y_test)\r\n",
    "    val = TensorDataset(X_val, y_val)\r\n",
    "\r\n",
    "    trainloader = DataLoader(train, batch_size=batch_size, shuffle=False, drop_last=True)\r\n",
    "    testloader = DataLoader(test, batch_size=batch_size, shuffle=False, drop_last=True)\r\n",
    "    valloader = DataLoader(val, batch_size=batch_size, shuffle=False, drop_last=True)\r\n",
    "\r\n",
    "    return trainloader, testloader, valloader, features"
   ],
   "outputs": [],
   "metadata": {}
  },
  {
   "cell_type": "code",
   "execution_count": 20,
   "source": [
    "import torch.nn as nn\r\n",
    "import torch.nn.functional as F\r\n",
    "\r\n",
    "\r\n",
    "def get_model(model, **args):\r\n",
    "    if model == \"rnn\":\r\n",
    "        return RNN(**args)\r\n",
    "    elif model == \"lstm\":\r\n",
    "        return LSTM(**args)\r\n",
    "    elif model == \"gru\":\r\n",
    "        return GRU(**args)"
   ],
   "outputs": [],
   "metadata": {}
  },
  {
   "cell_type": "code",
   "execution_count": 21,
   "source": [
    "class RNN(nn.Module):\r\n",
    "    def __init__(self, hidden_dim, layer_dim, features, dropout):\r\n",
    "        super(RNN, self).__init__()\r\n",
    "\r\n",
    "        self.hidden_dim = hidden_dim\r\n",
    "        self.layer_dim = layer_dim\r\n",
    "        self.dropout = dropout\r\n",
    "        self.output_dim = 1\r\n",
    "\r\n",
    "        self.rnn = nn.RNN(features, self.hidden_dim, self.layer_dim, batch_first=True, dropout=dropout)\r\n",
    "\r\n",
    "        self.fc = nn.Linear(self.hidden_dim, self.output_dim)\r\n",
    "\r\n",
    "    def forward(self, x):\r\n",
    "        # Initializing hidden state for first input with zeros\r\n",
    "        h0 = torch.zeros(self.layer_dim, x.size(0), self.hidden_dim).requires_grad_()\r\n",
    "\r\n",
    "        # Forward propagation by passing in the input and hidden state into the model\r\n",
    "        out, h0 = self.rnn(x, h0.detach())\r\n",
    "\r\n",
    "        # Reshaping the outputs in the shape of (batch_size, seq_length, hidden_size)\r\n",
    "        # so that it can fit into the fully connected layer\r\n",
    "        out = out[:, -1, :]\r\n",
    "\r\n",
    "        # Convert the final state to our desired output shape (batch_size, output_dim)\r\n",
    "        out = self.fc(out)\r\n",
    "        return out"
   ],
   "outputs": [],
   "metadata": {}
  },
  {
   "cell_type": "code",
   "execution_count": 22,
   "source": [
    "class LSTM(nn.Module):\r\n",
    "    def __init__(self, hidden_dim, layer_dim, features, dropout):\r\n",
    "        super(LSTM, self).__init__()\r\n",
    "\r\n",
    "        self.hidden_dim = hidden_dim\r\n",
    "        self.layer_dim = layer_dim\r\n",
    "        self.dropout = dropout\r\n",
    "        self.output_dim = 1\r\n",
    "\r\n",
    "        self.rnn = nn.LSTM(features, self.hidden_dim, self.layer_dim, batch_first=True, dropout=dropout)\r\n",
    "\r\n",
    "        self.fc = nn.Linear(self.hidden_dim, self.output_dim)\r\n",
    "\r\n",
    "    def forward(self, x):\r\n",
    "        # Initializing hidden state for first input with zeros\r\n",
    "        h0 = torch.zeros(self.layer_dim, x.size(0), self.hidden_dim).requires_grad_()\r\n",
    "\r\n",
    "        c0 = torch.zeros(self.layer_dim, x.size(0), self.hidden_dim).requires_grad_()\r\n",
    "\r\n",
    "        # Forward propagation by passing in the input and hidden state into the model\r\n",
    "        out, (hn, cn) = self.rnn(x, (h0.detach(), c0.detach()))\r\n",
    "\r\n",
    "        # Reshaping the outputs in the shape of (batch_size, seq_length, hidden_size)\r\n",
    "        # so that it can fit into the fully connected layer\r\n",
    "        out = out[:, -1, :]\r\n",
    "\r\n",
    "        # Convert the final state to our desired output shape (batch_size, output_dim)\r\n",
    "        out = self.fc(out)\r\n",
    "        return out"
   ],
   "outputs": [],
   "metadata": {}
  },
  {
   "cell_type": "code",
   "execution_count": 23,
   "source": [
    "class GRU(nn.Module):\r\n",
    "    def __init__(self, hidden_dim, layer_dim, features, dropout):\r\n",
    "        super(GRU, self).__init__()\r\n",
    "\r\n",
    "        self.hidden_dim = hidden_dim\r\n",
    "        self.layer_dim = layer_dim\r\n",
    "        self.dropout = dropout\r\n",
    "        self.output_dim = 1\r\n",
    "\r\n",
    "        self.rnn = nn.GRU(features, self.hidden_dim, self.layer_dim, batch_first=True, dropout=dropout)\r\n",
    "\r\n",
    "        self.fc = nn.Linear(self.hidden_dim, self.output_dim)\r\n",
    "\r\n",
    "    def forward(self, x):\r\n",
    "        # Initializing hidden state for first input with zeros\r\n",
    "        h0 = torch.zeros(self.layer_dim, x.size(0), self.hidden_dim).requires_grad_()\r\n",
    "\r\n",
    "        # Forward propagation by passing in the input and hidden state into the model\r\n",
    "        out, _ = self.rnn(x, h0.detach())\r\n",
    "\r\n",
    "        # Reshaping the outputs in the shape of (batch_size, seq_length, hidden_size)\r\n",
    "        # so that it can fit into the fully connected layer\r\n",
    "        out = out[:, -1, :]\r\n",
    "\r\n",
    "        # Convert the final state to our desired output shape (batch_size, output_dim)\r\n",
    "        out = self.fc(out)\r\n",
    "        return out"
   ],
   "outputs": [],
   "metadata": {}
  },
  {
   "cell_type": "code",
   "execution_count": 24,
   "source": [
    "import numpy as np\r\n",
    "import matplotlib.pyplot as plt\r\n",
    "\r\n",
    "\r\n",
    "def fit(rnn, trainloader, testloader, valloader, batch_size, criterion, optimizer, features):\r\n",
    "    device = torch.device(\"cuda:0\" if torch.cuda.is_available() else \"cpu\")\r\n",
    "    # device = torch.device(\"cpu\")\r\n",
    "    rnn.to(device)\r\n",
    "    epoch_num = 200\r\n",
    "    min_val = 1000\r\n",
    "    n = 0\r\n",
    "    train_losses = []\r\n",
    "    val_losses = []\r\n",
    "    for epoch in range(1, epoch_num + 1):  # loop over the dataset multiple times\r\n",
    "        batch_losses = []\r\n",
    "        for inputs, labels in trainloader:\r\n",
    "            # get the inputs; data is a list of [inputs, labels]\r\n",
    "            inputs = inputs.view([batch_size, -1, features]).to(device)\r\n",
    "            labels = labels.to(device)\r\n",
    "\r\n",
    "            # zero the parameter gradients\r\n",
    "            optimizer.zero_grad()\r\n",
    "\r\n",
    "            # forward + backward + optimize\r\n",
    "            rnn.train()\r\n",
    "            outputs = rnn(inputs)\r\n",
    "            loss = criterion(labels, outputs)\r\n",
    "            loss.backward()\r\n",
    "            optimizer.step()\r\n",
    "            batch_losses.append(loss.item())\r\n",
    "\r\n",
    "        train_losses.append(np.mean(batch_losses))\r\n",
    "\r\n",
    "        # Validation loss\r\n",
    "        with torch.no_grad():\r\n",
    "            batch_val_losses = []\r\n",
    "            for inputs, labels in valloader:\r\n",
    "                # get the inputs; data is a list of [inputs, labels]\r\n",
    "                inputs = inputs.view([batch_size, -1, features]).to(device)\r\n",
    "                labels = labels.to(device)\r\n",
    "\r\n",
    "                # forward + backward + optimize\r\n",
    "                rnn.eval()\r\n",
    "                outputs = rnn(inputs)\r\n",
    "                loss = criterion(labels, outputs)\r\n",
    "                batch_val_losses.append(loss.item())\r\n",
    "\r\n",
    "            val_losses.append(np.mean(batch_val_losses))\r\n",
    "\r\n",
    "        if np.mean(batch_val_losses) < min_val:\r\n",
    "            min_val = np.mean(batch_val_losses)\r\n",
    "            n = 0\r\n",
    "        else:\r\n",
    "            n += 1\r\n",
    "        if n == 5:\r\n",
    "            #print(f\"Epoch: {epoch}  Training Error: {np.mean(batch_losses):.4f}  Validation Error: {np.mean(batch_val_losses):.4f}\")\r\n",
    "            break\r\n",
    "\r\n",
    "        if epoch % 1 == 0:\r\n",
    "            print(f\"Epoch: {epoch}  Training Error: {np.mean(batch_losses):.4f}  Validation Error: {np.mean(batch_val_losses):.4f}\")\r\n",
    "    '''\r\n",
    "    plt.yscale(\"log\")\r\n",
    "    plt.plot(train_losses)\r\n",
    "    plt.plot(val_losses)\r\n",
    "    plt.xlabel(\"Epoch\")\r\n",
    "    plt.ylabel(\"Error\")\r\n",
    "    plt.title(\"Training and validation error of GRU\")\r\n",
    "    plt.legend([\"Training Error\", \"Validation Error\"])\r\n",
    "    '''\r\n",
    "\r\n",
    "    train_prediction = []\r\n",
    "    train_actual = []\r\n",
    "    test_prediction = []\r\n",
    "    test_actual = []\r\n",
    "    for inputs, labels in trainloader:\r\n",
    "        # get the inputs; data is a list of [inputs, labels]\r\n",
    "        inputs = inputs.view([batch_size, -1, features]).to(device)\r\n",
    "        labels = labels.to(device)\r\n",
    "        \r\n",
    "        rnn.eval()\r\n",
    "        outputs = rnn(inputs)\r\n",
    "        train_prediction.append(outputs.detach().numpy())\r\n",
    "        train_actual.append(labels.detach().numpy())\r\n",
    "\r\n",
    "    for inputs, labels in testloader:\r\n",
    "        # get the inputs; data is a list of [inputs, labels]\r\n",
    "        inputs = inputs.view([batch_size, -1, features]).to(device)\r\n",
    "        labels = labels.to(device)\r\n",
    "\r\n",
    "        # forward + backward + optimize\r\n",
    "        rnn.eval()\r\n",
    "        outputs = rnn(inputs)\r\n",
    "        test_prediction.append(outputs.detach().numpy())\r\n",
    "        test_actual.append(labels.detach().numpy())\r\n",
    "\r\n",
    "    train_prediction = np.array(train_prediction).flatten()\r\n",
    "    train_actual = np.array(train_actual).flatten()\r\n",
    "    test_prediction = np.array(test_prediction).flatten()\r\n",
    "    test_actual = np.array(test_actual).flatten()\r\n",
    "\r\n",
    "    return train_prediction, train_actual, test_prediction, test_actual\r\n"
   ],
   "outputs": [],
   "metadata": {}
  },
  {
   "cell_type": "code",
   "execution_count": 25,
   "source": [
    "import seaborn as sns\r\n",
    "sns.set()\r\n",
    "\r\n",
    "def plot(prediction, actual):\r\n",
    "    df = pd.DataFrame({\"Predicted\": prediction, \"Actual\": actual})\r\n",
    "    sns.lineplot(data=df)"
   ],
   "outputs": [],
   "metadata": {}
  },
  {
   "cell_type": "code",
   "execution_count": 26,
   "source": [
    "from sklearn.metrics import mean_squared_error, r2_score\r\n",
    "\r\n",
    "def metrics(prediction, actual):\r\n",
    "    r2 = r2_score(actual, prediction)\r\n",
    "    rmse = mean_squared_error(actual, prediction, squared=False)\r\n",
    "\r\n",
    "    print(f\"R-squared: {r2:.4f}\")\r\n",
    "    print(f\"Mean Square Error: {rmse:.4f}\")\r\n",
    "    return r2, rmse"
   ],
   "outputs": [],
   "metadata": {}
  },
  {
   "cell_type": "code",
   "execution_count": 27,
   "source": [
    "import torch.optim as optim\r\n",
    "column = \"Close\"\r\n",
    "batch_size = 20\r\n",
    "\r\n",
    "trainloader, testloader, valloader, features = load_data(column, batch_size)\r\n",
    "\r\n",
    "# RNN hyperparamters\r\n",
    "params = {\"hidden_dim\": 200,\r\n",
    "        \"layer_dim\": 1,\r\n",
    "        \"dropout\": 0.2,\r\n",
    "        \"features\": features}\r\n",
    "\r\n",
    "# rnn, lstm, gru\r\n",
    "model = \"rnn\"\r\n",
    "r2_scores = []\r\n",
    "rmse_scores = []\r\n",
    "for i in range(100):\r\n",
    "        rnn = get_model(model, **params)\r\n",
    "\r\n",
    "        criterion = nn.MSELoss(reduction=\"mean\")\r\n",
    "        optimizer = optim.Adam(rnn.parameters(), lr=0.001)\r\n",
    "\r\n",
    "        args = {\"batch_size\": batch_size,\r\n",
    "                \"trainloader\": trainloader,\r\n",
    "                \"testloader\": testloader,\r\n",
    "                \"valloader\": valloader,\r\n",
    "                \"features\": features,\r\n",
    "                \"rnn\": rnn,\r\n",
    "                \"criterion\": criterion,\r\n",
    "                \"optimizer\": optimizer}\r\n",
    "\r\n",
    "        train_prediction, train_actual, test_prediction, test_actual = fit(**args)\r\n",
    "        r2, rmse = metrics(test_prediction, test_actual)\r\n",
    "        r2_scores.append(r2)\r\n",
    "        rmse_scores.append(rmse)\r\n"
   ],
   "outputs": [
    {
     "output_type": "stream",
     "name": "stderr",
     "text": [
      "C:\\Users\\Andy\\AppData\\Local\\Programs\\Python\\Python39\\lib\\site-packages\\torch\\nn\\modules\\rnn.py:62: UserWarning: dropout option adds dropout after all but last recurrent layer, so non-zero dropout expects num_layers greater than 1, but got dropout=0.2 and num_layers=1\n",
      "  warnings.warn(\"dropout option adds dropout after all but last \"\n",
      "C:\\Users\\Andy\\AppData\\Local\\Programs\\Python\\Python39\\lib\\site-packages\\torch\\nn\\modules\\loss.py:528: UserWarning: Using a target size (torch.Size([20, 1])) that is different to the input size (torch.Size([20])). This will likely lead to incorrect results due to broadcasting. Please ensure they have the same size.\n",
      "  return F.mse_loss(input, target, reduction=self.reduction)\n"
     ]
    },
    {
     "output_type": "stream",
     "name": "stdout",
     "text": [
      "Epoch: 1  Training Error: 0.0357  Validation Error: 0.0032\n",
      "Epoch: 2  Training Error: 0.0570  Validation Error: 0.0071\n",
      "Epoch: 3  Training Error: 0.0164  Validation Error: 0.0037\n",
      "Epoch: 4  Training Error: 0.0053  Validation Error: 0.0037\n",
      "Epoch: 5  Training Error: 0.0044  Validation Error: 0.0040\n",
      "R-squared: 0.6635\n",
      "Mean Square Error: 0.0217\n",
      "Epoch: 1  Training Error: 0.0481  Validation Error: 0.0111\n",
      "Epoch: 2  Training Error: 0.0636  Validation Error: 0.0249\n"
     ]
    },
    {
     "output_type": "stream",
     "name": "stderr",
     "text": [
      "C:\\Users\\Andy\\AppData\\Local\\Programs\\Python\\Python39\\lib\\site-packages\\torch\\nn\\modules\\rnn.py:62: UserWarning: dropout option adds dropout after all but last recurrent layer, so non-zero dropout expects num_layers greater than 1, but got dropout=0.2 and num_layers=1\n",
      "  warnings.warn(\"dropout option adds dropout after all but last \"\n",
      "C:\\Users\\Andy\\AppData\\Local\\Programs\\Python\\Python39\\lib\\site-packages\\torch\\nn\\modules\\loss.py:528: UserWarning: Using a target size (torch.Size([20, 1])) that is different to the input size (torch.Size([20])). This will likely lead to incorrect results due to broadcasting. Please ensure they have the same size.\n",
      "  return F.mse_loss(input, target, reduction=self.reduction)\n"
     ]
    },
    {
     "output_type": "stream",
     "name": "stdout",
     "text": [
      "Epoch: 3  Training Error: 0.0159  Validation Error: 0.0048\n",
      "Epoch: 4  Training Error: 0.0067  Validation Error: 0.0033\n",
      "Epoch: 5  Training Error: 0.0045  Validation Error: 0.0036\n",
      "Epoch: 6  Training Error: 0.0042  Validation Error: 0.0038\n",
      "Epoch: 7  Training Error: 0.0041  Validation Error: 0.0037\n",
      "Epoch: 8  Training Error: 0.0042  Validation Error: 0.0038\n",
      "R-squared: 0.7787\n",
      "Mean Square Error: 0.0176\n",
      "Epoch: 1  Training Error: 0.0447  Validation Error: 0.0055\n",
      "Epoch: 2  Training Error: 0.0670  Validation Error: 0.0193\n",
      "Epoch: 3  Training Error: 0.0168  Validation Error: 0.0045\n"
     ]
    },
    {
     "output_type": "stream",
     "name": "stderr",
     "text": [
      "C:\\Users\\Andy\\AppData\\Local\\Programs\\Python\\Python39\\lib\\site-packages\\torch\\nn\\modules\\rnn.py:62: UserWarning: dropout option adds dropout after all but last recurrent layer, so non-zero dropout expects num_layers greater than 1, but got dropout=0.2 and num_layers=1\n",
      "  warnings.warn(\"dropout option adds dropout after all but last \"\n",
      "C:\\Users\\Andy\\AppData\\Local\\Programs\\Python\\Python39\\lib\\site-packages\\torch\\nn\\modules\\loss.py:528: UserWarning: Using a target size (torch.Size([20, 1])) that is different to the input size (torch.Size([20])). This will likely lead to incorrect results due to broadcasting. Please ensure they have the same size.\n",
      "  return F.mse_loss(input, target, reduction=self.reduction)\n"
     ]
    },
    {
     "output_type": "stream",
     "name": "stdout",
     "text": [
      "Epoch: 4  Training Error: 0.0062  Validation Error: 0.0036\n",
      "Epoch: 5  Training Error: 0.0044  Validation Error: 0.0038\n",
      "Epoch: 6  Training Error: 0.0042  Validation Error: 0.0039\n",
      "Epoch: 7  Training Error: 0.0041  Validation Error: 0.0038\n",
      "Epoch: 8  Training Error: 0.0042  Validation Error: 0.0039\n",
      "R-squared: 0.7537\n",
      "Mean Square Error: 0.0186\n",
      "Epoch: 1  Training Error: 0.0364  Validation Error: 0.0041\n",
      "Epoch: 2  Training Error: 0.0609  Validation Error: 0.0088\n",
      "Epoch: 3  Training Error: 0.0168  Validation Error: 0.0042\n"
     ]
    },
    {
     "output_type": "stream",
     "name": "stderr",
     "text": [
      "C:\\Users\\Andy\\AppData\\Local\\Programs\\Python\\Python39\\lib\\site-packages\\torch\\nn\\modules\\rnn.py:62: UserWarning: dropout option adds dropout after all but last recurrent layer, so non-zero dropout expects num_layers greater than 1, but got dropout=0.2 and num_layers=1\n",
      "  warnings.warn(\"dropout option adds dropout after all but last \"\n",
      "C:\\Users\\Andy\\AppData\\Local\\Programs\\Python\\Python39\\lib\\site-packages\\torch\\nn\\modules\\loss.py:528: UserWarning: Using a target size (torch.Size([20, 1])) that is different to the input size (torch.Size([20])). This will likely lead to incorrect results due to broadcasting. Please ensure they have the same size.\n",
      "  return F.mse_loss(input, target, reduction=self.reduction)\n"
     ]
    },
    {
     "output_type": "stream",
     "name": "stdout",
     "text": [
      "Epoch: 4  Training Error: 0.0053  Validation Error: 0.0040\n",
      "Epoch: 5  Training Error: 0.0043  Validation Error: 0.0041\n",
      "Epoch: 6  Training Error: 0.0042  Validation Error: 0.0039\n",
      "Epoch: 7  Training Error: 0.0041  Validation Error: 0.0039\n",
      "Epoch: 8  Training Error: 0.0042  Validation Error: 0.0040\n",
      "Epoch: 9  Training Error: 0.0043  Validation Error: 0.0041\n",
      "Epoch: 10  Training Error: 0.0043  Validation Error: 0.0041\n",
      "Epoch: 11  Training Error: 0.0043  Validation Error: 0.0041\n",
      "R-squared: 0.6228\n",
      "Mean Square Error: 0.0230\n",
      "Epoch: 1  Training Error: 0.0343  Validation Error: 0.0060\n",
      "Epoch: 2  Training Error: 0.0747  Validation Error: 0.0097\n",
      "Epoch: 3  Training Error: 0.0205  Validation Error: 0.0039\n"
     ]
    },
    {
     "output_type": "stream",
     "name": "stderr",
     "text": [
      "C:\\Users\\Andy\\AppData\\Local\\Programs\\Python\\Python39\\lib\\site-packages\\torch\\nn\\modules\\rnn.py:62: UserWarning: dropout option adds dropout after all but last recurrent layer, so non-zero dropout expects num_layers greater than 1, but got dropout=0.2 and num_layers=1\n",
      "  warnings.warn(\"dropout option adds dropout after all but last \"\n",
      "C:\\Users\\Andy\\AppData\\Local\\Programs\\Python\\Python39\\lib\\site-packages\\torch\\nn\\modules\\loss.py:528: UserWarning: Using a target size (torch.Size([20, 1])) that is different to the input size (torch.Size([20])). This will likely lead to incorrect results due to broadcasting. Please ensure they have the same size.\n",
      "  return F.mse_loss(input, target, reduction=self.reduction)\n"
     ]
    },
    {
     "output_type": "stream",
     "name": "stdout",
     "text": [
      "Epoch: 4  Training Error: 0.0060  Validation Error: 0.0036\n",
      "Epoch: 5  Training Error: 0.0044  Validation Error: 0.0037\n",
      "Epoch: 6  Training Error: 0.0042  Validation Error: 0.0038\n",
      "Epoch: 7  Training Error: 0.0041  Validation Error: 0.0038\n",
      "Epoch: 8  Training Error: 0.0042  Validation Error: 0.0039\n",
      "R-squared: 0.7683\n",
      "Mean Square Error: 0.0180\n",
      "Epoch: 1  Training Error: 0.0471  Validation Error: 0.0069\n",
      "Epoch: 2  Training Error: 0.0599  Validation Error: 0.0192\n",
      "Epoch: 3  Training Error: 0.0138  Validation Error: 0.0044\n",
      "Epoch: 4  Training Error: 0.0057  Validation Error: 0.0035\n"
     ]
    },
    {
     "output_type": "stream",
     "name": "stderr",
     "text": [
      "C:\\Users\\Andy\\AppData\\Local\\Programs\\Python\\Python39\\lib\\site-packages\\torch\\nn\\modules\\rnn.py:62: UserWarning: dropout option adds dropout after all but last recurrent layer, so non-zero dropout expects num_layers greater than 1, but got dropout=0.2 and num_layers=1\n",
      "  warnings.warn(\"dropout option adds dropout after all but last \"\n",
      "C:\\Users\\Andy\\AppData\\Local\\Programs\\Python\\Python39\\lib\\site-packages\\torch\\nn\\modules\\loss.py:528: UserWarning: Using a target size (torch.Size([20, 1])) that is different to the input size (torch.Size([20])). This will likely lead to incorrect results due to broadcasting. Please ensure they have the same size.\n",
      "  return F.mse_loss(input, target, reduction=self.reduction)\n"
     ]
    },
    {
     "output_type": "stream",
     "name": "stdout",
     "text": [
      "Epoch: 5  Training Error: 0.0044  Validation Error: 0.0038\n",
      "Epoch: 6  Training Error: 0.0042  Validation Error: 0.0038\n",
      "Epoch: 7  Training Error: 0.0041  Validation Error: 0.0038\n",
      "Epoch: 8  Training Error: 0.0042  Validation Error: 0.0039\n",
      "R-squared: 0.7221\n",
      "Mean Square Error: 0.0197\n"
     ]
    },
    {
     "output_type": "stream",
     "name": "stderr",
     "text": [
      "C:\\Users\\Andy\\AppData\\Local\\Programs\\Python\\Python39\\lib\\site-packages\\torch\\nn\\modules\\rnn.py:62: UserWarning: dropout option adds dropout after all but last recurrent layer, so non-zero dropout expects num_layers greater than 1, but got dropout=0.2 and num_layers=1\n",
      "  warnings.warn(\"dropout option adds dropout after all but last \"\n",
      "C:\\Users\\Andy\\AppData\\Local\\Programs\\Python\\Python39\\lib\\site-packages\\torch\\nn\\modules\\loss.py:528: UserWarning: Using a target size (torch.Size([20, 1])) that is different to the input size (torch.Size([20])). This will likely lead to incorrect results due to broadcasting. Please ensure they have the same size.\n",
      "  return F.mse_loss(input, target, reduction=self.reduction)\n"
     ]
    },
    {
     "output_type": "stream",
     "name": "stdout",
     "text": [
      "Epoch: 1  Training Error: 0.0449  Validation Error: 0.0060\n",
      "Epoch: 2  Training Error: 0.0632  Validation Error: 0.0169\n",
      "Epoch: 3  Training Error: 0.0152  Validation Error: 0.0042\n",
      "Epoch: 4  Training Error: 0.0057  Validation Error: 0.0037\n",
      "Epoch: 5  Training Error: 0.0043  Validation Error: 0.0039\n",
      "Epoch: 6  Training Error: 0.0042  Validation Error: 0.0039\n",
      "Epoch: 7  Training Error: 0.0041  Validation Error: 0.0039\n",
      "Epoch: 8  Training Error: 0.0042  Validation Error: 0.0039\n",
      "R-squared: 0.7259\n",
      "Mean Square Error: 0.0196\n",
      "Epoch: 1  Training Error: 0.0362  Validation Error: 0.0035\n"
     ]
    },
    {
     "output_type": "stream",
     "name": "stderr",
     "text": [
      "C:\\Users\\Andy\\AppData\\Local\\Programs\\Python\\Python39\\lib\\site-packages\\torch\\nn\\modules\\rnn.py:62: UserWarning: dropout option adds dropout after all but last recurrent layer, so non-zero dropout expects num_layers greater than 1, but got dropout=0.2 and num_layers=1\n",
      "  warnings.warn(\"dropout option adds dropout after all but last \"\n",
      "C:\\Users\\Andy\\AppData\\Local\\Programs\\Python\\Python39\\lib\\site-packages\\torch\\nn\\modules\\loss.py:528: UserWarning: Using a target size (torch.Size([20, 1])) that is different to the input size (torch.Size([20])). This will likely lead to incorrect results due to broadcasting. Please ensure they have the same size.\n",
      "  return F.mse_loss(input, target, reduction=self.reduction)\n"
     ]
    },
    {
     "output_type": "stream",
     "name": "stdout",
     "text": [
      "Epoch: 2  Training Error: 0.0549  Validation Error: 0.0080\n",
      "Epoch: 3  Training Error: 0.0151  Validation Error: 0.0040\n",
      "Epoch: 4  Training Error: 0.0052  Validation Error: 0.0038\n",
      "Epoch: 5  Training Error: 0.0043  Validation Error: 0.0040\n",
      "R-squared: 0.7538\n",
      "Mean Square Error: 0.0185\n"
     ]
    },
    {
     "output_type": "stream",
     "name": "stderr",
     "text": [
      "C:\\Users\\Andy\\AppData\\Local\\Programs\\Python\\Python39\\lib\\site-packages\\torch\\nn\\modules\\rnn.py:62: UserWarning: dropout option adds dropout after all but last recurrent layer, so non-zero dropout expects num_layers greater than 1, but got dropout=0.2 and num_layers=1\n",
      "  warnings.warn(\"dropout option adds dropout after all but last \"\n",
      "C:\\Users\\Andy\\AppData\\Local\\Programs\\Python\\Python39\\lib\\site-packages\\torch\\nn\\modules\\loss.py:528: UserWarning: Using a target size (torch.Size([20, 1])) that is different to the input size (torch.Size([20])). This will likely lead to incorrect results due to broadcasting. Please ensure they have the same size.\n",
      "  return F.mse_loss(input, target, reduction=self.reduction)\n"
     ]
    },
    {
     "output_type": "stream",
     "name": "stdout",
     "text": [
      "Epoch: 1  Training Error: 0.0371  Validation Error: 0.0038\n",
      "Epoch: 2  Training Error: 0.0581  Validation Error: 0.0085\n",
      "Epoch: 3  Training Error: 0.0163  Validation Error: 0.0040\n",
      "Epoch: 4  Training Error: 0.0054  Validation Error: 0.0039\n",
      "Epoch: 5  Training Error: 0.0043  Validation Error: 0.0040\n",
      "R-squared: 0.7699\n",
      "Mean Square Error: 0.0179\n",
      "Epoch: 1  Training Error: 0.0483  Validation Error: 0.0077\n",
      "Epoch: 2  Training Error: 0.0620  Validation Error: 0.0181\n",
      "Epoch: 3  Training Error: 0.0154  Validation Error: 0.0038\n",
      "Epoch: 4  Training Error: 0.0061  Validation Error: 0.0034\n"
     ]
    },
    {
     "output_type": "stream",
     "name": "stderr",
     "text": [
      "C:\\Users\\Andy\\AppData\\Local\\Programs\\Python\\Python39\\lib\\site-packages\\torch\\nn\\modules\\rnn.py:62: UserWarning: dropout option adds dropout after all but last recurrent layer, so non-zero dropout expects num_layers greater than 1, but got dropout=0.2 and num_layers=1\n",
      "  warnings.warn(\"dropout option adds dropout after all but last \"\n",
      "C:\\Users\\Andy\\AppData\\Local\\Programs\\Python\\Python39\\lib\\site-packages\\torch\\nn\\modules\\loss.py:528: UserWarning: Using a target size (torch.Size([20, 1])) that is different to the input size (torch.Size([20])). This will likely lead to incorrect results due to broadcasting. Please ensure they have the same size.\n",
      "  return F.mse_loss(input, target, reduction=self.reduction)\n"
     ]
    },
    {
     "output_type": "stream",
     "name": "stdout",
     "text": [
      "Epoch: 5  Training Error: 0.0044  Validation Error: 0.0036\n",
      "Epoch: 6  Training Error: 0.0042  Validation Error: 0.0037\n",
      "Epoch: 7  Training Error: 0.0041  Validation Error: 0.0038\n",
      "Epoch: 8  Training Error: 0.0042  Validation Error: 0.0039\n",
      "R-squared: 0.7250\n",
      "Mean Square Error: 0.0196\n",
      "Epoch: 1  Training Error: 0.0428  Validation Error: 0.0081\n",
      "Epoch: 2  Training Error: 0.0591  Validation Error: 0.0172\n",
      "Epoch: 3  Training Error: 0.0144  Validation Error: 0.0043\n",
      "Epoch: 4  Training Error: 0.0053  Validation Error: 0.0037\n"
     ]
    },
    {
     "output_type": "stream",
     "name": "stderr",
     "text": [
      "C:\\Users\\Andy\\AppData\\Local\\Programs\\Python\\Python39\\lib\\site-packages\\torch\\nn\\modules\\rnn.py:62: UserWarning: dropout option adds dropout after all but last recurrent layer, so non-zero dropout expects num_layers greater than 1, but got dropout=0.2 and num_layers=1\n",
      "  warnings.warn(\"dropout option adds dropout after all but last \"\n",
      "C:\\Users\\Andy\\AppData\\Local\\Programs\\Python\\Python39\\lib\\site-packages\\torch\\nn\\modules\\loss.py:528: UserWarning: Using a target size (torch.Size([20, 1])) that is different to the input size (torch.Size([20])). This will likely lead to incorrect results due to broadcasting. Please ensure they have the same size.\n",
      "  return F.mse_loss(input, target, reduction=self.reduction)\n"
     ]
    },
    {
     "output_type": "stream",
     "name": "stdout",
     "text": [
      "Epoch: 5  Training Error: 0.0043  Validation Error: 0.0039\n",
      "Epoch: 6  Training Error: 0.0042  Validation Error: 0.0039\n",
      "Epoch: 7  Training Error: 0.0041  Validation Error: 0.0038\n",
      "Epoch: 8  Training Error: 0.0042  Validation Error: 0.0039\n",
      "R-squared: 0.7479\n",
      "Mean Square Error: 0.0188\n"
     ]
    },
    {
     "output_type": "stream",
     "name": "stderr",
     "text": [
      "C:\\Users\\Andy\\AppData\\Local\\Programs\\Python\\Python39\\lib\\site-packages\\torch\\nn\\modules\\rnn.py:62: UserWarning: dropout option adds dropout after all but last recurrent layer, so non-zero dropout expects num_layers greater than 1, but got dropout=0.2 and num_layers=1\n",
      "  warnings.warn(\"dropout option adds dropout after all but last \"\n",
      "C:\\Users\\Andy\\AppData\\Local\\Programs\\Python\\Python39\\lib\\site-packages\\torch\\nn\\modules\\loss.py:528: UserWarning: Using a target size (torch.Size([20, 1])) that is different to the input size (torch.Size([20])). This will likely lead to incorrect results due to broadcasting. Please ensure they have the same size.\n",
      "  return F.mse_loss(input, target, reduction=self.reduction)\n"
     ]
    },
    {
     "output_type": "stream",
     "name": "stdout",
     "text": [
      "Epoch: 1  Training Error: 0.0536  Validation Error: 0.0169\n",
      "Epoch: 2  Training Error: 0.0666  Validation Error: 0.0296\n",
      "Epoch: 3  Training Error: 0.0179  Validation Error: 0.0064\n",
      "Epoch: 4  Training Error: 0.0080  Validation Error: 0.0038\n",
      "Epoch: 5  Training Error: 0.0048  Validation Error: 0.0039\n",
      "Epoch: 6  Training Error: 0.0043  Validation Error: 0.0040\n",
      "Epoch: 7  Training Error: 0.0042  Validation Error: 0.0039\n",
      "Epoch: 8  Training Error: 0.0041  Validation Error: 0.0038\n",
      "R-squared: 0.7958\n",
      "Mean Square Error: 0.0169\n",
      "Epoch: 1  Training Error: 0.0506  Validation Error: 0.0070\n"
     ]
    },
    {
     "output_type": "stream",
     "name": "stderr",
     "text": [
      "C:\\Users\\Andy\\AppData\\Local\\Programs\\Python\\Python39\\lib\\site-packages\\torch\\nn\\modules\\rnn.py:62: UserWarning: dropout option adds dropout after all but last recurrent layer, so non-zero dropout expects num_layers greater than 1, but got dropout=0.2 and num_layers=1\n",
      "  warnings.warn(\"dropout option adds dropout after all but last \"\n",
      "C:\\Users\\Andy\\AppData\\Local\\Programs\\Python\\Python39\\lib\\site-packages\\torch\\nn\\modules\\loss.py:528: UserWarning: Using a target size (torch.Size([20, 1])) that is different to the input size (torch.Size([20])). This will likely lead to incorrect results due to broadcasting. Please ensure they have the same size.\n",
      "  return F.mse_loss(input, target, reduction=self.reduction)\n"
     ]
    },
    {
     "output_type": "stream",
     "name": "stdout",
     "text": [
      "Epoch: 2  Training Error: 0.0697  Validation Error: 0.0247\n",
      "Epoch: 3  Training Error: 0.0159  Validation Error: 0.0050\n",
      "Epoch: 4  Training Error: 0.0066  Validation Error: 0.0037\n",
      "Epoch: 5  Training Error: 0.0045  Validation Error: 0.0039\n",
      "Epoch: 6  Training Error: 0.0042  Validation Error: 0.0040\n",
      "Epoch: 7  Training Error: 0.0041  Validation Error: 0.0039\n",
      "Epoch: 8  Training Error: 0.0041  Validation Error: 0.0039\n",
      "R-squared: 0.7405\n",
      "Mean Square Error: 0.0190\n",
      "Epoch: 1  Training Error: 0.0373  Validation Error: 0.0037\n"
     ]
    },
    {
     "output_type": "stream",
     "name": "stderr",
     "text": [
      "C:\\Users\\Andy\\AppData\\Local\\Programs\\Python\\Python39\\lib\\site-packages\\torch\\nn\\modules\\rnn.py:62: UserWarning: dropout option adds dropout after all but last recurrent layer, so non-zero dropout expects num_layers greater than 1, but got dropout=0.2 and num_layers=1\n",
      "  warnings.warn(\"dropout option adds dropout after all but last \"\n",
      "C:\\Users\\Andy\\AppData\\Local\\Programs\\Python\\Python39\\lib\\site-packages\\torch\\nn\\modules\\loss.py:528: UserWarning: Using a target size (torch.Size([20, 1])) that is different to the input size (torch.Size([20])). This will likely lead to incorrect results due to broadcasting. Please ensure they have the same size.\n",
      "  return F.mse_loss(input, target, reduction=self.reduction)\n"
     ]
    },
    {
     "output_type": "stream",
     "name": "stdout",
     "text": [
      "Epoch: 2  Training Error: 0.0584  Validation Error: 0.0113\n",
      "Epoch: 3  Training Error: 0.0142  Validation Error: 0.0037\n",
      "Epoch: 4  Training Error: 0.0050  Validation Error: 0.0037\n",
      "Epoch: 5  Training Error: 0.0043  Validation Error: 0.0039\n",
      "R-squared: 0.7786\n",
      "Mean Square Error: 0.0176\n",
      "Epoch: 1  Training Error: 0.0291  Validation Error: 0.0055\n",
      "Epoch: 2  Training Error: 0.0552  Validation Error: 0.0050\n",
      "Epoch: 3  Training Error: 0.0163  Validation Error: 0.0038\n",
      "Epoch: 4  Training Error: 0.0050  Validation Error: 0.0039\n"
     ]
    },
    {
     "output_type": "stream",
     "name": "stderr",
     "text": [
      "C:\\Users\\Andy\\AppData\\Local\\Programs\\Python\\Python39\\lib\\site-packages\\torch\\nn\\modules\\rnn.py:62: UserWarning: dropout option adds dropout after all but last recurrent layer, so non-zero dropout expects num_layers greater than 1, but got dropout=0.2 and num_layers=1\n",
      "  warnings.warn(\"dropout option adds dropout after all but last \"\n",
      "C:\\Users\\Andy\\AppData\\Local\\Programs\\Python\\Python39\\lib\\site-packages\\torch\\nn\\modules\\loss.py:528: UserWarning: Using a target size (torch.Size([20, 1])) that is different to the input size (torch.Size([20])). This will likely lead to incorrect results due to broadcasting. Please ensure they have the same size.\n",
      "  return F.mse_loss(input, target, reduction=self.reduction)\n"
     ]
    },
    {
     "output_type": "stream",
     "name": "stdout",
     "text": [
      "Epoch: 5  Training Error: 0.0044  Validation Error: 0.0040\n",
      "Epoch: 6  Training Error: 0.0041  Validation Error: 0.0038\n",
      "Epoch: 7  Training Error: 0.0042  Validation Error: 0.0039\n",
      "Epoch: 8  Training Error: 0.0042  Validation Error: 0.0040\n",
      "Epoch: 9  Training Error: 0.0043  Validation Error: 0.0040\n",
      "Epoch: 10  Training Error: 0.0043  Validation Error: 0.0040\n",
      "R-squared: 0.6868\n",
      "Mean Square Error: 0.0209\n",
      "Epoch: 1  Training Error: 0.0438  Validation Error: 0.0056\n",
      "Epoch: 2  Training Error: 0.0683  Validation Error: 0.0188\n"
     ]
    },
    {
     "output_type": "stream",
     "name": "stderr",
     "text": [
      "C:\\Users\\Andy\\AppData\\Local\\Programs\\Python\\Python39\\lib\\site-packages\\torch\\nn\\modules\\rnn.py:62: UserWarning: dropout option adds dropout after all but last recurrent layer, so non-zero dropout expects num_layers greater than 1, but got dropout=0.2 and num_layers=1\n",
      "  warnings.warn(\"dropout option adds dropout after all but last \"\n",
      "C:\\Users\\Andy\\AppData\\Local\\Programs\\Python\\Python39\\lib\\site-packages\\torch\\nn\\modules\\loss.py:528: UserWarning: Using a target size (torch.Size([20, 1])) that is different to the input size (torch.Size([20])). This will likely lead to incorrect results due to broadcasting. Please ensure they have the same size.\n",
      "  return F.mse_loss(input, target, reduction=self.reduction)\n"
     ]
    },
    {
     "output_type": "stream",
     "name": "stdout",
     "text": [
      "Epoch: 3  Training Error: 0.0163  Validation Error: 0.0047\n",
      "Epoch: 4  Training Error: 0.0058  Validation Error: 0.0037\n",
      "Epoch: 5  Training Error: 0.0044  Validation Error: 0.0039\n",
      "Epoch: 6  Training Error: 0.0042  Validation Error: 0.0039\n",
      "Epoch: 7  Training Error: 0.0041  Validation Error: 0.0038\n",
      "Epoch: 8  Training Error: 0.0042  Validation Error: 0.0039\n",
      "R-squared: 0.7856\n",
      "Mean Square Error: 0.0173\n",
      "Epoch: 1  Training Error: 0.0350  Validation Error: 0.0035\n",
      "Epoch: 2  Training Error: 0.0560  Validation Error: 0.0086\n",
      "Epoch: 3  Training Error: 0.0152  Validation Error: 0.0041\n"
     ]
    },
    {
     "output_type": "stream",
     "name": "stderr",
     "text": [
      "C:\\Users\\Andy\\AppData\\Local\\Programs\\Python\\Python39\\lib\\site-packages\\torch\\nn\\modules\\rnn.py:62: UserWarning: dropout option adds dropout after all but last recurrent layer, so non-zero dropout expects num_layers greater than 1, but got dropout=0.2 and num_layers=1\n",
      "  warnings.warn(\"dropout option adds dropout after all but last \"\n",
      "C:\\Users\\Andy\\AppData\\Local\\Programs\\Python\\Python39\\lib\\site-packages\\torch\\nn\\modules\\loss.py:528: UserWarning: Using a target size (torch.Size([20, 1])) that is different to the input size (torch.Size([20])). This will likely lead to incorrect results due to broadcasting. Please ensure they have the same size.\n",
      "  return F.mse_loss(input, target, reduction=self.reduction)\n"
     ]
    },
    {
     "output_type": "stream",
     "name": "stdout",
     "text": [
      "Epoch: 4  Training Error: 0.0052  Validation Error: 0.0039\n",
      "Epoch: 5  Training Error: 0.0043  Validation Error: 0.0041\n",
      "R-squared: 0.6867\n",
      "Mean Square Error: 0.0209\n",
      "Epoch: 1  Training Error: 0.0388  Validation Error: 0.0042\n",
      "Epoch: 2  Training Error: 0.0550  Validation Error: 0.0083\n"
     ]
    },
    {
     "output_type": "stream",
     "name": "stderr",
     "text": [
      "C:\\Users\\Andy\\AppData\\Local\\Programs\\Python\\Python39\\lib\\site-packages\\torch\\nn\\modules\\rnn.py:62: UserWarning: dropout option adds dropout after all but last recurrent layer, so non-zero dropout expects num_layers greater than 1, but got dropout=0.2 and num_layers=1\n",
      "  warnings.warn(\"dropout option adds dropout after all but last \"\n",
      "C:\\Users\\Andy\\AppData\\Local\\Programs\\Python\\Python39\\lib\\site-packages\\torch\\nn\\modules\\loss.py:528: UserWarning: Using a target size (torch.Size([20, 1])) that is different to the input size (torch.Size([20])). This will likely lead to incorrect results due to broadcasting. Please ensure they have the same size.\n",
      "  return F.mse_loss(input, target, reduction=self.reduction)\n"
     ]
    },
    {
     "output_type": "stream",
     "name": "stdout",
     "text": [
      "Epoch: 3  Training Error: 0.0142  Validation Error: 0.0041\n",
      "Epoch: 4  Training Error: 0.0050  Validation Error: 0.0040\n",
      "Epoch: 5  Training Error: 0.0044  Validation Error: 0.0041\n",
      "Epoch: 6  Training Error: 0.0042  Validation Error: 0.0039\n",
      "Epoch: 7  Training Error: 0.0042  Validation Error: 0.0039\n",
      "Epoch: 8  Training Error: 0.0042  Validation Error: 0.0040\n",
      "Epoch: 9  Training Error: 0.0042  Validation Error: 0.0040\n",
      "Epoch: 10  Training Error: 0.0043  Validation Error: 0.0040\n",
      "Epoch: 11  Training Error: 0.0043  Validation Error: 0.0040\n",
      "R-squared: 0.6722\n",
      "Mean Square Error: 0.0214\n"
     ]
    },
    {
     "output_type": "stream",
     "name": "stderr",
     "text": [
      "C:\\Users\\Andy\\AppData\\Local\\Programs\\Python\\Python39\\lib\\site-packages\\torch\\nn\\modules\\rnn.py:62: UserWarning: dropout option adds dropout after all but last recurrent layer, so non-zero dropout expects num_layers greater than 1, but got dropout=0.2 and num_layers=1\n",
      "  warnings.warn(\"dropout option adds dropout after all but last \"\n",
      "C:\\Users\\Andy\\AppData\\Local\\Programs\\Python\\Python39\\lib\\site-packages\\torch\\nn\\modules\\loss.py:528: UserWarning: Using a target size (torch.Size([20, 1])) that is different to the input size (torch.Size([20])). This will likely lead to incorrect results due to broadcasting. Please ensure they have the same size.\n",
      "  return F.mse_loss(input, target, reduction=self.reduction)\n"
     ]
    },
    {
     "output_type": "stream",
     "name": "stdout",
     "text": [
      "Epoch: 1  Training Error: 0.0485  Validation Error: 0.0064\n",
      "Epoch: 2  Training Error: 0.0598  Validation Error: 0.0158\n",
      "Epoch: 3  Training Error: 0.0132  Validation Error: 0.0038\n",
      "Epoch: 4  Training Error: 0.0055  Validation Error: 0.0035\n",
      "Epoch: 5  Training Error: 0.0044  Validation Error: 0.0037\n",
      "Epoch: 6  Training Error: 0.0042  Validation Error: 0.0038\n",
      "Epoch: 7  Training Error: 0.0041  Validation Error: 0.0038\n",
      "Epoch: 8  Training Error: 0.0042  Validation Error: 0.0039\n",
      "R-squared: 0.7507\n",
      "Mean Square Error: 0.0187\n",
      "Epoch: 1  Training Error: 0.0506  Validation Error: 0.0061\n"
     ]
    },
    {
     "output_type": "stream",
     "name": "stderr",
     "text": [
      "C:\\Users\\Andy\\AppData\\Local\\Programs\\Python\\Python39\\lib\\site-packages\\torch\\nn\\modules\\rnn.py:62: UserWarning: dropout option adds dropout after all but last recurrent layer, so non-zero dropout expects num_layers greater than 1, but got dropout=0.2 and num_layers=1\n",
      "  warnings.warn(\"dropout option adds dropout after all but last \"\n",
      "C:\\Users\\Andy\\AppData\\Local\\Programs\\Python\\Python39\\lib\\site-packages\\torch\\nn\\modules\\loss.py:528: UserWarning: Using a target size (torch.Size([20, 1])) that is different to the input size (torch.Size([20])). This will likely lead to incorrect results due to broadcasting. Please ensure they have the same size.\n",
      "  return F.mse_loss(input, target, reduction=self.reduction)\n"
     ]
    },
    {
     "output_type": "stream",
     "name": "stdout",
     "text": [
      "Epoch: 2  Training Error: 0.0711  Validation Error: 0.0244\n",
      "Epoch: 3  Training Error: 0.0178  Validation Error: 0.0046\n",
      "Epoch: 4  Training Error: 0.0082  Validation Error: 0.0034\n",
      "Epoch: 5  Training Error: 0.0050  Validation Error: 0.0036\n",
      "Epoch: 6  Training Error: 0.0043  Validation Error: 0.0038\n",
      "Epoch: 7  Training Error: 0.0041  Validation Error: 0.0038\n",
      "Epoch: 8  Training Error: 0.0041  Validation Error: 0.0039\n",
      "R-squared: 0.7425\n",
      "Mean Square Error: 0.0190\n",
      "Epoch: 1  Training Error: 0.0349  Validation Error: 0.0039\n",
      "Epoch: 2  Training Error: 0.0570  Validation Error: 0.0079\n"
     ]
    },
    {
     "output_type": "stream",
     "name": "stderr",
     "text": [
      "C:\\Users\\Andy\\AppData\\Local\\Programs\\Python\\Python39\\lib\\site-packages\\torch\\nn\\modules\\rnn.py:62: UserWarning: dropout option adds dropout after all but last recurrent layer, so non-zero dropout expects num_layers greater than 1, but got dropout=0.2 and num_layers=1\n",
      "  warnings.warn(\"dropout option adds dropout after all but last \"\n",
      "C:\\Users\\Andy\\AppData\\Local\\Programs\\Python\\Python39\\lib\\site-packages\\torch\\nn\\modules\\loss.py:528: UserWarning: Using a target size (torch.Size([20, 1])) that is different to the input size (torch.Size([20])). This will likely lead to incorrect results due to broadcasting. Please ensure they have the same size.\n",
      "  return F.mse_loss(input, target, reduction=self.reduction)\n"
     ]
    },
    {
     "output_type": "stream",
     "name": "stdout",
     "text": [
      "Epoch: 3  Training Error: 0.0145  Validation Error: 0.0041\n",
      "Epoch: 4  Training Error: 0.0048  Validation Error: 0.0040\n",
      "Epoch: 5  Training Error: 0.0043  Validation Error: 0.0040\n",
      "Epoch: 6  Training Error: 0.0041  Validation Error: 0.0038\n",
      "Epoch: 7  Training Error: 0.0042  Validation Error: 0.0040\n",
      "Epoch: 8  Training Error: 0.0043  Validation Error: 0.0041\n",
      "Epoch: 9  Training Error: 0.0043  Validation Error: 0.0041\n",
      "Epoch: 10  Training Error: 0.0043  Validation Error: 0.0041\n",
      "R-squared: 0.6682\n",
      "Mean Square Error: 0.0215\n",
      "Epoch: 1  Training Error: 0.0360  Validation Error: 0.0032\n",
      "Epoch: 2  Training Error: 0.0566  Validation Error: 0.0075\n",
      "Epoch: 3  Training Error: 0.0150  Validation Error: 0.0039\n",
      "Epoch: 4  Training Error: 0.0050  Validation Error: 0.0040\n"
     ]
    },
    {
     "output_type": "stream",
     "name": "stderr",
     "text": [
      "C:\\Users\\Andy\\AppData\\Local\\Programs\\Python\\Python39\\lib\\site-packages\\torch\\nn\\modules\\rnn.py:62: UserWarning: dropout option adds dropout after all but last recurrent layer, so non-zero dropout expects num_layers greater than 1, but got dropout=0.2 and num_layers=1\n",
      "  warnings.warn(\"dropout option adds dropout after all but last \"\n",
      "C:\\Users\\Andy\\AppData\\Local\\Programs\\Python\\Python39\\lib\\site-packages\\torch\\nn\\modules\\loss.py:528: UserWarning: Using a target size (torch.Size([20, 1])) that is different to the input size (torch.Size([20])). This will likely lead to incorrect results due to broadcasting. Please ensure they have the same size.\n",
      "  return F.mse_loss(input, target, reduction=self.reduction)\n"
     ]
    },
    {
     "output_type": "stream",
     "name": "stdout",
     "text": [
      "Epoch: 5  Training Error: 0.0043  Validation Error: 0.0041\n",
      "R-squared: 0.7987\n",
      "Mean Square Error: 0.0168\n",
      "Epoch: 1  Training Error: 0.0361  Validation Error: 0.0046\n",
      "Epoch: 2  Training Error: 0.0516  Validation Error: 0.0083\n"
     ]
    },
    {
     "output_type": "stream",
     "name": "stderr",
     "text": [
      "C:\\Users\\Andy\\AppData\\Local\\Programs\\Python\\Python39\\lib\\site-packages\\torch\\nn\\modules\\rnn.py:62: UserWarning: dropout option adds dropout after all but last recurrent layer, so non-zero dropout expects num_layers greater than 1, but got dropout=0.2 and num_layers=1\n",
      "  warnings.warn(\"dropout option adds dropout after all but last \"\n",
      "C:\\Users\\Andy\\AppData\\Local\\Programs\\Python\\Python39\\lib\\site-packages\\torch\\nn\\modules\\loss.py:528: UserWarning: Using a target size (torch.Size([20, 1])) that is different to the input size (torch.Size([20])). This will likely lead to incorrect results due to broadcasting. Please ensure they have the same size.\n",
      "  return F.mse_loss(input, target, reduction=self.reduction)\n"
     ]
    },
    {
     "output_type": "stream",
     "name": "stdout",
     "text": [
      "Epoch: 3  Training Error: 0.0136  Validation Error: 0.0042\n",
      "Epoch: 4  Training Error: 0.0047  Validation Error: 0.0041\n",
      "Epoch: 5  Training Error: 0.0043  Validation Error: 0.0042\n",
      "Epoch: 6  Training Error: 0.0041  Validation Error: 0.0039\n",
      "Epoch: 7  Training Error: 0.0042  Validation Error: 0.0040\n",
      "Epoch: 8  Training Error: 0.0043  Validation Error: 0.0041\n",
      "Epoch: 9  Training Error: 0.0043  Validation Error: 0.0041\n",
      "Epoch: 10  Training Error: 0.0043  Validation Error: 0.0041\n",
      "R-squared: 0.6576\n",
      "Mean Square Error: 0.0219\n",
      "Epoch: 1  Training Error: 0.0387  Validation Error: 0.0030\n"
     ]
    },
    {
     "output_type": "stream",
     "name": "stderr",
     "text": [
      "C:\\Users\\Andy\\AppData\\Local\\Programs\\Python\\Python39\\lib\\site-packages\\torch\\nn\\modules\\rnn.py:62: UserWarning: dropout option adds dropout after all but last recurrent layer, so non-zero dropout expects num_layers greater than 1, but got dropout=0.2 and num_layers=1\n",
      "  warnings.warn(\"dropout option adds dropout after all but last \"\n",
      "C:\\Users\\Andy\\AppData\\Local\\Programs\\Python\\Python39\\lib\\site-packages\\torch\\nn\\modules\\loss.py:528: UserWarning: Using a target size (torch.Size([20, 1])) that is different to the input size (torch.Size([20])). This will likely lead to incorrect results due to broadcasting. Please ensure they have the same size.\n",
      "  return F.mse_loss(input, target, reduction=self.reduction)\n"
     ]
    },
    {
     "output_type": "stream",
     "name": "stdout",
     "text": [
      "Epoch: 2  Training Error: 0.0595  Validation Error: 0.0114\n",
      "Epoch: 3  Training Error: 0.0148  Validation Error: 0.0038\n",
      "Epoch: 4  Training Error: 0.0052  Validation Error: 0.0036\n",
      "Epoch: 5  Training Error: 0.0043  Validation Error: 0.0039\n",
      "R-squared: 0.7543\n",
      "Mean Square Error: 0.0185\n"
     ]
    },
    {
     "output_type": "stream",
     "name": "stderr",
     "text": [
      "C:\\Users\\Andy\\AppData\\Local\\Programs\\Python\\Python39\\lib\\site-packages\\torch\\nn\\modules\\rnn.py:62: UserWarning: dropout option adds dropout after all but last recurrent layer, so non-zero dropout expects num_layers greater than 1, but got dropout=0.2 and num_layers=1\n",
      "  warnings.warn(\"dropout option adds dropout after all but last \"\n",
      "C:\\Users\\Andy\\AppData\\Local\\Programs\\Python\\Python39\\lib\\site-packages\\torch\\nn\\modules\\loss.py:528: UserWarning: Using a target size (torch.Size([20, 1])) that is different to the input size (torch.Size([20])). This will likely lead to incorrect results due to broadcasting. Please ensure they have the same size.\n",
      "  return F.mse_loss(input, target, reduction=self.reduction)\n"
     ]
    },
    {
     "output_type": "stream",
     "name": "stdout",
     "text": [
      "Epoch: 1  Training Error: 0.0319  Validation Error: 0.0058\n",
      "Epoch: 2  Training Error: 0.0694  Validation Error: 0.0084\n",
      "Epoch: 3  Training Error: 0.0213  Validation Error: 0.0041\n",
      "Epoch: 4  Training Error: 0.0061  Validation Error: 0.0035\n",
      "Epoch: 5  Training Error: 0.0045  Validation Error: 0.0036\n",
      "Epoch: 6  Training Error: 0.0042  Validation Error: 0.0037\n",
      "Epoch: 7  Training Error: 0.0041  Validation Error: 0.0038\n",
      "Epoch: 8  Training Error: 0.0041  Validation Error: 0.0038\n",
      "R-squared: 0.7596\n",
      "Mean Square Error: 0.0183\n",
      "Epoch: 1  Training Error: 0.0339  Validation Error: 0.0046\n"
     ]
    },
    {
     "output_type": "stream",
     "name": "stderr",
     "text": [
      "C:\\Users\\Andy\\AppData\\Local\\Programs\\Python\\Python39\\lib\\site-packages\\torch\\nn\\modules\\rnn.py:62: UserWarning: dropout option adds dropout after all but last recurrent layer, so non-zero dropout expects num_layers greater than 1, but got dropout=0.2 and num_layers=1\n",
      "  warnings.warn(\"dropout option adds dropout after all but last \"\n",
      "C:\\Users\\Andy\\AppData\\Local\\Programs\\Python\\Python39\\lib\\site-packages\\torch\\nn\\modules\\loss.py:528: UserWarning: Using a target size (torch.Size([20, 1])) that is different to the input size (torch.Size([20])). This will likely lead to incorrect results due to broadcasting. Please ensure they have the same size.\n",
      "  return F.mse_loss(input, target, reduction=self.reduction)\n"
     ]
    },
    {
     "output_type": "stream",
     "name": "stdout",
     "text": [
      "Epoch: 2  Training Error: 0.0541  Validation Error: 0.0098\n",
      "Epoch: 3  Training Error: 0.0154  Validation Error: 0.0049\n",
      "Epoch: 4  Training Error: 0.0051  Validation Error: 0.0044\n",
      "Epoch: 5  Training Error: 0.0043  Validation Error: 0.0044\n",
      "Epoch: 6  Training Error: 0.0042  Validation Error: 0.0040\n",
      "Epoch: 7  Training Error: 0.0041  Validation Error: 0.0040\n",
      "Epoch: 8  Training Error: 0.0042  Validation Error: 0.0040\n",
      "Epoch: 9  Training Error: 0.0043  Validation Error: 0.0041\n",
      "Epoch: 10  Training Error: 0.0043  Validation Error: 0.0041\n",
      "Epoch: 11  Training Error: 0.0043  Validation Error: 0.0041\n",
      "R-squared: 0.6296\n",
      "Mean Square Error: 0.0227\n",
      "Epoch: 1  Training Error: 0.0551  Validation Error: 0.0146\n",
      "Epoch: 2  Training Error: 0.0649  Validation Error: 0.0279\n",
      "Epoch: 3  Training Error: 0.0165  Validation Error: 0.0056\n",
      "Epoch: 4  Training Error: 0.0076  Validation Error: 0.0033\n"
     ]
    },
    {
     "output_type": "stream",
     "name": "stderr",
     "text": [
      "C:\\Users\\Andy\\AppData\\Local\\Programs\\Python\\Python39\\lib\\site-packages\\torch\\nn\\modules\\rnn.py:62: UserWarning: dropout option adds dropout after all but last recurrent layer, so non-zero dropout expects num_layers greater than 1, but got dropout=0.2 and num_layers=1\n",
      "  warnings.warn(\"dropout option adds dropout after all but last \"\n",
      "C:\\Users\\Andy\\AppData\\Local\\Programs\\Python\\Python39\\lib\\site-packages\\torch\\nn\\modules\\loss.py:528: UserWarning: Using a target size (torch.Size([20, 1])) that is different to the input size (torch.Size([20])). This will likely lead to incorrect results due to broadcasting. Please ensure they have the same size.\n",
      "  return F.mse_loss(input, target, reduction=self.reduction)\n"
     ]
    },
    {
     "output_type": "stream",
     "name": "stdout",
     "text": [
      "Epoch: 5  Training Error: 0.0048  Validation Error: 0.0035\n",
      "Epoch: 6  Training Error: 0.0042  Validation Error: 0.0037\n",
      "Epoch: 7  Training Error: 0.0041  Validation Error: 0.0037\n",
      "Epoch: 8  Training Error: 0.0041  Validation Error: 0.0038\n",
      "R-squared: 0.7731\n",
      "Mean Square Error: 0.0178\n"
     ]
    },
    {
     "output_type": "stream",
     "name": "stderr",
     "text": [
      "C:\\Users\\Andy\\AppData\\Local\\Programs\\Python\\Python39\\lib\\site-packages\\torch\\nn\\modules\\rnn.py:62: UserWarning: dropout option adds dropout after all but last recurrent layer, so non-zero dropout expects num_layers greater than 1, but got dropout=0.2 and num_layers=1\n",
      "  warnings.warn(\"dropout option adds dropout after all but last \"\n",
      "C:\\Users\\Andy\\AppData\\Local\\Programs\\Python\\Python39\\lib\\site-packages\\torch\\nn\\modules\\loss.py:528: UserWarning: Using a target size (torch.Size([20, 1])) that is different to the input size (torch.Size([20])). This will likely lead to incorrect results due to broadcasting. Please ensure they have the same size.\n",
      "  return F.mse_loss(input, target, reduction=self.reduction)\n"
     ]
    },
    {
     "output_type": "stream",
     "name": "stdout",
     "text": [
      "Epoch: 1  Training Error: 0.0469  Validation Error: 0.0051\n",
      "Epoch: 2  Training Error: 0.0641  Validation Error: 0.0177\n",
      "Epoch: 3  Training Error: 0.0152  Validation Error: 0.0044\n",
      "Epoch: 4  Training Error: 0.0059  Validation Error: 0.0038\n",
      "Epoch: 5  Training Error: 0.0044  Validation Error: 0.0040\n",
      "Epoch: 6  Training Error: 0.0042  Validation Error: 0.0040\n",
      "Epoch: 7  Training Error: 0.0041  Validation Error: 0.0039\n",
      "Epoch: 8  Training Error: 0.0042  Validation Error: 0.0039\n",
      "R-squared: 0.7511\n",
      "Mean Square Error: 0.0186\n"
     ]
    },
    {
     "output_type": "stream",
     "name": "stderr",
     "text": [
      "C:\\Users\\Andy\\AppData\\Local\\Programs\\Python\\Python39\\lib\\site-packages\\torch\\nn\\modules\\rnn.py:62: UserWarning: dropout option adds dropout after all but last recurrent layer, so non-zero dropout expects num_layers greater than 1, but got dropout=0.2 and num_layers=1\n",
      "  warnings.warn(\"dropout option adds dropout after all but last \"\n",
      "C:\\Users\\Andy\\AppData\\Local\\Programs\\Python\\Python39\\lib\\site-packages\\torch\\nn\\modules\\loss.py:528: UserWarning: Using a target size (torch.Size([20, 1])) that is different to the input size (torch.Size([20])). This will likely lead to incorrect results due to broadcasting. Please ensure they have the same size.\n",
      "  return F.mse_loss(input, target, reduction=self.reduction)\n"
     ]
    },
    {
     "output_type": "stream",
     "name": "stdout",
     "text": [
      "Epoch: 1  Training Error: 0.0507  Validation Error: 0.0070\n",
      "Epoch: 2  Training Error: 0.0658  Validation Error: 0.0199\n",
      "Epoch: 3  Training Error: 0.0157  Validation Error: 0.0041\n",
      "Epoch: 4  Training Error: 0.0069  Validation Error: 0.0036\n",
      "Epoch: 5  Training Error: 0.0047  Validation Error: 0.0037\n",
      "Epoch: 6  Training Error: 0.0043  Validation Error: 0.0038\n",
      "Epoch: 7  Training Error: 0.0042  Validation Error: 0.0038\n",
      "Epoch: 8  Training Error: 0.0041  Validation Error: 0.0038\n",
      "R-squared: 0.8004\n",
      "Mean Square Error: 0.0167\n",
      "Epoch: 1  Training Error: 0.0573  Validation Error: 0.0145\n"
     ]
    },
    {
     "output_type": "stream",
     "name": "stderr",
     "text": [
      "C:\\Users\\Andy\\AppData\\Local\\Programs\\Python\\Python39\\lib\\site-packages\\torch\\nn\\modules\\rnn.py:62: UserWarning: dropout option adds dropout after all but last recurrent layer, so non-zero dropout expects num_layers greater than 1, but got dropout=0.2 and num_layers=1\n",
      "  warnings.warn(\"dropout option adds dropout after all but last \"\n",
      "C:\\Users\\Andy\\AppData\\Local\\Programs\\Python\\Python39\\lib\\site-packages\\torch\\nn\\modules\\loss.py:528: UserWarning: Using a target size (torch.Size([20, 1])) that is different to the input size (torch.Size([20])). This will likely lead to incorrect results due to broadcasting. Please ensure they have the same size.\n",
      "  return F.mse_loss(input, target, reduction=self.reduction)\n"
     ]
    },
    {
     "output_type": "stream",
     "name": "stdout",
     "text": [
      "Epoch: 2  Training Error: 0.0707  Validation Error: 0.0342\n",
      "Epoch: 3  Training Error: 0.0161  Validation Error: 0.0069\n",
      "Epoch: 4  Training Error: 0.0075  Validation Error: 0.0039\n",
      "Epoch: 5  Training Error: 0.0047  Validation Error: 0.0040\n",
      "Epoch: 6  Training Error: 0.0042  Validation Error: 0.0040\n",
      "Epoch: 7  Training Error: 0.0041  Validation Error: 0.0039\n",
      "Epoch: 8  Training Error: 0.0041  Validation Error: 0.0039\n",
      "R-squared: 0.7418\n",
      "Mean Square Error: 0.0190\n"
     ]
    },
    {
     "output_type": "stream",
     "name": "stderr",
     "text": [
      "C:\\Users\\Andy\\AppData\\Local\\Programs\\Python\\Python39\\lib\\site-packages\\torch\\nn\\modules\\rnn.py:62: UserWarning: dropout option adds dropout after all but last recurrent layer, so non-zero dropout expects num_layers greater than 1, but got dropout=0.2 and num_layers=1\n",
      "  warnings.warn(\"dropout option adds dropout after all but last \"\n",
      "C:\\Users\\Andy\\AppData\\Local\\Programs\\Python\\Python39\\lib\\site-packages\\torch\\nn\\modules\\loss.py:528: UserWarning: Using a target size (torch.Size([20, 1])) that is different to the input size (torch.Size([20])). This will likely lead to incorrect results due to broadcasting. Please ensure they have the same size.\n",
      "  return F.mse_loss(input, target, reduction=self.reduction)\n"
     ]
    },
    {
     "output_type": "stream",
     "name": "stdout",
     "text": [
      "Epoch: 1  Training Error: 0.0498  Validation Error: 0.0087\n",
      "Epoch: 2  Training Error: 0.0602  Validation Error: 0.0192\n",
      "Epoch: 3  Training Error: 0.0138  Validation Error: 0.0044\n",
      "Epoch: 4  Training Error: 0.0057  Validation Error: 0.0036\n",
      "Epoch: 5  Training Error: 0.0044  Validation Error: 0.0038\n",
      "Epoch: 6  Training Error: 0.0042  Validation Error: 0.0039\n",
      "Epoch: 7  Training Error: 0.0042  Validation Error: 0.0038\n",
      "Epoch: 8  Training Error: 0.0042  Validation Error: 0.0039\n",
      "R-squared: 0.7657\n",
      "Mean Square Error: 0.0181\n",
      "Epoch: 1  Training Error: 0.0598  Validation Error: 0.0131\n"
     ]
    },
    {
     "output_type": "stream",
     "name": "stderr",
     "text": [
      "C:\\Users\\Andy\\AppData\\Local\\Programs\\Python\\Python39\\lib\\site-packages\\torch\\nn\\modules\\rnn.py:62: UserWarning: dropout option adds dropout after all but last recurrent layer, so non-zero dropout expects num_layers greater than 1, but got dropout=0.2 and num_layers=1\n",
      "  warnings.warn(\"dropout option adds dropout after all but last \"\n",
      "C:\\Users\\Andy\\AppData\\Local\\Programs\\Python\\Python39\\lib\\site-packages\\torch\\nn\\modules\\loss.py:528: UserWarning: Using a target size (torch.Size([20, 1])) that is different to the input size (torch.Size([20])). This will likely lead to incorrect results due to broadcasting. Please ensure they have the same size.\n",
      "  return F.mse_loss(input, target, reduction=self.reduction)\n"
     ]
    },
    {
     "output_type": "stream",
     "name": "stdout",
     "text": [
      "Epoch: 2  Training Error: 0.0651  Validation Error: 0.0280\n",
      "Epoch: 3  Training Error: 0.0158  Validation Error: 0.0051\n",
      "Epoch: 4  Training Error: 0.0075  Validation Error: 0.0034\n",
      "Epoch: 5  Training Error: 0.0047  Validation Error: 0.0036\n",
      "Epoch: 6  Training Error: 0.0042  Validation Error: 0.0038\n",
      "Epoch: 7  Training Error: 0.0041  Validation Error: 0.0038\n",
      "Epoch: 8  Training Error: 0.0042  Validation Error: 0.0039\n",
      "R-squared: 0.7286\n",
      "Mean Square Error: 0.0195\n",
      "Epoch: 1  Training Error: 0.0373  Validation Error: 0.0040\n",
      "Epoch: 2  Training Error: 0.0627  Validation Error: 0.0145\n"
     ]
    },
    {
     "output_type": "stream",
     "name": "stderr",
     "text": [
      "C:\\Users\\Andy\\AppData\\Local\\Programs\\Python\\Python39\\lib\\site-packages\\torch\\nn\\modules\\rnn.py:62: UserWarning: dropout option adds dropout after all but last recurrent layer, so non-zero dropout expects num_layers greater than 1, but got dropout=0.2 and num_layers=1\n",
      "  warnings.warn(\"dropout option adds dropout after all but last \"\n",
      "C:\\Users\\Andy\\AppData\\Local\\Programs\\Python\\Python39\\lib\\site-packages\\torch\\nn\\modules\\loss.py:528: UserWarning: Using a target size (torch.Size([20, 1])) that is different to the input size (torch.Size([20])). This will likely lead to incorrect results due to broadcasting. Please ensure they have the same size.\n",
      "  return F.mse_loss(input, target, reduction=self.reduction)\n"
     ]
    },
    {
     "output_type": "stream",
     "name": "stdout",
     "text": [
      "Epoch: 3  Training Error: 0.0163  Validation Error: 0.0038\n",
      "Epoch: 4  Training Error: 0.0057  Validation Error: 0.0035\n",
      "Epoch: 5  Training Error: 0.0044  Validation Error: 0.0037\n",
      "Epoch: 6  Training Error: 0.0042  Validation Error: 0.0038\n",
      "Epoch: 7  Training Error: 0.0041  Validation Error: 0.0038\n",
      "Epoch: 8  Training Error: 0.0042  Validation Error: 0.0039\n",
      "R-squared: 0.7460\n",
      "Mean Square Error: 0.0188\n",
      "Epoch: 1  Training Error: 0.0452  Validation Error: 0.0081\n",
      "Epoch: 2  Training Error: 0.0590  Validation Error: 0.0175\n",
      "Epoch: 3  Training Error: 0.0145  Validation Error: 0.0045\n"
     ]
    },
    {
     "output_type": "stream",
     "name": "stderr",
     "text": [
      "C:\\Users\\Andy\\AppData\\Local\\Programs\\Python\\Python39\\lib\\site-packages\\torch\\nn\\modules\\rnn.py:62: UserWarning: dropout option adds dropout after all but last recurrent layer, so non-zero dropout expects num_layers greater than 1, but got dropout=0.2 and num_layers=1\n",
      "  warnings.warn(\"dropout option adds dropout after all but last \"\n",
      "C:\\Users\\Andy\\AppData\\Local\\Programs\\Python\\Python39\\lib\\site-packages\\torch\\nn\\modules\\loss.py:528: UserWarning: Using a target size (torch.Size([20, 1])) that is different to the input size (torch.Size([20])). This will likely lead to incorrect results due to broadcasting. Please ensure they have the same size.\n",
      "  return F.mse_loss(input, target, reduction=self.reduction)\n"
     ]
    },
    {
     "output_type": "stream",
     "name": "stdout",
     "text": [
      "Epoch: 4  Training Error: 0.0058  Validation Error: 0.0040\n",
      "Epoch: 5  Training Error: 0.0044  Validation Error: 0.0041\n",
      "Epoch: 6  Training Error: 0.0042  Validation Error: 0.0040\n",
      "Epoch: 7  Training Error: 0.0041  Validation Error: 0.0039\n",
      "Epoch: 8  Training Error: 0.0042  Validation Error: 0.0040\n",
      "Epoch: 9  Training Error: 0.0042  Validation Error: 0.0041\n",
      "Epoch: 10  Training Error: 0.0043  Validation Error: 0.0041\n",
      "Epoch: 11  Training Error: 0.0043  Validation Error: 0.0041\n",
      "R-squared: 0.6201\n",
      "Mean Square Error: 0.0230\n",
      "Epoch: 1  Training Error: 0.0388  Validation Error: 0.0037\n"
     ]
    },
    {
     "output_type": "stream",
     "name": "stderr",
     "text": [
      "C:\\Users\\Andy\\AppData\\Local\\Programs\\Python\\Python39\\lib\\site-packages\\torch\\nn\\modules\\rnn.py:62: UserWarning: dropout option adds dropout after all but last recurrent layer, so non-zero dropout expects num_layers greater than 1, but got dropout=0.2 and num_layers=1\n",
      "  warnings.warn(\"dropout option adds dropout after all but last \"\n",
      "C:\\Users\\Andy\\AppData\\Local\\Programs\\Python\\Python39\\lib\\site-packages\\torch\\nn\\modules\\loss.py:528: UserWarning: Using a target size (torch.Size([20, 1])) that is different to the input size (torch.Size([20])). This will likely lead to incorrect results due to broadcasting. Please ensure they have the same size.\n",
      "  return F.mse_loss(input, target, reduction=self.reduction)\n"
     ]
    },
    {
     "output_type": "stream",
     "name": "stdout",
     "text": [
      "Epoch: 2  Training Error: 0.0674  Validation Error: 0.0142\n",
      "Epoch: 3  Training Error: 0.0177  Validation Error: 0.0043\n",
      "Epoch: 4  Training Error: 0.0063  Validation Error: 0.0039\n",
      "Epoch: 5  Training Error: 0.0045  Validation Error: 0.0039\n",
      "R-squared: 0.5889\n",
      "Mean Square Error: 0.0240\n",
      "Epoch: 1  Training Error: 0.0524  Validation Error: 0.0125\n",
      "Epoch: 2  Training Error: 0.0665  Validation Error: 0.0239\n",
      "Epoch: 3  Training Error: 0.0165  Validation Error: 0.0050\n",
      "Epoch: 4  Training Error: 0.0070  Validation Error: 0.0036\n"
     ]
    },
    {
     "output_type": "stream",
     "name": "stderr",
     "text": [
      "C:\\Users\\Andy\\AppData\\Local\\Programs\\Python\\Python39\\lib\\site-packages\\torch\\nn\\modules\\rnn.py:62: UserWarning: dropout option adds dropout after all but last recurrent layer, so non-zero dropout expects num_layers greater than 1, but got dropout=0.2 and num_layers=1\n",
      "  warnings.warn(\"dropout option adds dropout after all but last \"\n",
      "C:\\Users\\Andy\\AppData\\Local\\Programs\\Python\\Python39\\lib\\site-packages\\torch\\nn\\modules\\loss.py:528: UserWarning: Using a target size (torch.Size([20, 1])) that is different to the input size (torch.Size([20])). This will likely lead to incorrect results due to broadcasting. Please ensure they have the same size.\n",
      "  return F.mse_loss(input, target, reduction=self.reduction)\n"
     ]
    },
    {
     "output_type": "stream",
     "name": "stdout",
     "text": [
      "Epoch: 5  Training Error: 0.0047  Validation Error: 0.0037\n",
      "Epoch: 6  Training Error: 0.0043  Validation Error: 0.0038\n",
      "Epoch: 7  Training Error: 0.0041  Validation Error: 0.0038\n",
      "Epoch: 8  Training Error: 0.0042  Validation Error: 0.0039\n",
      "R-squared: 0.7690\n",
      "Mean Square Error: 0.0180\n"
     ]
    },
    {
     "output_type": "stream",
     "name": "stderr",
     "text": [
      "C:\\Users\\Andy\\AppData\\Local\\Programs\\Python\\Python39\\lib\\site-packages\\torch\\nn\\modules\\rnn.py:62: UserWarning: dropout option adds dropout after all but last recurrent layer, so non-zero dropout expects num_layers greater than 1, but got dropout=0.2 and num_layers=1\n",
      "  warnings.warn(\"dropout option adds dropout after all but last \"\n",
      "C:\\Users\\Andy\\AppData\\Local\\Programs\\Python\\Python39\\lib\\site-packages\\torch\\nn\\modules\\loss.py:528: UserWarning: Using a target size (torch.Size([20, 1])) that is different to the input size (torch.Size([20])). This will likely lead to incorrect results due to broadcasting. Please ensure they have the same size.\n",
      "  return F.mse_loss(input, target, reduction=self.reduction)\n"
     ]
    },
    {
     "output_type": "stream",
     "name": "stdout",
     "text": [
      "Epoch: 1  Training Error: 0.0474  Validation Error: 0.0119\n",
      "Epoch: 2  Training Error: 0.0583  Validation Error: 0.0207\n",
      "Epoch: 3  Training Error: 0.0155  Validation Error: 0.0043\n",
      "Epoch: 4  Training Error: 0.0065  Validation Error: 0.0036\n",
      "Epoch: 5  Training Error: 0.0045  Validation Error: 0.0037\n",
      "Epoch: 6  Training Error: 0.0042  Validation Error: 0.0038\n",
      "Epoch: 7  Training Error: 0.0041  Validation Error: 0.0038\n",
      "Epoch: 8  Training Error: 0.0042  Validation Error: 0.0039\n",
      "R-squared: 0.7333\n",
      "Mean Square Error: 0.0193\n",
      "Epoch: 1  Training Error: 0.0504  Validation Error: 0.0130\n",
      "Epoch: 2  Training Error: 0.0654  Validation Error: 0.0259\n",
      "Epoch: 3  Training Error: 0.0165  Validation Error: 0.0049\n"
     ]
    },
    {
     "output_type": "stream",
     "name": "stderr",
     "text": [
      "C:\\Users\\Andy\\AppData\\Local\\Programs\\Python\\Python39\\lib\\site-packages\\torch\\nn\\modules\\rnn.py:62: UserWarning: dropout option adds dropout after all but last recurrent layer, so non-zero dropout expects num_layers greater than 1, but got dropout=0.2 and num_layers=1\n",
      "  warnings.warn(\"dropout option adds dropout after all but last \"\n",
      "C:\\Users\\Andy\\AppData\\Local\\Programs\\Python\\Python39\\lib\\site-packages\\torch\\nn\\modules\\loss.py:528: UserWarning: Using a target size (torch.Size([20, 1])) that is different to the input size (torch.Size([20])). This will likely lead to incorrect results due to broadcasting. Please ensure they have the same size.\n",
      "  return F.mse_loss(input, target, reduction=self.reduction)\n"
     ]
    },
    {
     "output_type": "stream",
     "name": "stdout",
     "text": [
      "Epoch: 4  Training Error: 0.0071  Validation Error: 0.0033\n",
      "Epoch: 5  Training Error: 0.0046  Validation Error: 0.0036\n",
      "Epoch: 6  Training Error: 0.0042  Validation Error: 0.0038\n",
      "Epoch: 7  Training Error: 0.0041  Validation Error: 0.0038\n",
      "Epoch: 8  Training Error: 0.0042  Validation Error: 0.0039\n",
      "R-squared: 0.7418\n",
      "Mean Square Error: 0.0190\n",
      "Epoch: 1  Training Error: 0.0411  Validation Error: 0.0042\n",
      "Epoch: 2  Training Error: 0.0580  Validation Error: 0.0136\n"
     ]
    },
    {
     "output_type": "stream",
     "name": "stderr",
     "text": [
      "C:\\Users\\Andy\\AppData\\Local\\Programs\\Python\\Python39\\lib\\site-packages\\torch\\nn\\modules\\rnn.py:62: UserWarning: dropout option adds dropout after all but last recurrent layer, so non-zero dropout expects num_layers greater than 1, but got dropout=0.2 and num_layers=1\n",
      "  warnings.warn(\"dropout option adds dropout after all but last \"\n",
      "C:\\Users\\Andy\\AppData\\Local\\Programs\\Python\\Python39\\lib\\site-packages\\torch\\nn\\modules\\loss.py:528: UserWarning: Using a target size (torch.Size([20, 1])) that is different to the input size (torch.Size([20])). This will likely lead to incorrect results due to broadcasting. Please ensure they have the same size.\n",
      "  return F.mse_loss(input, target, reduction=self.reduction)\n"
     ]
    },
    {
     "output_type": "stream",
     "name": "stdout",
     "text": [
      "Epoch: 3  Training Error: 0.0140  Validation Error: 0.0045\n",
      "Epoch: 4  Training Error: 0.0051  Validation Error: 0.0039\n",
      "Epoch: 5  Training Error: 0.0043  Validation Error: 0.0040\n",
      "Epoch: 6  Training Error: 0.0042  Validation Error: 0.0039\n",
      "Epoch: 7  Training Error: 0.0042  Validation Error: 0.0039\n",
      "Epoch: 8  Training Error: 0.0042  Validation Error: 0.0039\n",
      "Epoch: 9  Training Error: 0.0042  Validation Error: 0.0040\n",
      "Epoch: 10  Training Error: 0.0042  Validation Error: 0.0040\n",
      "Epoch: 11  Training Error: 0.0043  Validation Error: 0.0040\n",
      "R-squared: 0.6863\n",
      "Mean Square Error: 0.0209\n",
      "Epoch: 1  Training Error: 0.0430  Validation Error: 0.0040\n",
      "Epoch: 2  Training Error: 0.0608  Validation Error: 0.0133\n"
     ]
    },
    {
     "output_type": "stream",
     "name": "stderr",
     "text": [
      "C:\\Users\\Andy\\AppData\\Local\\Programs\\Python\\Python39\\lib\\site-packages\\torch\\nn\\modules\\rnn.py:62: UserWarning: dropout option adds dropout after all but last recurrent layer, so non-zero dropout expects num_layers greater than 1, but got dropout=0.2 and num_layers=1\n",
      "  warnings.warn(\"dropout option adds dropout after all but last \"\n",
      "C:\\Users\\Andy\\AppData\\Local\\Programs\\Python\\Python39\\lib\\site-packages\\torch\\nn\\modules\\loss.py:528: UserWarning: Using a target size (torch.Size([20, 1])) that is different to the input size (torch.Size([20])). This will likely lead to incorrect results due to broadcasting. Please ensure they have the same size.\n",
      "  return F.mse_loss(input, target, reduction=self.reduction)\n"
     ]
    },
    {
     "output_type": "stream",
     "name": "stdout",
     "text": [
      "Epoch: 3  Training Error: 0.0149  Validation Error: 0.0039\n",
      "Epoch: 4  Training Error: 0.0056  Validation Error: 0.0037\n",
      "Epoch: 5  Training Error: 0.0044  Validation Error: 0.0038\n",
      "Epoch: 6  Training Error: 0.0042  Validation Error: 0.0039\n",
      "Epoch: 7  Training Error: 0.0041  Validation Error: 0.0038\n",
      "Epoch: 8  Training Error: 0.0042  Validation Error: 0.0039\n",
      "R-squared: 0.7582\n",
      "Mean Square Error: 0.0184\n",
      "Epoch: 1  Training Error: 0.0570  Validation Error: 0.0128\n"
     ]
    },
    {
     "output_type": "stream",
     "name": "stderr",
     "text": [
      "C:\\Users\\Andy\\AppData\\Local\\Programs\\Python\\Python39\\lib\\site-packages\\torch\\nn\\modules\\rnn.py:62: UserWarning: dropout option adds dropout after all but last recurrent layer, so non-zero dropout expects num_layers greater than 1, but got dropout=0.2 and num_layers=1\n",
      "  warnings.warn(\"dropout option adds dropout after all but last \"\n",
      "C:\\Users\\Andy\\AppData\\Local\\Programs\\Python\\Python39\\lib\\site-packages\\torch\\nn\\modules\\loss.py:528: UserWarning: Using a target size (torch.Size([20, 1])) that is different to the input size (torch.Size([20])). This will likely lead to incorrect results due to broadcasting. Please ensure they have the same size.\n",
      "  return F.mse_loss(input, target, reduction=self.reduction)\n"
     ]
    },
    {
     "output_type": "stream",
     "name": "stdout",
     "text": [
      "Epoch: 2  Training Error: 0.0650  Validation Error: 0.0268\n",
      "Epoch: 3  Training Error: 0.0165  Validation Error: 0.0049\n",
      "Epoch: 4  Training Error: 0.0080  Validation Error: 0.0033\n",
      "Epoch: 5  Training Error: 0.0049  Validation Error: 0.0035\n",
      "Epoch: 6  Training Error: 0.0043  Validation Error: 0.0037\n",
      "Epoch: 7  Training Error: 0.0042  Validation Error: 0.0037\n",
      "Epoch: 8  Training Error: 0.0041  Validation Error: 0.0038\n",
      "R-squared: 0.7628\n",
      "Mean Square Error: 0.0182\n",
      "Epoch: 1  Training Error: 0.0423  Validation Error: 0.0038\n"
     ]
    },
    {
     "output_type": "stream",
     "name": "stderr",
     "text": [
      "C:\\Users\\Andy\\AppData\\Local\\Programs\\Python\\Python39\\lib\\site-packages\\torch\\nn\\modules\\rnn.py:62: UserWarning: dropout option adds dropout after all but last recurrent layer, so non-zero dropout expects num_layers greater than 1, but got dropout=0.2 and num_layers=1\n",
      "  warnings.warn(\"dropout option adds dropout after all but last \"\n",
      "C:\\Users\\Andy\\AppData\\Local\\Programs\\Python\\Python39\\lib\\site-packages\\torch\\nn\\modules\\loss.py:528: UserWarning: Using a target size (torch.Size([20, 1])) that is different to the input size (torch.Size([20])). This will likely lead to incorrect results due to broadcasting. Please ensure they have the same size.\n",
      "  return F.mse_loss(input, target, reduction=self.reduction)\n"
     ]
    },
    {
     "output_type": "stream",
     "name": "stdout",
     "text": [
      "Epoch: 2  Training Error: 0.0694  Validation Error: 0.0184\n",
      "Epoch: 3  Training Error: 0.0176  Validation Error: 0.0044\n",
      "Epoch: 4  Training Error: 0.0066  Validation Error: 0.0036\n",
      "Epoch: 5  Training Error: 0.0045  Validation Error: 0.0037\n",
      "Epoch: 6  Training Error: 0.0042  Validation Error: 0.0038\n",
      "Epoch: 7  Training Error: 0.0041  Validation Error: 0.0038\n",
      "Epoch: 8  Training Error: 0.0041  Validation Error: 0.0039\n",
      "R-squared: 0.7700\n",
      "Mean Square Error: 0.0179\n"
     ]
    },
    {
     "output_type": "stream",
     "name": "stderr",
     "text": [
      "C:\\Users\\Andy\\AppData\\Local\\Programs\\Python\\Python39\\lib\\site-packages\\torch\\nn\\modules\\rnn.py:62: UserWarning: dropout option adds dropout after all but last recurrent layer, so non-zero dropout expects num_layers greater than 1, but got dropout=0.2 and num_layers=1\n",
      "  warnings.warn(\"dropout option adds dropout after all but last \"\n",
      "C:\\Users\\Andy\\AppData\\Local\\Programs\\Python\\Python39\\lib\\site-packages\\torch\\nn\\modules\\loss.py:528: UserWarning: Using a target size (torch.Size([20, 1])) that is different to the input size (torch.Size([20])). This will likely lead to incorrect results due to broadcasting. Please ensure they have the same size.\n",
      "  return F.mse_loss(input, target, reduction=self.reduction)\n"
     ]
    },
    {
     "output_type": "stream",
     "name": "stdout",
     "text": [
      "Epoch: 1  Training Error: 0.0393  Validation Error: 0.0034\n",
      "Epoch: 2  Training Error: 0.0579  Validation Error: 0.0088\n",
      "Epoch: 3  Training Error: 0.0137  Validation Error: 0.0037\n",
      "Epoch: 4  Training Error: 0.0048  Validation Error: 0.0038\n",
      "Epoch: 5  Training Error: 0.0043  Validation Error: 0.0039\n",
      "R-squared: 0.7818\n",
      "Mean Square Error: 0.0175\n",
      "Epoch: 1  Training Error: 0.0325  Validation Error: 0.0035\n",
      "Epoch: 2  Training Error: 0.0561  Validation Error: 0.0076\n",
      "Epoch: 3  Training Error: 0.0163  Validation Error: 0.0041\n"
     ]
    },
    {
     "output_type": "stream",
     "name": "stderr",
     "text": [
      "C:\\Users\\Andy\\AppData\\Local\\Programs\\Python\\Python39\\lib\\site-packages\\torch\\nn\\modules\\rnn.py:62: UserWarning: dropout option adds dropout after all but last recurrent layer, so non-zero dropout expects num_layers greater than 1, but got dropout=0.2 and num_layers=1\n",
      "  warnings.warn(\"dropout option adds dropout after all but last \"\n",
      "C:\\Users\\Andy\\AppData\\Local\\Programs\\Python\\Python39\\lib\\site-packages\\torch\\nn\\modules\\loss.py:528: UserWarning: Using a target size (torch.Size([20, 1])) that is different to the input size (torch.Size([20])). This will likely lead to incorrect results due to broadcasting. Please ensure they have the same size.\n",
      "  return F.mse_loss(input, target, reduction=self.reduction)\n"
     ]
    },
    {
     "output_type": "stream",
     "name": "stdout",
     "text": [
      "Epoch: 4  Training Error: 0.0052  Validation Error: 0.0037\n",
      "Epoch: 5  Training Error: 0.0043  Validation Error: 0.0039\n",
      "R-squared: 0.7707\n",
      "Mean Square Error: 0.0179\n",
      "Epoch: 1  Training Error: 0.0365  Validation Error: 0.0031\n"
     ]
    },
    {
     "output_type": "stream",
     "name": "stderr",
     "text": [
      "C:\\Users\\Andy\\AppData\\Local\\Programs\\Python\\Python39\\lib\\site-packages\\torch\\nn\\modules\\rnn.py:62: UserWarning: dropout option adds dropout after all but last recurrent layer, so non-zero dropout expects num_layers greater than 1, but got dropout=0.2 and num_layers=1\n",
      "  warnings.warn(\"dropout option adds dropout after all but last \"\n",
      "C:\\Users\\Andy\\AppData\\Local\\Programs\\Python\\Python39\\lib\\site-packages\\torch\\nn\\modules\\loss.py:528: UserWarning: Using a target size (torch.Size([20, 1])) that is different to the input size (torch.Size([20])). This will likely lead to incorrect results due to broadcasting. Please ensure they have the same size.\n",
      "  return F.mse_loss(input, target, reduction=self.reduction)\n"
     ]
    },
    {
     "output_type": "stream",
     "name": "stdout",
     "text": [
      "Epoch: 2  Training Error: 0.0694  Validation Error: 0.0143\n",
      "Epoch: 3  Training Error: 0.0181  Validation Error: 0.0041\n",
      "Epoch: 4  Training Error: 0.0059  Validation Error: 0.0035\n",
      "Epoch: 5  Training Error: 0.0044  Validation Error: 0.0037\n",
      "R-squared: 0.7707\n",
      "Mean Square Error: 0.0179\n",
      "Epoch: 1  Training Error: 0.0321  Validation Error: 0.0060\n",
      "Epoch: 2  Training Error: 0.0628  Validation Error: 0.0055\n",
      "Epoch: 3  Training Error: 0.0184  Validation Error: 0.0040\n"
     ]
    },
    {
     "output_type": "stream",
     "name": "stderr",
     "text": [
      "C:\\Users\\Andy\\AppData\\Local\\Programs\\Python\\Python39\\lib\\site-packages\\torch\\nn\\modules\\rnn.py:62: UserWarning: dropout option adds dropout after all but last recurrent layer, so non-zero dropout expects num_layers greater than 1, but got dropout=0.2 and num_layers=1\n",
      "  warnings.warn(\"dropout option adds dropout after all but last \"\n",
      "C:\\Users\\Andy\\AppData\\Local\\Programs\\Python\\Python39\\lib\\site-packages\\torch\\nn\\modules\\loss.py:528: UserWarning: Using a target size (torch.Size([20, 1])) that is different to the input size (torch.Size([20])). This will likely lead to incorrect results due to broadcasting. Please ensure they have the same size.\n",
      "  return F.mse_loss(input, target, reduction=self.reduction)\n"
     ]
    },
    {
     "output_type": "stream",
     "name": "stdout",
     "text": [
      "Epoch: 4  Training Error: 0.0053  Validation Error: 0.0040\n",
      "Epoch: 5  Training Error: 0.0044  Validation Error: 0.0041\n",
      "Epoch: 6  Training Error: 0.0042  Validation Error: 0.0039\n",
      "Epoch: 7  Training Error: 0.0041  Validation Error: 0.0039\n",
      "Epoch: 8  Training Error: 0.0042  Validation Error: 0.0040\n",
      "Epoch: 9  Training Error: 0.0042  Validation Error: 0.0040\n",
      "Epoch: 10  Training Error: 0.0042  Validation Error: 0.0040\n",
      "Epoch: 11  Training Error: 0.0042  Validation Error: 0.0040\n",
      "R-squared: 0.6835\n",
      "Mean Square Error: 0.0210\n"
     ]
    },
    {
     "output_type": "stream",
     "name": "stderr",
     "text": [
      "C:\\Users\\Andy\\AppData\\Local\\Programs\\Python\\Python39\\lib\\site-packages\\torch\\nn\\modules\\rnn.py:62: UserWarning: dropout option adds dropout after all but last recurrent layer, so non-zero dropout expects num_layers greater than 1, but got dropout=0.2 and num_layers=1\n",
      "  warnings.warn(\"dropout option adds dropout after all but last \"\n",
      "C:\\Users\\Andy\\AppData\\Local\\Programs\\Python\\Python39\\lib\\site-packages\\torch\\nn\\modules\\loss.py:528: UserWarning: Using a target size (torch.Size([20, 1])) that is different to the input size (torch.Size([20])). This will likely lead to incorrect results due to broadcasting. Please ensure they have the same size.\n",
      "  return F.mse_loss(input, target, reduction=self.reduction)\n"
     ]
    },
    {
     "output_type": "stream",
     "name": "stdout",
     "text": [
      "Epoch: 1  Training Error: 0.0660  Validation Error: 0.0283\n",
      "Epoch: 2  Training Error: 0.0715  Validation Error: 0.0392\n",
      "Epoch: 3  Training Error: 0.0183  Validation Error: 0.0077\n",
      "Epoch: 4  Training Error: 0.0087  Validation Error: 0.0037\n",
      "Epoch: 5  Training Error: 0.0049  Validation Error: 0.0038\n",
      "Epoch: 6  Training Error: 0.0042  Validation Error: 0.0039\n",
      "Epoch: 7  Training Error: 0.0041  Validation Error: 0.0039\n",
      "Epoch: 8  Training Error: 0.0041  Validation Error: 0.0039\n",
      "R-squared: 0.7224\n",
      "Mean Square Error: 0.0197\n",
      "Epoch: 1  Training Error: 0.0307  Validation Error: 0.0044\n",
      "Epoch: 2  Training Error: 0.0645  Validation Error: 0.0096\n",
      "Epoch: 3  Training Error: 0.0181  Validation Error: 0.0039\n",
      "Epoch: 4  Training Error: 0.0054  Validation Error: 0.0037\n"
     ]
    },
    {
     "output_type": "stream",
     "name": "stderr",
     "text": [
      "C:\\Users\\Andy\\AppData\\Local\\Programs\\Python\\Python39\\lib\\site-packages\\torch\\nn\\modules\\rnn.py:62: UserWarning: dropout option adds dropout after all but last recurrent layer, so non-zero dropout expects num_layers greater than 1, but got dropout=0.2 and num_layers=1\n",
      "  warnings.warn(\"dropout option adds dropout after all but last \"\n",
      "C:\\Users\\Andy\\AppData\\Local\\Programs\\Python\\Python39\\lib\\site-packages\\torch\\nn\\modules\\loss.py:528: UserWarning: Using a target size (torch.Size([20, 1])) that is different to the input size (torch.Size([20])). This will likely lead to incorrect results due to broadcasting. Please ensure they have the same size.\n",
      "  return F.mse_loss(input, target, reduction=self.reduction)\n"
     ]
    },
    {
     "output_type": "stream",
     "name": "stdout",
     "text": [
      "Epoch: 5  Training Error: 0.0044  Validation Error: 0.0038\n",
      "Epoch: 6  Training Error: 0.0042  Validation Error: 0.0038\n",
      "Epoch: 7  Training Error: 0.0041  Validation Error: 0.0038\n",
      "Epoch: 8  Training Error: 0.0042  Validation Error: 0.0039\n",
      "R-squared: 0.7638\n",
      "Mean Square Error: 0.0182\n",
      "Epoch: 1  Training Error: 0.0542  Validation Error: 0.0086\n",
      "Epoch: 2  Training Error: 0.0696  Validation Error: 0.0241\n",
      "Epoch: 3  Training Error: 0.0152  Validation Error: 0.0043\n"
     ]
    },
    {
     "output_type": "stream",
     "name": "stderr",
     "text": [
      "C:\\Users\\Andy\\AppData\\Local\\Programs\\Python\\Python39\\lib\\site-packages\\torch\\nn\\modules\\rnn.py:62: UserWarning: dropout option adds dropout after all but last recurrent layer, so non-zero dropout expects num_layers greater than 1, but got dropout=0.2 and num_layers=1\n",
      "  warnings.warn(\"dropout option adds dropout after all but last \"\n",
      "C:\\Users\\Andy\\AppData\\Local\\Programs\\Python\\Python39\\lib\\site-packages\\torch\\nn\\modules\\loss.py:528: UserWarning: Using a target size (torch.Size([20, 1])) that is different to the input size (torch.Size([20])). This will likely lead to incorrect results due to broadcasting. Please ensure they have the same size.\n",
      "  return F.mse_loss(input, target, reduction=self.reduction)\n"
     ]
    },
    {
     "output_type": "stream",
     "name": "stdout",
     "text": [
      "Epoch: 4  Training Error: 0.0068  Validation Error: 0.0033\n",
      "Epoch: 5  Training Error: 0.0046  Validation Error: 0.0036\n",
      "Epoch: 6  Training Error: 0.0042  Validation Error: 0.0037\n",
      "Epoch: 7  Training Error: 0.0041  Validation Error: 0.0038\n",
      "Epoch: 8  Training Error: 0.0042  Validation Error: 0.0039\n",
      "R-squared: 0.7511\n",
      "Mean Square Error: 0.0186\n",
      "Epoch: 1  Training Error: 0.0342  Validation Error: 0.0038\n",
      "Epoch: 2  Training Error: 0.0610  Validation Error: 0.0065\n"
     ]
    },
    {
     "output_type": "stream",
     "name": "stderr",
     "text": [
      "C:\\Users\\Andy\\AppData\\Local\\Programs\\Python\\Python39\\lib\\site-packages\\torch\\nn\\modules\\rnn.py:62: UserWarning: dropout option adds dropout after all but last recurrent layer, so non-zero dropout expects num_layers greater than 1, but got dropout=0.2 and num_layers=1\n",
      "  warnings.warn(\"dropout option adds dropout after all but last \"\n",
      "C:\\Users\\Andy\\AppData\\Local\\Programs\\Python\\Python39\\lib\\site-packages\\torch\\nn\\modules\\loss.py:528: UserWarning: Using a target size (torch.Size([20, 1])) that is different to the input size (torch.Size([20])). This will likely lead to incorrect results due to broadcasting. Please ensure they have the same size.\n",
      "  return F.mse_loss(input, target, reduction=self.reduction)\n"
     ]
    },
    {
     "output_type": "stream",
     "name": "stdout",
     "text": [
      "Epoch: 3  Training Error: 0.0178  Validation Error: 0.0036\n",
      "Epoch: 4  Training Error: 0.0054  Validation Error: 0.0036\n",
      "Epoch: 5  Training Error: 0.0044  Validation Error: 0.0038\n",
      "Epoch: 6  Training Error: 0.0042  Validation Error: 0.0038\n",
      "Epoch: 7  Training Error: 0.0041  Validation Error: 0.0038\n",
      "R-squared: 0.7954\n",
      "Mean Square Error: 0.0169\n",
      "Epoch: 1  Training Error: 0.0497  Validation Error: 0.0066\n",
      "Epoch: 2  Training Error: 0.0644  Validation Error: 0.0208\n",
      "Epoch: 3  Training Error: 0.0147  Validation Error: 0.0046\n"
     ]
    },
    {
     "output_type": "stream",
     "name": "stderr",
     "text": [
      "C:\\Users\\Andy\\AppData\\Local\\Programs\\Python\\Python39\\lib\\site-packages\\torch\\nn\\modules\\rnn.py:62: UserWarning: dropout option adds dropout after all but last recurrent layer, so non-zero dropout expects num_layers greater than 1, but got dropout=0.2 and num_layers=1\n",
      "  warnings.warn(\"dropout option adds dropout after all but last \"\n",
      "C:\\Users\\Andy\\AppData\\Local\\Programs\\Python\\Python39\\lib\\site-packages\\torch\\nn\\modules\\loss.py:528: UserWarning: Using a target size (torch.Size([20, 1])) that is different to the input size (torch.Size([20])). This will likely lead to incorrect results due to broadcasting. Please ensure they have the same size.\n",
      "  return F.mse_loss(input, target, reduction=self.reduction)\n"
     ]
    },
    {
     "output_type": "stream",
     "name": "stdout",
     "text": [
      "Epoch: 4  Training Error: 0.0062  Validation Error: 0.0035\n",
      "Epoch: 5  Training Error: 0.0044  Validation Error: 0.0037\n",
      "Epoch: 6  Training Error: 0.0042  Validation Error: 0.0038\n",
      "Epoch: 7  Training Error: 0.0041  Validation Error: 0.0038\n",
      "Epoch: 8  Training Error: 0.0042  Validation Error: 0.0039\n",
      "R-squared: 0.7521\n",
      "Mean Square Error: 0.0186\n",
      "Epoch: 1  Training Error: 0.0465  Validation Error: 0.0070\n",
      "Epoch: 2  Training Error: 0.0593  Validation Error: 0.0169\n",
      "Epoch: 3  Training Error: 0.0135  Validation Error: 0.0043\n"
     ]
    },
    {
     "output_type": "stream",
     "name": "stderr",
     "text": [
      "C:\\Users\\Andy\\AppData\\Local\\Programs\\Python\\Python39\\lib\\site-packages\\torch\\nn\\modules\\rnn.py:62: UserWarning: dropout option adds dropout after all but last recurrent layer, so non-zero dropout expects num_layers greater than 1, but got dropout=0.2 and num_layers=1\n",
      "  warnings.warn(\"dropout option adds dropout after all but last \"\n",
      "C:\\Users\\Andy\\AppData\\Local\\Programs\\Python\\Python39\\lib\\site-packages\\torch\\nn\\modules\\loss.py:528: UserWarning: Using a target size (torch.Size([20, 1])) that is different to the input size (torch.Size([20])). This will likely lead to incorrect results due to broadcasting. Please ensure they have the same size.\n",
      "  return F.mse_loss(input, target, reduction=self.reduction)\n"
     ]
    },
    {
     "output_type": "stream",
     "name": "stdout",
     "text": [
      "Epoch: 4  Training Error: 0.0053  Validation Error: 0.0038\n",
      "Epoch: 5  Training Error: 0.0043  Validation Error: 0.0039\n",
      "Epoch: 6  Training Error: 0.0042  Validation Error: 0.0039\n",
      "Epoch: 7  Training Error: 0.0041  Validation Error: 0.0039\n",
      "Epoch: 8  Training Error: 0.0042  Validation Error: 0.0039\n",
      "R-squared: 0.7215\n",
      "Mean Square Error: 0.0197\n",
      "Epoch: 1  Training Error: 0.0314  Validation Error: 0.0042\n",
      "Epoch: 2  Training Error: 0.0579  Validation Error: 0.0056\n"
     ]
    },
    {
     "output_type": "stream",
     "name": "stderr",
     "text": [
      "C:\\Users\\Andy\\AppData\\Local\\Programs\\Python\\Python39\\lib\\site-packages\\torch\\nn\\modules\\rnn.py:62: UserWarning: dropout option adds dropout after all but last recurrent layer, so non-zero dropout expects num_layers greater than 1, but got dropout=0.2 and num_layers=1\n",
      "  warnings.warn(\"dropout option adds dropout after all but last \"\n",
      "C:\\Users\\Andy\\AppData\\Local\\Programs\\Python\\Python39\\lib\\site-packages\\torch\\nn\\modules\\loss.py:528: UserWarning: Using a target size (torch.Size([20, 1])) that is different to the input size (torch.Size([20])). This will likely lead to incorrect results due to broadcasting. Please ensure they have the same size.\n",
      "  return F.mse_loss(input, target, reduction=self.reduction)\n"
     ]
    },
    {
     "output_type": "stream",
     "name": "stdout",
     "text": [
      "Epoch: 3  Training Error: 0.0171  Validation Error: 0.0039\n",
      "Epoch: 4  Training Error: 0.0050  Validation Error: 0.0039\n",
      "Epoch: 5  Training Error: 0.0043  Validation Error: 0.0041\n",
      "Epoch: 6  Training Error: 0.0041  Validation Error: 0.0038\n",
      "Epoch: 7  Training Error: 0.0042  Validation Error: 0.0039\n",
      "Epoch: 8  Training Error: 0.0042  Validation Error: 0.0040\n",
      "Epoch: 9  Training Error: 0.0043  Validation Error: 0.0040\n",
      "Epoch: 10  Training Error: 0.0043  Validation Error: 0.0040\n",
      "R-squared: 0.7003\n",
      "Mean Square Error: 0.0205\n",
      "Epoch: 1  Training Error: 0.0359  Validation Error: 0.0038\n",
      "Epoch: 2  Training Error: 0.0538  Validation Error: 0.0096\n",
      "Epoch: 3  Training Error: 0.0139  Validation Error: 0.0040\n",
      "Epoch: 4  Training Error: 0.0050  Validation Error: 0.0037\n"
     ]
    },
    {
     "output_type": "stream",
     "name": "stderr",
     "text": [
      "C:\\Users\\Andy\\AppData\\Local\\Programs\\Python\\Python39\\lib\\site-packages\\torch\\nn\\modules\\rnn.py:62: UserWarning: dropout option adds dropout after all but last recurrent layer, so non-zero dropout expects num_layers greater than 1, but got dropout=0.2 and num_layers=1\n",
      "  warnings.warn(\"dropout option adds dropout after all but last \"\n",
      "C:\\Users\\Andy\\AppData\\Local\\Programs\\Python\\Python39\\lib\\site-packages\\torch\\nn\\modules\\loss.py:528: UserWarning: Using a target size (torch.Size([20, 1])) that is different to the input size (torch.Size([20])). This will likely lead to incorrect results due to broadcasting. Please ensure they have the same size.\n",
      "  return F.mse_loss(input, target, reduction=self.reduction)\n"
     ]
    },
    {
     "output_type": "stream",
     "name": "stdout",
     "text": [
      "Epoch: 5  Training Error: 0.0043  Validation Error: 0.0039\n",
      "Epoch: 6  Training Error: 0.0041  Validation Error: 0.0038\n",
      "Epoch: 7  Training Error: 0.0041  Validation Error: 0.0038\n",
      "Epoch: 8  Training Error: 0.0042  Validation Error: 0.0039\n",
      "R-squared: 0.7422\n",
      "Mean Square Error: 0.0190\n"
     ]
    },
    {
     "output_type": "stream",
     "name": "stderr",
     "text": [
      "C:\\Users\\Andy\\AppData\\Local\\Programs\\Python\\Python39\\lib\\site-packages\\torch\\nn\\modules\\rnn.py:62: UserWarning: dropout option adds dropout after all but last recurrent layer, so non-zero dropout expects num_layers greater than 1, but got dropout=0.2 and num_layers=1\n",
      "  warnings.warn(\"dropout option adds dropout after all but last \"\n",
      "C:\\Users\\Andy\\AppData\\Local\\Programs\\Python\\Python39\\lib\\site-packages\\torch\\nn\\modules\\loss.py:528: UserWarning: Using a target size (torch.Size([20, 1])) that is different to the input size (torch.Size([20])). This will likely lead to incorrect results due to broadcasting. Please ensure they have the same size.\n",
      "  return F.mse_loss(input, target, reduction=self.reduction)\n"
     ]
    },
    {
     "output_type": "stream",
     "name": "stdout",
     "text": [
      "Epoch: 1  Training Error: 0.0395  Validation Error: 0.0041\n",
      "Epoch: 2  Training Error: 0.0655  Validation Error: 0.0164\n",
      "Epoch: 3  Training Error: 0.0165  Validation Error: 0.0050\n",
      "Epoch: 4  Training Error: 0.0058  Validation Error: 0.0038\n",
      "Epoch: 5  Training Error: 0.0044  Validation Error: 0.0039\n",
      "Epoch: 6  Training Error: 0.0042  Validation Error: 0.0039\n",
      "Epoch: 7  Training Error: 0.0041  Validation Error: 0.0038\n",
      "Epoch: 8  Training Error: 0.0042  Validation Error: 0.0039\n",
      "R-squared: 0.7973\n",
      "Mean Square Error: 0.0168\n",
      "Epoch: 1  Training Error: 0.0430  Validation Error: 0.0041\n",
      "Epoch: 2  Training Error: 0.0577  Validation Error: 0.0114\n",
      "Epoch: 3  Training Error: 0.0137  Validation Error: 0.0041\n",
      "Epoch: 4  Training Error: 0.0049  Validation Error: 0.0039\n"
     ]
    },
    {
     "output_type": "stream",
     "name": "stderr",
     "text": [
      "C:\\Users\\Andy\\AppData\\Local\\Programs\\Python\\Python39\\lib\\site-packages\\torch\\nn\\modules\\rnn.py:62: UserWarning: dropout option adds dropout after all but last recurrent layer, so non-zero dropout expects num_layers greater than 1, but got dropout=0.2 and num_layers=1\n",
      "  warnings.warn(\"dropout option adds dropout after all but last \"\n",
      "C:\\Users\\Andy\\AppData\\Local\\Programs\\Python\\Python39\\lib\\site-packages\\torch\\nn\\modules\\loss.py:528: UserWarning: Using a target size (torch.Size([20, 1])) that is different to the input size (torch.Size([20])). This will likely lead to incorrect results due to broadcasting. Please ensure they have the same size.\n",
      "  return F.mse_loss(input, target, reduction=self.reduction)\n"
     ]
    },
    {
     "output_type": "stream",
     "name": "stdout",
     "text": [
      "Epoch: 5  Training Error: 0.0042  Validation Error: 0.0040\n",
      "Epoch: 6  Training Error: 0.0041  Validation Error: 0.0039\n",
      "Epoch: 7  Training Error: 0.0041  Validation Error: 0.0039\n",
      "Epoch: 8  Training Error: 0.0042  Validation Error: 0.0040\n",
      "R-squared: 0.6704\n",
      "Mean Square Error: 0.0215\n",
      "Epoch: 1  Training Error: 0.0335  Validation Error: 0.0030\n",
      "Epoch: 2  Training Error: 0.0556  Validation Error: 0.0074\n",
      "Epoch: 3  Training Error: 0.0157  Validation Error: 0.0037\n",
      "Epoch: 4  Training Error: 0.0051  Validation Error: 0.0037\n"
     ]
    },
    {
     "output_type": "stream",
     "name": "stderr",
     "text": [
      "C:\\Users\\Andy\\AppData\\Local\\Programs\\Python\\Python39\\lib\\site-packages\\torch\\nn\\modules\\rnn.py:62: UserWarning: dropout option adds dropout after all but last recurrent layer, so non-zero dropout expects num_layers greater than 1, but got dropout=0.2 and num_layers=1\n",
      "  warnings.warn(\"dropout option adds dropout after all but last \"\n",
      "C:\\Users\\Andy\\AppData\\Local\\Programs\\Python\\Python39\\lib\\site-packages\\torch\\nn\\modules\\loss.py:528: UserWarning: Using a target size (torch.Size([20, 1])) that is different to the input size (torch.Size([20])). This will likely lead to incorrect results due to broadcasting. Please ensure they have the same size.\n",
      "  return F.mse_loss(input, target, reduction=self.reduction)\n"
     ]
    },
    {
     "output_type": "stream",
     "name": "stdout",
     "text": [
      "Epoch: 5  Training Error: 0.0043  Validation Error: 0.0039\n",
      "R-squared: 0.7735\n",
      "Mean Square Error: 0.0178\n",
      "Epoch: 1  Training Error: 0.0367  Validation Error: 0.0028\n",
      "Epoch: 2  Training Error: 0.0526  Validation Error: 0.0067\n",
      "Epoch: 3  Training Error: 0.0136  Validation Error: 0.0036\n"
     ]
    },
    {
     "output_type": "stream",
     "name": "stderr",
     "text": [
      "C:\\Users\\Andy\\AppData\\Local\\Programs\\Python\\Python39\\lib\\site-packages\\torch\\nn\\modules\\rnn.py:62: UserWarning: dropout option adds dropout after all but last recurrent layer, so non-zero dropout expects num_layers greater than 1, but got dropout=0.2 and num_layers=1\n",
      "  warnings.warn(\"dropout option adds dropout after all but last \"\n",
      "C:\\Users\\Andy\\AppData\\Local\\Programs\\Python\\Python39\\lib\\site-packages\\torch\\nn\\modules\\loss.py:528: UserWarning: Using a target size (torch.Size([20, 1])) that is different to the input size (torch.Size([20])). This will likely lead to incorrect results due to broadcasting. Please ensure they have the same size.\n",
      "  return F.mse_loss(input, target, reduction=self.reduction)\n"
     ]
    },
    {
     "output_type": "stream",
     "name": "stdout",
     "text": [
      "Epoch: 4  Training Error: 0.0048  Validation Error: 0.0037\n",
      "Epoch: 5  Training Error: 0.0043  Validation Error: 0.0039\n",
      "R-squared: 0.8020\n",
      "Mean Square Error: 0.0166\n",
      "Epoch: 1  Training Error: 0.0360  Validation Error: 0.0030\n",
      "Epoch: 2  Training Error: 0.0537  Validation Error: 0.0069\n"
     ]
    },
    {
     "output_type": "stream",
     "name": "stderr",
     "text": [
      "C:\\Users\\Andy\\AppData\\Local\\Programs\\Python\\Python39\\lib\\site-packages\\torch\\nn\\modules\\rnn.py:62: UserWarning: dropout option adds dropout after all but last recurrent layer, so non-zero dropout expects num_layers greater than 1, but got dropout=0.2 and num_layers=1\n",
      "  warnings.warn(\"dropout option adds dropout after all but last \"\n",
      "C:\\Users\\Andy\\AppData\\Local\\Programs\\Python\\Python39\\lib\\site-packages\\torch\\nn\\modules\\loss.py:528: UserWarning: Using a target size (torch.Size([20, 1])) that is different to the input size (torch.Size([20])). This will likely lead to incorrect results due to broadcasting. Please ensure they have the same size.\n",
      "  return F.mse_loss(input, target, reduction=self.reduction)\n"
     ]
    },
    {
     "output_type": "stream",
     "name": "stdout",
     "text": [
      "Epoch: 3  Training Error: 0.0143  Validation Error: 0.0038\n",
      "Epoch: 4  Training Error: 0.0049  Validation Error: 0.0039\n",
      "Epoch: 5  Training Error: 0.0043  Validation Error: 0.0041\n",
      "R-squared: 0.7629\n",
      "Mean Square Error: 0.0182\n"
     ]
    },
    {
     "output_type": "stream",
     "name": "stderr",
     "text": [
      "C:\\Users\\Andy\\AppData\\Local\\Programs\\Python\\Python39\\lib\\site-packages\\torch\\nn\\modules\\rnn.py:62: UserWarning: dropout option adds dropout after all but last recurrent layer, so non-zero dropout expects num_layers greater than 1, but got dropout=0.2 and num_layers=1\n",
      "  warnings.warn(\"dropout option adds dropout after all but last \"\n",
      "C:\\Users\\Andy\\AppData\\Local\\Programs\\Python\\Python39\\lib\\site-packages\\torch\\nn\\modules\\loss.py:528: UserWarning: Using a target size (torch.Size([20, 1])) that is different to the input size (torch.Size([20])). This will likely lead to incorrect results due to broadcasting. Please ensure they have the same size.\n",
      "  return F.mse_loss(input, target, reduction=self.reduction)\n"
     ]
    },
    {
     "output_type": "stream",
     "name": "stdout",
     "text": [
      "Epoch: 1  Training Error: 0.0343  Validation Error: 0.0031\n",
      "Epoch: 2  Training Error: 0.0519  Validation Error: 0.0054\n",
      "Epoch: 3  Training Error: 0.0134  Validation Error: 0.0036\n",
      "Epoch: 4  Training Error: 0.0048  Validation Error: 0.0040\n",
      "Epoch: 5  Training Error: 0.0044  Validation Error: 0.0041\n",
      "R-squared: 0.8011\n",
      "Mean Square Error: 0.0167\n",
      "Epoch: 1  Training Error: 0.0531  Validation Error: 0.0059\n",
      "Epoch: 2  Training Error: 0.0712  Validation Error: 0.0240\n",
      "Epoch: 3  Training Error: 0.0161  Validation Error: 0.0045\n",
      "Epoch: 4  Training Error: 0.0072  Validation Error: 0.0035\n"
     ]
    },
    {
     "output_type": "stream",
     "name": "stderr",
     "text": [
      "C:\\Users\\Andy\\AppData\\Local\\Programs\\Python\\Python39\\lib\\site-packages\\torch\\nn\\modules\\rnn.py:62: UserWarning: dropout option adds dropout after all but last recurrent layer, so non-zero dropout expects num_layers greater than 1, but got dropout=0.2 and num_layers=1\n",
      "  warnings.warn(\"dropout option adds dropout after all but last \"\n",
      "C:\\Users\\Andy\\AppData\\Local\\Programs\\Python\\Python39\\lib\\site-packages\\torch\\nn\\modules\\loss.py:528: UserWarning: Using a target size (torch.Size([20, 1])) that is different to the input size (torch.Size([20])). This will likely lead to incorrect results due to broadcasting. Please ensure they have the same size.\n",
      "  return F.mse_loss(input, target, reduction=self.reduction)\n"
     ]
    },
    {
     "output_type": "stream",
     "name": "stdout",
     "text": [
      "Epoch: 5  Training Error: 0.0047  Validation Error: 0.0037\n",
      "Epoch: 6  Training Error: 0.0043  Validation Error: 0.0039\n",
      "Epoch: 7  Training Error: 0.0041  Validation Error: 0.0038\n",
      "Epoch: 8  Training Error: 0.0041  Validation Error: 0.0039\n",
      "R-squared: 0.7708\n",
      "Mean Square Error: 0.0179\n"
     ]
    },
    {
     "output_type": "stream",
     "name": "stderr",
     "text": [
      "C:\\Users\\Andy\\AppData\\Local\\Programs\\Python\\Python39\\lib\\site-packages\\torch\\nn\\modules\\rnn.py:62: UserWarning: dropout option adds dropout after all but last recurrent layer, so non-zero dropout expects num_layers greater than 1, but got dropout=0.2 and num_layers=1\n",
      "  warnings.warn(\"dropout option adds dropout after all but last \"\n",
      "C:\\Users\\Andy\\AppData\\Local\\Programs\\Python\\Python39\\lib\\site-packages\\torch\\nn\\modules\\loss.py:528: UserWarning: Using a target size (torch.Size([20, 1])) that is different to the input size (torch.Size([20])). This will likely lead to incorrect results due to broadcasting. Please ensure they have the same size.\n",
      "  return F.mse_loss(input, target, reduction=self.reduction)\n"
     ]
    },
    {
     "output_type": "stream",
     "name": "stdout",
     "text": [
      "Epoch: 1  Training Error: 0.0543  Validation Error: 0.0126\n",
      "Epoch: 2  Training Error: 0.0680  Validation Error: 0.0311\n",
      "Epoch: 3  Training Error: 0.0160  Validation Error: 0.0060\n",
      "Epoch: 4  Training Error: 0.0075  Validation Error: 0.0036\n",
      "Epoch: 5  Training Error: 0.0048  Validation Error: 0.0038\n",
      "Epoch: 6  Training Error: 0.0043  Validation Error: 0.0039\n",
      "Epoch: 7  Training Error: 0.0041  Validation Error: 0.0038\n",
      "Epoch: 8  Training Error: 0.0041  Validation Error: 0.0039\n",
      "R-squared: 0.7814\n",
      "Mean Square Error: 0.0175\n",
      "Epoch: 1  Training Error: 0.0400  Validation Error: 0.0054\n"
     ]
    },
    {
     "output_type": "stream",
     "name": "stderr",
     "text": [
      "C:\\Users\\Andy\\AppData\\Local\\Programs\\Python\\Python39\\lib\\site-packages\\torch\\nn\\modules\\rnn.py:62: UserWarning: dropout option adds dropout after all but last recurrent layer, so non-zero dropout expects num_layers greater than 1, but got dropout=0.2 and num_layers=1\n",
      "  warnings.warn(\"dropout option adds dropout after all but last \"\n",
      "C:\\Users\\Andy\\AppData\\Local\\Programs\\Python\\Python39\\lib\\site-packages\\torch\\nn\\modules\\loss.py:528: UserWarning: Using a target size (torch.Size([20, 1])) that is different to the input size (torch.Size([20])). This will likely lead to incorrect results due to broadcasting. Please ensure they have the same size.\n",
      "  return F.mse_loss(input, target, reduction=self.reduction)\n"
     ]
    },
    {
     "output_type": "stream",
     "name": "stdout",
     "text": [
      "Epoch: 2  Training Error: 0.0683  Validation Error: 0.0198\n",
      "Epoch: 3  Training Error: 0.0176  Validation Error: 0.0044\n",
      "Epoch: 4  Training Error: 0.0064  Validation Error: 0.0036\n",
      "Epoch: 5  Training Error: 0.0045  Validation Error: 0.0038\n",
      "Epoch: 6  Training Error: 0.0042  Validation Error: 0.0039\n",
      "Epoch: 7  Training Error: 0.0041  Validation Error: 0.0038\n",
      "Epoch: 8  Training Error: 0.0042  Validation Error: 0.0039\n",
      "R-squared: 0.7600\n",
      "Mean Square Error: 0.0183\n",
      "Epoch: 1  Training Error: 0.0466  Validation Error: 0.0062\n"
     ]
    },
    {
     "output_type": "stream",
     "name": "stderr",
     "text": [
      "C:\\Users\\Andy\\AppData\\Local\\Programs\\Python\\Python39\\lib\\site-packages\\torch\\nn\\modules\\rnn.py:62: UserWarning: dropout option adds dropout after all but last recurrent layer, so non-zero dropout expects num_layers greater than 1, but got dropout=0.2 and num_layers=1\n",
      "  warnings.warn(\"dropout option adds dropout after all but last \"\n",
      "C:\\Users\\Andy\\AppData\\Local\\Programs\\Python\\Python39\\lib\\site-packages\\torch\\nn\\modules\\loss.py:528: UserWarning: Using a target size (torch.Size([20, 1])) that is different to the input size (torch.Size([20])). This will likely lead to incorrect results due to broadcasting. Please ensure they have the same size.\n",
      "  return F.mse_loss(input, target, reduction=self.reduction)\n"
     ]
    },
    {
     "output_type": "stream",
     "name": "stdout",
     "text": [
      "Epoch: 2  Training Error: 0.0628  Validation Error: 0.0171\n",
      "Epoch: 3  Training Error: 0.0155  Validation Error: 0.0045\n",
      "Epoch: 4  Training Error: 0.0059  Validation Error: 0.0037\n",
      "Epoch: 5  Training Error: 0.0044  Validation Error: 0.0039\n",
      "Epoch: 6  Training Error: 0.0042  Validation Error: 0.0039\n",
      "Epoch: 7  Training Error: 0.0041  Validation Error: 0.0039\n",
      "Epoch: 8  Training Error: 0.0042  Validation Error: 0.0039\n",
      "R-squared: 0.7411\n",
      "Mean Square Error: 0.0190\n"
     ]
    },
    {
     "output_type": "stream",
     "name": "stderr",
     "text": [
      "C:\\Users\\Andy\\AppData\\Local\\Programs\\Python\\Python39\\lib\\site-packages\\torch\\nn\\modules\\rnn.py:62: UserWarning: dropout option adds dropout after all but last recurrent layer, so non-zero dropout expects num_layers greater than 1, but got dropout=0.2 and num_layers=1\n",
      "  warnings.warn(\"dropout option adds dropout after all but last \"\n",
      "C:\\Users\\Andy\\AppData\\Local\\Programs\\Python\\Python39\\lib\\site-packages\\torch\\nn\\modules\\loss.py:528: UserWarning: Using a target size (torch.Size([20, 1])) that is different to the input size (torch.Size([20])). This will likely lead to incorrect results due to broadcasting. Please ensure they have the same size.\n",
      "  return F.mse_loss(input, target, reduction=self.reduction)\n"
     ]
    },
    {
     "output_type": "stream",
     "name": "stdout",
     "text": [
      "Epoch: 1  Training Error: 0.0389  Validation Error: 0.0044\n",
      "Epoch: 2  Training Error: 0.0734  Validation Error: 0.0153\n",
      "Epoch: 3  Training Error: 0.0199  Validation Error: 0.0046\n",
      "Epoch: 4  Training Error: 0.0063  Validation Error: 0.0037\n",
      "Epoch: 5  Training Error: 0.0044  Validation Error: 0.0038\n",
      "Epoch: 6  Training Error: 0.0042  Validation Error: 0.0039\n",
      "Epoch: 7  Training Error: 0.0041  Validation Error: 0.0038\n",
      "Epoch: 8  Training Error: 0.0042  Validation Error: 0.0039\n",
      "R-squared: 0.7584\n",
      "Mean Square Error: 0.0184\n",
      "Epoch: 1  Training Error: 0.0422  Validation Error: 0.0037\n",
      "Epoch: 2  Training Error: 0.0699  Validation Error: 0.0150\n",
      "Epoch: 3  Training Error: 0.0181  Validation Error: 0.0040\n"
     ]
    },
    {
     "output_type": "stream",
     "name": "stderr",
     "text": [
      "C:\\Users\\Andy\\AppData\\Local\\Programs\\Python\\Python39\\lib\\site-packages\\torch\\nn\\modules\\rnn.py:62: UserWarning: dropout option adds dropout after all but last recurrent layer, so non-zero dropout expects num_layers greater than 1, but got dropout=0.2 and num_layers=1\n",
      "  warnings.warn(\"dropout option adds dropout after all but last \"\n",
      "C:\\Users\\Andy\\AppData\\Local\\Programs\\Python\\Python39\\lib\\site-packages\\torch\\nn\\modules\\loss.py:528: UserWarning: Using a target size (torch.Size([20, 1])) that is different to the input size (torch.Size([20])). This will likely lead to incorrect results due to broadcasting. Please ensure they have the same size.\n",
      "  return F.mse_loss(input, target, reduction=self.reduction)\n"
     ]
    },
    {
     "output_type": "stream",
     "name": "stdout",
     "text": [
      "Epoch: 4  Training Error: 0.0063  Validation Error: 0.0037\n",
      "Epoch: 5  Training Error: 0.0044  Validation Error: 0.0038\n",
      "R-squared: 0.7340\n",
      "Mean Square Error: 0.0193\n",
      "Epoch: 1  Training Error: 0.0390  Validation Error: 0.0037\n",
      "Epoch: 2  Training Error: 0.0570  Validation Error: 0.0100\n"
     ]
    },
    {
     "output_type": "stream",
     "name": "stderr",
     "text": [
      "C:\\Users\\Andy\\AppData\\Local\\Programs\\Python\\Python39\\lib\\site-packages\\torch\\nn\\modules\\rnn.py:62: UserWarning: dropout option adds dropout after all but last recurrent layer, so non-zero dropout expects num_layers greater than 1, but got dropout=0.2 and num_layers=1\n",
      "  warnings.warn(\"dropout option adds dropout after all but last \"\n",
      "C:\\Users\\Andy\\AppData\\Local\\Programs\\Python\\Python39\\lib\\site-packages\\torch\\nn\\modules\\loss.py:528: UserWarning: Using a target size (torch.Size([20, 1])) that is different to the input size (torch.Size([20])). This will likely lead to incorrect results due to broadcasting. Please ensure they have the same size.\n",
      "  return F.mse_loss(input, target, reduction=self.reduction)\n"
     ]
    },
    {
     "output_type": "stream",
     "name": "stdout",
     "text": [
      "Epoch: 3  Training Error: 0.0142  Validation Error: 0.0038\n",
      "Epoch: 4  Training Error: 0.0050  Validation Error: 0.0036\n",
      "Epoch: 5  Training Error: 0.0043  Validation Error: 0.0038\n",
      "Epoch: 6  Training Error: 0.0041  Validation Error: 0.0038\n",
      "Epoch: 7  Training Error: 0.0041  Validation Error: 0.0038\n",
      "Epoch: 8  Training Error: 0.0042  Validation Error: 0.0039\n",
      "R-squared: 0.7253\n",
      "Mean Square Error: 0.0196\n",
      "Epoch: 1  Training Error: 0.0445  Validation Error: 0.0050\n",
      "Epoch: 2  Training Error: 0.0644  Validation Error: 0.0177\n"
     ]
    },
    {
     "output_type": "stream",
     "name": "stderr",
     "text": [
      "C:\\Users\\Andy\\AppData\\Local\\Programs\\Python\\Python39\\lib\\site-packages\\torch\\nn\\modules\\rnn.py:62: UserWarning: dropout option adds dropout after all but last recurrent layer, so non-zero dropout expects num_layers greater than 1, but got dropout=0.2 and num_layers=1\n",
      "  warnings.warn(\"dropout option adds dropout after all but last \"\n",
      "C:\\Users\\Andy\\AppData\\Local\\Programs\\Python\\Python39\\lib\\site-packages\\torch\\nn\\modules\\loss.py:528: UserWarning: Using a target size (torch.Size([20, 1])) that is different to the input size (torch.Size([20])). This will likely lead to incorrect results due to broadcasting. Please ensure they have the same size.\n",
      "  return F.mse_loss(input, target, reduction=self.reduction)\n"
     ]
    },
    {
     "output_type": "stream",
     "name": "stdout",
     "text": [
      "Epoch: 3  Training Error: 0.0152  Validation Error: 0.0044\n",
      "Epoch: 4  Training Error: 0.0059  Validation Error: 0.0035\n",
      "Epoch: 5  Training Error: 0.0045  Validation Error: 0.0036\n",
      "Epoch: 6  Training Error: 0.0042  Validation Error: 0.0037\n",
      "Epoch: 7  Training Error: 0.0041  Validation Error: 0.0037\n",
      "Epoch: 8  Training Error: 0.0042  Validation Error: 0.0038\n",
      "R-squared: 0.7725\n",
      "Mean Square Error: 0.0178\n",
      "Epoch: 1  Training Error: 0.0549  Validation Error: 0.0118\n"
     ]
    },
    {
     "output_type": "stream",
     "name": "stderr",
     "text": [
      "C:\\Users\\Andy\\AppData\\Local\\Programs\\Python\\Python39\\lib\\site-packages\\torch\\nn\\modules\\rnn.py:62: UserWarning: dropout option adds dropout after all but last recurrent layer, so non-zero dropout expects num_layers greater than 1, but got dropout=0.2 and num_layers=1\n",
      "  warnings.warn(\"dropout option adds dropout after all but last \"\n",
      "C:\\Users\\Andy\\AppData\\Local\\Programs\\Python\\Python39\\lib\\site-packages\\torch\\nn\\modules\\loss.py:528: UserWarning: Using a target size (torch.Size([20, 1])) that is different to the input size (torch.Size([20])). This will likely lead to incorrect results due to broadcasting. Please ensure they have the same size.\n",
      "  return F.mse_loss(input, target, reduction=self.reduction)\n"
     ]
    },
    {
     "output_type": "stream",
     "name": "stdout",
     "text": [
      "Epoch: 2  Training Error: 0.0685  Validation Error: 0.0257\n",
      "Epoch: 3  Training Error: 0.0161  Validation Error: 0.0049\n",
      "Epoch: 4  Training Error: 0.0072  Validation Error: 0.0038\n",
      "Epoch: 5  Training Error: 0.0047  Validation Error: 0.0039\n",
      "Epoch: 6  Training Error: 0.0043  Validation Error: 0.0040\n",
      "Epoch: 7  Training Error: 0.0041  Validation Error: 0.0039\n",
      "Epoch: 8  Training Error: 0.0042  Validation Error: 0.0039\n",
      "R-squared: 0.7598\n",
      "Mean Square Error: 0.0183\n",
      "Epoch: 1  Training Error: 0.0559  Validation Error: 0.0164\n",
      "Epoch: 2  Training Error: 0.0667  Validation Error: 0.0278\n"
     ]
    },
    {
     "output_type": "stream",
     "name": "stderr",
     "text": [
      "C:\\Users\\Andy\\AppData\\Local\\Programs\\Python\\Python39\\lib\\site-packages\\torch\\nn\\modules\\rnn.py:62: UserWarning: dropout option adds dropout after all but last recurrent layer, so non-zero dropout expects num_layers greater than 1, but got dropout=0.2 and num_layers=1\n",
      "  warnings.warn(\"dropout option adds dropout after all but last \"\n",
      "C:\\Users\\Andy\\AppData\\Local\\Programs\\Python\\Python39\\lib\\site-packages\\torch\\nn\\modules\\loss.py:528: UserWarning: Using a target size (torch.Size([20, 1])) that is different to the input size (torch.Size([20])). This will likely lead to incorrect results due to broadcasting. Please ensure they have the same size.\n",
      "  return F.mse_loss(input, target, reduction=self.reduction)\n"
     ]
    },
    {
     "output_type": "stream",
     "name": "stdout",
     "text": [
      "Epoch: 3  Training Error: 0.0167  Validation Error: 0.0053\n",
      "Epoch: 4  Training Error: 0.0074  Validation Error: 0.0035\n",
      "Epoch: 5  Training Error: 0.0047  Validation Error: 0.0038\n",
      "Epoch: 6  Training Error: 0.0043  Validation Error: 0.0039\n",
      "Epoch: 7  Training Error: 0.0041  Validation Error: 0.0038\n",
      "Epoch: 8  Training Error: 0.0042  Validation Error: 0.0039\n",
      "R-squared: 0.7909\n",
      "Mean Square Error: 0.0171\n",
      "Epoch: 1  Training Error: 0.0465  Validation Error: 0.0112\n",
      "Epoch: 2  Training Error: 0.0709  Validation Error: 0.0284\n",
      "Epoch: 3  Training Error: 0.0186  Validation Error: 0.0051\n"
     ]
    },
    {
     "output_type": "stream",
     "name": "stderr",
     "text": [
      "C:\\Users\\Andy\\AppData\\Local\\Programs\\Python\\Python39\\lib\\site-packages\\torch\\nn\\modules\\rnn.py:62: UserWarning: dropout option adds dropout after all but last recurrent layer, so non-zero dropout expects num_layers greater than 1, but got dropout=0.2 and num_layers=1\n",
      "  warnings.warn(\"dropout option adds dropout after all but last \"\n",
      "C:\\Users\\Andy\\AppData\\Local\\Programs\\Python\\Python39\\lib\\site-packages\\torch\\nn\\modules\\loss.py:528: UserWarning: Using a target size (torch.Size([20, 1])) that is different to the input size (torch.Size([20])). This will likely lead to incorrect results due to broadcasting. Please ensure they have the same size.\n",
      "  return F.mse_loss(input, target, reduction=self.reduction)\n"
     ]
    },
    {
     "output_type": "stream",
     "name": "stdout",
     "text": [
      "Epoch: 4  Training Error: 0.0078  Validation Error: 0.0033\n",
      "Epoch: 5  Training Error: 0.0048  Validation Error: 0.0036\n",
      "Epoch: 6  Training Error: 0.0043  Validation Error: 0.0038\n",
      "Epoch: 7  Training Error: 0.0041  Validation Error: 0.0038\n",
      "Epoch: 8  Training Error: 0.0041  Validation Error: 0.0038\n",
      "R-squared: 0.7652\n",
      "Mean Square Error: 0.0181\n",
      "Epoch: 1  Training Error: 0.0610  Validation Error: 0.0230\n",
      "Epoch: 2  Training Error: 0.0715  Validation Error: 0.0344\n",
      "Epoch: 3  Training Error: 0.0183  Validation Error: 0.0058\n",
      "Epoch: 4  Training Error: 0.0081  Validation Error: 0.0035\n"
     ]
    },
    {
     "output_type": "stream",
     "name": "stderr",
     "text": [
      "C:\\Users\\Andy\\AppData\\Local\\Programs\\Python\\Python39\\lib\\site-packages\\torch\\nn\\modules\\rnn.py:62: UserWarning: dropout option adds dropout after all but last recurrent layer, so non-zero dropout expects num_layers greater than 1, but got dropout=0.2 and num_layers=1\n",
      "  warnings.warn(\"dropout option adds dropout after all but last \"\n",
      "C:\\Users\\Andy\\AppData\\Local\\Programs\\Python\\Python39\\lib\\site-packages\\torch\\nn\\modules\\loss.py:528: UserWarning: Using a target size (torch.Size([20, 1])) that is different to the input size (torch.Size([20])). This will likely lead to incorrect results due to broadcasting. Please ensure they have the same size.\n",
      "  return F.mse_loss(input, target, reduction=self.reduction)\n"
     ]
    },
    {
     "output_type": "stream",
     "name": "stdout",
     "text": [
      "Epoch: 5  Training Error: 0.0047  Validation Error: 0.0038\n",
      "Epoch: 6  Training Error: 0.0042  Validation Error: 0.0040\n",
      "Epoch: 7  Training Error: 0.0041  Validation Error: 0.0039\n",
      "Epoch: 8  Training Error: 0.0041  Validation Error: 0.0039\n",
      "R-squared: 0.7230\n",
      "Mean Square Error: 0.0197\n"
     ]
    },
    {
     "output_type": "stream",
     "name": "stderr",
     "text": [
      "C:\\Users\\Andy\\AppData\\Local\\Programs\\Python\\Python39\\lib\\site-packages\\torch\\nn\\modules\\rnn.py:62: UserWarning: dropout option adds dropout after all but last recurrent layer, so non-zero dropout expects num_layers greater than 1, but got dropout=0.2 and num_layers=1\n",
      "  warnings.warn(\"dropout option adds dropout after all but last \"\n",
      "C:\\Users\\Andy\\AppData\\Local\\Programs\\Python\\Python39\\lib\\site-packages\\torch\\nn\\modules\\loss.py:528: UserWarning: Using a target size (torch.Size([20, 1])) that is different to the input size (torch.Size([20])). This will likely lead to incorrect results due to broadcasting. Please ensure they have the same size.\n",
      "  return F.mse_loss(input, target, reduction=self.reduction)\n"
     ]
    },
    {
     "output_type": "stream",
     "name": "stdout",
     "text": [
      "Epoch: 1  Training Error: 0.0361  Validation Error: 0.0029\n",
      "Epoch: 2  Training Error: 0.0595  Validation Error: 0.0109\n",
      "Epoch: 3  Training Error: 0.0155  Validation Error: 0.0038\n",
      "Epoch: 4  Training Error: 0.0053  Validation Error: 0.0035\n",
      "Epoch: 5  Training Error: 0.0043  Validation Error: 0.0038\n",
      "R-squared: 0.7361\n",
      "Mean Square Error: 0.0192\n",
      "Epoch: 1  Training Error: 0.0388  Validation Error: 0.0035\n",
      "Epoch: 2  Training Error: 0.0569  Validation Error: 0.0094\n",
      "Epoch: 3  Training Error: 0.0142  Validation Error: 0.0036\n",
      "Epoch: 4  Training Error: 0.0049  Validation Error: 0.0037\n"
     ]
    },
    {
     "output_type": "stream",
     "name": "stderr",
     "text": [
      "C:\\Users\\Andy\\AppData\\Local\\Programs\\Python\\Python39\\lib\\site-packages\\torch\\nn\\modules\\rnn.py:62: UserWarning: dropout option adds dropout after all but last recurrent layer, so non-zero dropout expects num_layers greater than 1, but got dropout=0.2 and num_layers=1\n",
      "  warnings.warn(\"dropout option adds dropout after all but last \"\n",
      "C:\\Users\\Andy\\AppData\\Local\\Programs\\Python\\Python39\\lib\\site-packages\\torch\\nn\\modules\\loss.py:528: UserWarning: Using a target size (torch.Size([20, 1])) that is different to the input size (torch.Size([20])). This will likely lead to incorrect results due to broadcasting. Please ensure they have the same size.\n",
      "  return F.mse_loss(input, target, reduction=self.reduction)\n"
     ]
    },
    {
     "output_type": "stream",
     "name": "stdout",
     "text": [
      "Epoch: 5  Training Error: 0.0043  Validation Error: 0.0039\n",
      "R-squared: 0.7794\n",
      "Mean Square Error: 0.0176\n",
      "Epoch: 1  Training Error: 0.0327  Validation Error: 0.0052\n",
      "Epoch: 2  Training Error: 0.0643  Validation Error: 0.0067\n",
      "Epoch: 3  Training Error: 0.0187  Validation Error: 0.0040\n"
     ]
    },
    {
     "output_type": "stream",
     "name": "stderr",
     "text": [
      "C:\\Users\\Andy\\AppData\\Local\\Programs\\Python\\Python39\\lib\\site-packages\\torch\\nn\\modules\\rnn.py:62: UserWarning: dropout option adds dropout after all but last recurrent layer, so non-zero dropout expects num_layers greater than 1, but got dropout=0.2 and num_layers=1\n",
      "  warnings.warn(\"dropout option adds dropout after all but last \"\n",
      "C:\\Users\\Andy\\AppData\\Local\\Programs\\Python\\Python39\\lib\\site-packages\\torch\\nn\\modules\\loss.py:528: UserWarning: Using a target size (torch.Size([20, 1])) that is different to the input size (torch.Size([20])). This will likely lead to incorrect results due to broadcasting. Please ensure they have the same size.\n",
      "  return F.mse_loss(input, target, reduction=self.reduction)\n"
     ]
    },
    {
     "output_type": "stream",
     "name": "stdout",
     "text": [
      "Epoch: 4  Training Error: 0.0053  Validation Error: 0.0038\n",
      "Epoch: 5  Training Error: 0.0044  Validation Error: 0.0039\n",
      "Epoch: 6  Training Error: 0.0042  Validation Error: 0.0038\n",
      "Epoch: 7  Training Error: 0.0042  Validation Error: 0.0038\n",
      "Epoch: 8  Training Error: 0.0042  Validation Error: 0.0039\n",
      "R-squared: 0.7704\n",
      "Mean Square Error: 0.0179\n",
      "Epoch: 1  Training Error: 0.0518  Validation Error: 0.0153\n",
      "Epoch: 2  Training Error: 0.0590  Validation Error: 0.0242\n",
      "Epoch: 3  Training Error: 0.0152  Validation Error: 0.0048\n",
      "Epoch: 4  Training Error: 0.0070  Validation Error: 0.0034\n"
     ]
    },
    {
     "output_type": "stream",
     "name": "stderr",
     "text": [
      "C:\\Users\\Andy\\AppData\\Local\\Programs\\Python\\Python39\\lib\\site-packages\\torch\\nn\\modules\\rnn.py:62: UserWarning: dropout option adds dropout after all but last recurrent layer, so non-zero dropout expects num_layers greater than 1, but got dropout=0.2 and num_layers=1\n",
      "  warnings.warn(\"dropout option adds dropout after all but last \"\n",
      "C:\\Users\\Andy\\AppData\\Local\\Programs\\Python\\Python39\\lib\\site-packages\\torch\\nn\\modules\\loss.py:528: UserWarning: Using a target size (torch.Size([20, 1])) that is different to the input size (torch.Size([20])). This will likely lead to incorrect results due to broadcasting. Please ensure they have the same size.\n",
      "  return F.mse_loss(input, target, reduction=self.reduction)\n"
     ]
    },
    {
     "output_type": "stream",
     "name": "stdout",
     "text": [
      "Epoch: 5  Training Error: 0.0046  Validation Error: 0.0036\n",
      "Epoch: 6  Training Error: 0.0042  Validation Error: 0.0038\n",
      "Epoch: 7  Training Error: 0.0041  Validation Error: 0.0038\n",
      "Epoch: 8  Training Error: 0.0042  Validation Error: 0.0039\n",
      "R-squared: 0.7668\n",
      "Mean Square Error: 0.0181\n"
     ]
    },
    {
     "output_type": "stream",
     "name": "stderr",
     "text": [
      "C:\\Users\\Andy\\AppData\\Local\\Programs\\Python\\Python39\\lib\\site-packages\\torch\\nn\\modules\\rnn.py:62: UserWarning: dropout option adds dropout after all but last recurrent layer, so non-zero dropout expects num_layers greater than 1, but got dropout=0.2 and num_layers=1\n",
      "  warnings.warn(\"dropout option adds dropout after all but last \"\n",
      "C:\\Users\\Andy\\AppData\\Local\\Programs\\Python\\Python39\\lib\\site-packages\\torch\\nn\\modules\\loss.py:528: UserWarning: Using a target size (torch.Size([20, 1])) that is different to the input size (torch.Size([20])). This will likely lead to incorrect results due to broadcasting. Please ensure they have the same size.\n",
      "  return F.mse_loss(input, target, reduction=self.reduction)\n"
     ]
    },
    {
     "output_type": "stream",
     "name": "stdout",
     "text": [
      "Epoch: 1  Training Error: 0.0406  Validation Error: 0.0048\n",
      "Epoch: 2  Training Error: 0.0669  Validation Error: 0.0202\n",
      "Epoch: 3  Training Error: 0.0179  Validation Error: 0.0046\n",
      "Epoch: 4  Training Error: 0.0069  Validation Error: 0.0036\n",
      "Epoch: 5  Training Error: 0.0046  Validation Error: 0.0038\n",
      "Epoch: 6  Training Error: 0.0043  Validation Error: 0.0040\n",
      "Epoch: 7  Training Error: 0.0042  Validation Error: 0.0038\n",
      "Epoch: 8  Training Error: 0.0042  Validation Error: 0.0038\n",
      "R-squared: 0.7812\n",
      "Mean Square Error: 0.0175\n",
      "Epoch: 1  Training Error: 0.0297  Validation Error: 0.0052\n"
     ]
    },
    {
     "output_type": "stream",
     "name": "stderr",
     "text": [
      "C:\\Users\\Andy\\AppData\\Local\\Programs\\Python\\Python39\\lib\\site-packages\\torch\\nn\\modules\\rnn.py:62: UserWarning: dropout option adds dropout after all but last recurrent layer, so non-zero dropout expects num_layers greater than 1, but got dropout=0.2 and num_layers=1\n",
      "  warnings.warn(\"dropout option adds dropout after all but last \"\n",
      "C:\\Users\\Andy\\AppData\\Local\\Programs\\Python\\Python39\\lib\\site-packages\\torch\\nn\\modules\\loss.py:528: UserWarning: Using a target size (torch.Size([20, 1])) that is different to the input size (torch.Size([20])). This will likely lead to incorrect results due to broadcasting. Please ensure they have the same size.\n",
      "  return F.mse_loss(input, target, reduction=self.reduction)\n"
     ]
    },
    {
     "output_type": "stream",
     "name": "stdout",
     "text": [
      "Epoch: 2  Training Error: 0.0577  Validation Error: 0.0060\n",
      "Epoch: 3  Training Error: 0.0176  Validation Error: 0.0039\n",
      "Epoch: 4  Training Error: 0.0052  Validation Error: 0.0039\n",
      "Epoch: 5  Training Error: 0.0043  Validation Error: 0.0040\n",
      "Epoch: 6  Training Error: 0.0041  Validation Error: 0.0039\n",
      "Epoch: 7  Training Error: 0.0041  Validation Error: 0.0039\n",
      "Epoch: 8  Training Error: 0.0042  Validation Error: 0.0040\n",
      "Epoch: 9  Training Error: 0.0042  Validation Error: 0.0041\n",
      "Epoch: 10  Training Error: 0.0043  Validation Error: 0.0041\n",
      "R-squared: 0.6786\n",
      "Mean Square Error: 0.0212\n"
     ]
    },
    {
     "output_type": "stream",
     "name": "stderr",
     "text": [
      "C:\\Users\\Andy\\AppData\\Local\\Programs\\Python\\Python39\\lib\\site-packages\\torch\\nn\\modules\\rnn.py:62: UserWarning: dropout option adds dropout after all but last recurrent layer, so non-zero dropout expects num_layers greater than 1, but got dropout=0.2 and num_layers=1\n",
      "  warnings.warn(\"dropout option adds dropout after all but last \"\n",
      "C:\\Users\\Andy\\AppData\\Local\\Programs\\Python\\Python39\\lib\\site-packages\\torch\\nn\\modules\\loss.py:528: UserWarning: Using a target size (torch.Size([20, 1])) that is different to the input size (torch.Size([20])). This will likely lead to incorrect results due to broadcasting. Please ensure they have the same size.\n",
      "  return F.mse_loss(input, target, reduction=self.reduction)\n"
     ]
    },
    {
     "output_type": "stream",
     "name": "stdout",
     "text": [
      "Epoch: 1  Training Error: 0.0328  Validation Error: 0.0036\n",
      "Epoch: 2  Training Error: 0.0580  Validation Error: 0.0057\n",
      "Epoch: 3  Training Error: 0.0160  Validation Error: 0.0037\n",
      "Epoch: 4  Training Error: 0.0049  Validation Error: 0.0039\n",
      "Epoch: 5  Training Error: 0.0043  Validation Error: 0.0040\n",
      "R-squared: 0.7770\n",
      "Mean Square Error: 0.0177\n",
      "Epoch: 1  Training Error: 0.0388  Validation Error: 0.0056\n",
      "Epoch: 2  Training Error: 0.0606  Validation Error: 0.0146\n",
      "Epoch: 3  Training Error: 0.0142  Validation Error: 0.0041\n",
      "Epoch: 4  Training Error: 0.0050  Validation Error: 0.0039\n"
     ]
    },
    {
     "output_type": "stream",
     "name": "stderr",
     "text": [
      "C:\\Users\\Andy\\AppData\\Local\\Programs\\Python\\Python39\\lib\\site-packages\\torch\\nn\\modules\\rnn.py:62: UserWarning: dropout option adds dropout after all but last recurrent layer, so non-zero dropout expects num_layers greater than 1, but got dropout=0.2 and num_layers=1\n",
      "  warnings.warn(\"dropout option adds dropout after all but last \"\n",
      "C:\\Users\\Andy\\AppData\\Local\\Programs\\Python\\Python39\\lib\\site-packages\\torch\\nn\\modules\\loss.py:528: UserWarning: Using a target size (torch.Size([20, 1])) that is different to the input size (torch.Size([20])). This will likely lead to incorrect results due to broadcasting. Please ensure they have the same size.\n",
      "  return F.mse_loss(input, target, reduction=self.reduction)\n"
     ]
    },
    {
     "output_type": "stream",
     "name": "stdout",
     "text": [
      "Epoch: 5  Training Error: 0.0043  Validation Error: 0.0040\n",
      "Epoch: 6  Training Error: 0.0041  Validation Error: 0.0039\n",
      "Epoch: 7  Training Error: 0.0042  Validation Error: 0.0039\n",
      "Epoch: 8  Training Error: 0.0042  Validation Error: 0.0040\n",
      "R-squared: 0.7258\n",
      "Mean Square Error: 0.0196\n"
     ]
    },
    {
     "output_type": "stream",
     "name": "stderr",
     "text": [
      "C:\\Users\\Andy\\AppData\\Local\\Programs\\Python\\Python39\\lib\\site-packages\\torch\\nn\\modules\\rnn.py:62: UserWarning: dropout option adds dropout after all but last recurrent layer, so non-zero dropout expects num_layers greater than 1, but got dropout=0.2 and num_layers=1\n",
      "  warnings.warn(\"dropout option adds dropout after all but last \"\n",
      "C:\\Users\\Andy\\AppData\\Local\\Programs\\Python\\Python39\\lib\\site-packages\\torch\\nn\\modules\\loss.py:528: UserWarning: Using a target size (torch.Size([20, 1])) that is different to the input size (torch.Size([20])). This will likely lead to incorrect results due to broadcasting. Please ensure they have the same size.\n",
      "  return F.mse_loss(input, target, reduction=self.reduction)\n"
     ]
    },
    {
     "output_type": "stream",
     "name": "stdout",
     "text": [
      "Epoch: 1  Training Error: 0.0511  Validation Error: 0.0096\n",
      "Epoch: 2  Training Error: 0.0651  Validation Error: 0.0220\n",
      "Epoch: 3  Training Error: 0.0161  Validation Error: 0.0046\n",
      "Epoch: 4  Training Error: 0.0068  Validation Error: 0.0036\n",
      "Epoch: 5  Training Error: 0.0046  Validation Error: 0.0038\n",
      "Epoch: 6  Training Error: 0.0042  Validation Error: 0.0039\n",
      "Epoch: 7  Training Error: 0.0041  Validation Error: 0.0038\n",
      "Epoch: 8  Training Error: 0.0041  Validation Error: 0.0039\n",
      "R-squared: 0.7508\n",
      "Mean Square Error: 0.0187\n",
      "Epoch: 1  Training Error: 0.0538  Validation Error: 0.0149\n"
     ]
    },
    {
     "output_type": "stream",
     "name": "stderr",
     "text": [
      "C:\\Users\\Andy\\AppData\\Local\\Programs\\Python\\Python39\\lib\\site-packages\\torch\\nn\\modules\\rnn.py:62: UserWarning: dropout option adds dropout after all but last recurrent layer, so non-zero dropout expects num_layers greater than 1, but got dropout=0.2 and num_layers=1\n",
      "  warnings.warn(\"dropout option adds dropout after all but last \"\n",
      "C:\\Users\\Andy\\AppData\\Local\\Programs\\Python\\Python39\\lib\\site-packages\\torch\\nn\\modules\\loss.py:528: UserWarning: Using a target size (torch.Size([20, 1])) that is different to the input size (torch.Size([20])). This will likely lead to incorrect results due to broadcasting. Please ensure they have the same size.\n",
      "  return F.mse_loss(input, target, reduction=self.reduction)\n"
     ]
    },
    {
     "output_type": "stream",
     "name": "stdout",
     "text": [
      "Epoch: 2  Training Error: 0.0639  Validation Error: 0.0279\n",
      "Epoch: 3  Training Error: 0.0156  Validation Error: 0.0052\n",
      "Epoch: 4  Training Error: 0.0071  Validation Error: 0.0036\n",
      "Epoch: 5  Training Error: 0.0046  Validation Error: 0.0038\n",
      "Epoch: 6  Training Error: 0.0042  Validation Error: 0.0039\n",
      "Epoch: 7  Training Error: 0.0041  Validation Error: 0.0038\n",
      "Epoch: 8  Training Error: 0.0042  Validation Error: 0.0039\n",
      "R-squared: 0.7471\n",
      "Mean Square Error: 0.0188\n",
      "Epoch: 1  Training Error: 0.0365  Validation Error: 0.0032\n"
     ]
    },
    {
     "output_type": "stream",
     "name": "stderr",
     "text": [
      "C:\\Users\\Andy\\AppData\\Local\\Programs\\Python\\Python39\\lib\\site-packages\\torch\\nn\\modules\\rnn.py:62: UserWarning: dropout option adds dropout after all but last recurrent layer, so non-zero dropout expects num_layers greater than 1, but got dropout=0.2 and num_layers=1\n",
      "  warnings.warn(\"dropout option adds dropout after all but last \"\n",
      "C:\\Users\\Andy\\AppData\\Local\\Programs\\Python\\Python39\\lib\\site-packages\\torch\\nn\\modules\\loss.py:528: UserWarning: Using a target size (torch.Size([20, 1])) that is different to the input size (torch.Size([20])). This will likely lead to incorrect results due to broadcasting. Please ensure they have the same size.\n",
      "  return F.mse_loss(input, target, reduction=self.reduction)\n"
     ]
    },
    {
     "output_type": "stream",
     "name": "stdout",
     "text": [
      "Epoch: 2  Training Error: 0.0595  Validation Error: 0.0058\n",
      "Epoch: 3  Training Error: 0.0162  Validation Error: 0.0039\n",
      "Epoch: 4  Training Error: 0.0050  Validation Error: 0.0040\n",
      "Epoch: 5  Training Error: 0.0044  Validation Error: 0.0041\n",
      "R-squared: 0.6886\n",
      "Mean Square Error: 0.0209\n",
      "Epoch: 1  Training Error: 0.0474  Validation Error: 0.0068\n",
      "Epoch: 2  Training Error: 0.0618  Validation Error: 0.0175\n",
      "Epoch: 3  Training Error: 0.0149  Validation Error: 0.0040\n",
      "Epoch: 4  Training Error: 0.0061  Validation Error: 0.0034\n"
     ]
    },
    {
     "output_type": "stream",
     "name": "stderr",
     "text": [
      "C:\\Users\\Andy\\AppData\\Local\\Programs\\Python\\Python39\\lib\\site-packages\\torch\\nn\\modules\\rnn.py:62: UserWarning: dropout option adds dropout after all but last recurrent layer, so non-zero dropout expects num_layers greater than 1, but got dropout=0.2 and num_layers=1\n",
      "  warnings.warn(\"dropout option adds dropout after all but last \"\n",
      "C:\\Users\\Andy\\AppData\\Local\\Programs\\Python\\Python39\\lib\\site-packages\\torch\\nn\\modules\\loss.py:528: UserWarning: Using a target size (torch.Size([20, 1])) that is different to the input size (torch.Size([20])). This will likely lead to incorrect results due to broadcasting. Please ensure they have the same size.\n",
      "  return F.mse_loss(input, target, reduction=self.reduction)\n"
     ]
    },
    {
     "output_type": "stream",
     "name": "stdout",
     "text": [
      "Epoch: 5  Training Error: 0.0045  Validation Error: 0.0036\n",
      "Epoch: 6  Training Error: 0.0043  Validation Error: 0.0037\n",
      "Epoch: 7  Training Error: 0.0042  Validation Error: 0.0037\n",
      "Epoch: 8  Training Error: 0.0042  Validation Error: 0.0038\n",
      "R-squared: 0.7787\n",
      "Mean Square Error: 0.0176\n",
      "Epoch: 1  Training Error: 0.0330  Validation Error: 0.0038\n",
      "Epoch: 2  Training Error: 0.0649  Validation Error: 0.0074\n",
      "Epoch: 3  Training Error: 0.0186  Validation Error: 0.0036\n",
      "Epoch: 4  Training Error: 0.0053  Validation Error: 0.0035\n"
     ]
    },
    {
     "output_type": "stream",
     "name": "stderr",
     "text": [
      "C:\\Users\\Andy\\AppData\\Local\\Programs\\Python\\Python39\\lib\\site-packages\\torch\\nn\\modules\\rnn.py:62: UserWarning: dropout option adds dropout after all but last recurrent layer, so non-zero dropout expects num_layers greater than 1, but got dropout=0.2 and num_layers=1\n",
      "  warnings.warn(\"dropout option adds dropout after all but last \"\n",
      "C:\\Users\\Andy\\AppData\\Local\\Programs\\Python\\Python39\\lib\\site-packages\\torch\\nn\\modules\\loss.py:528: UserWarning: Using a target size (torch.Size([20, 1])) that is different to the input size (torch.Size([20])). This will likely lead to incorrect results due to broadcasting. Please ensure they have the same size.\n",
      "  return F.mse_loss(input, target, reduction=self.reduction)\n"
     ]
    },
    {
     "output_type": "stream",
     "name": "stdout",
     "text": [
      "Epoch: 5  Training Error: 0.0043  Validation Error: 0.0037\n",
      "Epoch: 6  Training Error: 0.0042  Validation Error: 0.0038\n",
      "Epoch: 7  Training Error: 0.0041  Validation Error: 0.0038\n",
      "Epoch: 8  Training Error: 0.0042  Validation Error: 0.0039\n",
      "R-squared: 0.7361\n",
      "Mean Square Error: 0.0192\n"
     ]
    },
    {
     "output_type": "stream",
     "name": "stderr",
     "text": [
      "C:\\Users\\Andy\\AppData\\Local\\Programs\\Python\\Python39\\lib\\site-packages\\torch\\nn\\modules\\rnn.py:62: UserWarning: dropout option adds dropout after all but last recurrent layer, so non-zero dropout expects num_layers greater than 1, but got dropout=0.2 and num_layers=1\n",
      "  warnings.warn(\"dropout option adds dropout after all but last \"\n",
      "C:\\Users\\Andy\\AppData\\Local\\Programs\\Python\\Python39\\lib\\site-packages\\torch\\nn\\modules\\loss.py:528: UserWarning: Using a target size (torch.Size([20, 1])) that is different to the input size (torch.Size([20])). This will likely lead to incorrect results due to broadcasting. Please ensure they have the same size.\n",
      "  return F.mse_loss(input, target, reduction=self.reduction)\n"
     ]
    },
    {
     "output_type": "stream",
     "name": "stdout",
     "text": [
      "Epoch: 1  Training Error: 0.0348  Validation Error: 0.0033\n",
      "Epoch: 2  Training Error: 0.0680  Validation Error: 0.0117\n",
      "Epoch: 3  Training Error: 0.0194  Validation Error: 0.0042\n",
      "Epoch: 4  Training Error: 0.0063  Validation Error: 0.0037\n",
      "Epoch: 5  Training Error: 0.0045  Validation Error: 0.0038\n",
      "R-squared: 0.6492\n",
      "Mean Square Error: 0.0221\n",
      "Epoch: 1  Training Error: 0.0362  Validation Error: 0.0034\n",
      "Epoch: 2  Training Error: 0.0666  Validation Error: 0.0126\n",
      "Epoch: 3  Training Error: 0.0177  Validation Error: 0.0039\n",
      "Epoch: 4  Training Error: 0.0060  Validation Error: 0.0036\n"
     ]
    },
    {
     "output_type": "stream",
     "name": "stderr",
     "text": [
      "C:\\Users\\Andy\\AppData\\Local\\Programs\\Python\\Python39\\lib\\site-packages\\torch\\nn\\modules\\rnn.py:62: UserWarning: dropout option adds dropout after all but last recurrent layer, so non-zero dropout expects num_layers greater than 1, but got dropout=0.2 and num_layers=1\n",
      "  warnings.warn(\"dropout option adds dropout after all but last \"\n",
      "C:\\Users\\Andy\\AppData\\Local\\Programs\\Python\\Python39\\lib\\site-packages\\torch\\nn\\modules\\loss.py:528: UserWarning: Using a target size (torch.Size([20, 1])) that is different to the input size (torch.Size([20])). This will likely lead to incorrect results due to broadcasting. Please ensure they have the same size.\n",
      "  return F.mse_loss(input, target, reduction=self.reduction)\n"
     ]
    },
    {
     "output_type": "stream",
     "name": "stdout",
     "text": [
      "Epoch: 5  Training Error: 0.0044  Validation Error: 0.0038\n",
      "R-squared: 0.7719\n",
      "Mean Square Error: 0.0179\n",
      "Epoch: 1  Training Error: 0.0341  Validation Error: 0.0035\n",
      "Epoch: 2  Training Error: 0.0578  Validation Error: 0.0059\n",
      "Epoch: 3  Training Error: 0.0168  Validation Error: 0.0038\n"
     ]
    },
    {
     "output_type": "stream",
     "name": "stderr",
     "text": [
      "C:\\Users\\Andy\\AppData\\Local\\Programs\\Python\\Python39\\lib\\site-packages\\torch\\nn\\modules\\rnn.py:62: UserWarning: dropout option adds dropout after all but last recurrent layer, so non-zero dropout expects num_layers greater than 1, but got dropout=0.2 and num_layers=1\n",
      "  warnings.warn(\"dropout option adds dropout after all but last \"\n",
      "C:\\Users\\Andy\\AppData\\Local\\Programs\\Python\\Python39\\lib\\site-packages\\torch\\nn\\modules\\loss.py:528: UserWarning: Using a target size (torch.Size([20, 1])) that is different to the input size (torch.Size([20])). This will likely lead to incorrect results due to broadcasting. Please ensure they have the same size.\n",
      "  return F.mse_loss(input, target, reduction=self.reduction)\n"
     ]
    },
    {
     "output_type": "stream",
     "name": "stdout",
     "text": [
      "Epoch: 4  Training Error: 0.0052  Validation Error: 0.0038\n",
      "Epoch: 5  Training Error: 0.0044  Validation Error: 0.0040\n",
      "R-squared: 0.6349\n",
      "Mean Square Error: 0.0226\n",
      "Epoch: 1  Training Error: 0.0359  Validation Error: 0.0039\n",
      "Epoch: 2  Training Error: 0.0625  Validation Error: 0.0110\n"
     ]
    },
    {
     "output_type": "stream",
     "name": "stderr",
     "text": [
      "C:\\Users\\Andy\\AppData\\Local\\Programs\\Python\\Python39\\lib\\site-packages\\torch\\nn\\modules\\rnn.py:62: UserWarning: dropout option adds dropout after all but last recurrent layer, so non-zero dropout expects num_layers greater than 1, but got dropout=0.2 and num_layers=1\n",
      "  warnings.warn(\"dropout option adds dropout after all but last \"\n",
      "C:\\Users\\Andy\\AppData\\Local\\Programs\\Python\\Python39\\lib\\site-packages\\torch\\nn\\modules\\loss.py:528: UserWarning: Using a target size (torch.Size([20, 1])) that is different to the input size (torch.Size([20])). This will likely lead to incorrect results due to broadcasting. Please ensure they have the same size.\n",
      "  return F.mse_loss(input, target, reduction=self.reduction)\n"
     ]
    },
    {
     "output_type": "stream",
     "name": "stdout",
     "text": [
      "Epoch: 3  Training Error: 0.0177  Validation Error: 0.0043\n",
      "Epoch: 4  Training Error: 0.0058  Validation Error: 0.0037\n",
      "Epoch: 5  Training Error: 0.0044  Validation Error: 0.0039\n",
      "Epoch: 6  Training Error: 0.0042  Validation Error: 0.0039\n",
      "Epoch: 7  Training Error: 0.0041  Validation Error: 0.0039\n",
      "Epoch: 8  Training Error: 0.0042  Validation Error: 0.0039\n",
      "R-squared: 0.7161\n",
      "Mean Square Error: 0.0199\n",
      "Epoch: 1  Training Error: 0.0429  Validation Error: 0.0032\n",
      "Epoch: 2  Training Error: 0.0645  Validation Error: 0.0120\n",
      "Epoch: 3  Training Error: 0.0154  Validation Error: 0.0038\n"
     ]
    },
    {
     "output_type": "stream",
     "name": "stderr",
     "text": [
      "C:\\Users\\Andy\\AppData\\Local\\Programs\\Python\\Python39\\lib\\site-packages\\torch\\nn\\modules\\rnn.py:62: UserWarning: dropout option adds dropout after all but last recurrent layer, so non-zero dropout expects num_layers greater than 1, but got dropout=0.2 and num_layers=1\n",
      "  warnings.warn(\"dropout option adds dropout after all but last \"\n",
      "C:\\Users\\Andy\\AppData\\Local\\Programs\\Python\\Python39\\lib\\site-packages\\torch\\nn\\modules\\loss.py:528: UserWarning: Using a target size (torch.Size([20, 1])) that is different to the input size (torch.Size([20])). This will likely lead to incorrect results due to broadcasting. Please ensure they have the same size.\n",
      "  return F.mse_loss(input, target, reduction=self.reduction)\n"
     ]
    },
    {
     "output_type": "stream",
     "name": "stdout",
     "text": [
      "Epoch: 4  Training Error: 0.0054  Validation Error: 0.0037\n",
      "Epoch: 5  Training Error: 0.0043  Validation Error: 0.0038\n",
      "R-squared: 0.6762\n",
      "Mean Square Error: 0.0213\n",
      "Epoch: 1  Training Error: 0.0408  Validation Error: 0.0040\n",
      "Epoch: 2  Training Error: 0.0680  Validation Error: 0.0162\n"
     ]
    },
    {
     "output_type": "stream",
     "name": "stderr",
     "text": [
      "C:\\Users\\Andy\\AppData\\Local\\Programs\\Python\\Python39\\lib\\site-packages\\torch\\nn\\modules\\rnn.py:62: UserWarning: dropout option adds dropout after all but last recurrent layer, so non-zero dropout expects num_layers greater than 1, but got dropout=0.2 and num_layers=1\n",
      "  warnings.warn(\"dropout option adds dropout after all but last \"\n",
      "C:\\Users\\Andy\\AppData\\Local\\Programs\\Python\\Python39\\lib\\site-packages\\torch\\nn\\modules\\loss.py:528: UserWarning: Using a target size (torch.Size([20, 1])) that is different to the input size (torch.Size([20])). This will likely lead to incorrect results due to broadcasting. Please ensure they have the same size.\n",
      "  return F.mse_loss(input, target, reduction=self.reduction)\n"
     ]
    },
    {
     "output_type": "stream",
     "name": "stdout",
     "text": [
      "Epoch: 3  Training Error: 0.0176  Validation Error: 0.0043\n",
      "Epoch: 4  Training Error: 0.0063  Validation Error: 0.0034\n",
      "Epoch: 5  Training Error: 0.0045  Validation Error: 0.0036\n",
      "Epoch: 6  Training Error: 0.0042  Validation Error: 0.0037\n",
      "Epoch: 7  Training Error: 0.0042  Validation Error: 0.0037\n",
      "Epoch: 8  Training Error: 0.0042  Validation Error: 0.0038\n",
      "R-squared: 0.7787\n",
      "Mean Square Error: 0.0176\n",
      "Epoch: 1  Training Error: 0.0391  Validation Error: 0.0033\n",
      "Epoch: 2  Training Error: 0.0631  Validation Error: 0.0130\n",
      "Epoch: 3  Training Error: 0.0163  Validation Error: 0.0037\n"
     ]
    },
    {
     "output_type": "stream",
     "name": "stderr",
     "text": [
      "C:\\Users\\Andy\\AppData\\Local\\Programs\\Python\\Python39\\lib\\site-packages\\torch\\nn\\modules\\rnn.py:62: UserWarning: dropout option adds dropout after all but last recurrent layer, so non-zero dropout expects num_layers greater than 1, but got dropout=0.2 and num_layers=1\n",
      "  warnings.warn(\"dropout option adds dropout after all but last \"\n",
      "C:\\Users\\Andy\\AppData\\Local\\Programs\\Python\\Python39\\lib\\site-packages\\torch\\nn\\modules\\loss.py:528: UserWarning: Using a target size (torch.Size([20, 1])) that is different to the input size (torch.Size([20])). This will likely lead to incorrect results due to broadcasting. Please ensure they have the same size.\n",
      "  return F.mse_loss(input, target, reduction=self.reduction)\n"
     ]
    },
    {
     "output_type": "stream",
     "name": "stdout",
     "text": [
      "Epoch: 4  Training Error: 0.0058  Validation Error: 0.0035\n",
      "Epoch: 5  Training Error: 0.0044  Validation Error: 0.0036\n",
      "R-squared: 0.7182\n",
      "Mean Square Error: 0.0198\n",
      "Epoch: 1  Training Error: 0.0304  Validation Error: 0.0070\n"
     ]
    },
    {
     "output_type": "stream",
     "name": "stderr",
     "text": [
      "C:\\Users\\Andy\\AppData\\Local\\Programs\\Python\\Python39\\lib\\site-packages\\torch\\nn\\modules\\rnn.py:62: UserWarning: dropout option adds dropout after all but last recurrent layer, so non-zero dropout expects num_layers greater than 1, but got dropout=0.2 and num_layers=1\n",
      "  warnings.warn(\"dropout option adds dropout after all but last \"\n",
      "C:\\Users\\Andy\\AppData\\Local\\Programs\\Python\\Python39\\lib\\site-packages\\torch\\nn\\modules\\loss.py:528: UserWarning: Using a target size (torch.Size([20, 1])) that is different to the input size (torch.Size([20])). This will likely lead to incorrect results due to broadcasting. Please ensure they have the same size.\n",
      "  return F.mse_loss(input, target, reduction=self.reduction)\n"
     ]
    },
    {
     "output_type": "stream",
     "name": "stdout",
     "text": [
      "Epoch: 2  Training Error: 0.0635  Validation Error: 0.0051\n",
      "Epoch: 3  Training Error: 0.0197  Validation Error: 0.0037\n",
      "Epoch: 4  Training Error: 0.0055  Validation Error: 0.0037\n",
      "Epoch: 5  Training Error: 0.0044  Validation Error: 0.0038\n",
      "Epoch: 6  Training Error: 0.0042  Validation Error: 0.0038\n",
      "Epoch: 7  Training Error: 0.0041  Validation Error: 0.0038\n",
      "Epoch: 8  Training Error: 0.0042  Validation Error: 0.0039\n",
      "R-squared: 0.7567\n",
      "Mean Square Error: 0.0184\n",
      "Epoch: 1  Training Error: 0.0441  Validation Error: 0.0070\n",
      "Epoch: 2  Training Error: 0.0568  Validation Error: 0.0165\n"
     ]
    },
    {
     "output_type": "stream",
     "name": "stderr",
     "text": [
      "C:\\Users\\Andy\\AppData\\Local\\Programs\\Python\\Python39\\lib\\site-packages\\torch\\nn\\modules\\rnn.py:62: UserWarning: dropout option adds dropout after all but last recurrent layer, so non-zero dropout expects num_layers greater than 1, but got dropout=0.2 and num_layers=1\n",
      "  warnings.warn(\"dropout option adds dropout after all but last \"\n",
      "C:\\Users\\Andy\\AppData\\Local\\Programs\\Python\\Python39\\lib\\site-packages\\torch\\nn\\modules\\loss.py:528: UserWarning: Using a target size (torch.Size([20, 1])) that is different to the input size (torch.Size([20])). This will likely lead to incorrect results due to broadcasting. Please ensure they have the same size.\n",
      "  return F.mse_loss(input, target, reduction=self.reduction)\n"
     ]
    },
    {
     "output_type": "stream",
     "name": "stdout",
     "text": [
      "Epoch: 3  Training Error: 0.0132  Validation Error: 0.0043\n",
      "Epoch: 4  Training Error: 0.0054  Validation Error: 0.0036\n",
      "Epoch: 5  Training Error: 0.0043  Validation Error: 0.0038\n",
      "Epoch: 6  Training Error: 0.0042  Validation Error: 0.0038\n",
      "Epoch: 7  Training Error: 0.0041  Validation Error: 0.0038\n",
      "Epoch: 8  Training Error: 0.0042  Validation Error: 0.0039\n",
      "R-squared: 0.7341\n",
      "Mean Square Error: 0.0193\n",
      "Epoch: 1  Training Error: 0.0353  Validation Error: 0.0043\n",
      "Epoch: 2  Training Error: 0.0522  Validation Error: 0.0081\n",
      "Epoch: 3  Training Error: 0.0135  Validation Error: 0.0046\n"
     ]
    },
    {
     "output_type": "stream",
     "name": "stderr",
     "text": [
      "C:\\Users\\Andy\\AppData\\Local\\Programs\\Python\\Python39\\lib\\site-packages\\torch\\nn\\modules\\rnn.py:62: UserWarning: dropout option adds dropout after all but last recurrent layer, so non-zero dropout expects num_layers greater than 1, but got dropout=0.2 and num_layers=1\n",
      "  warnings.warn(\"dropout option adds dropout after all but last \"\n",
      "C:\\Users\\Andy\\AppData\\Local\\Programs\\Python\\Python39\\lib\\site-packages\\torch\\nn\\modules\\loss.py:528: UserWarning: Using a target size (torch.Size([20, 1])) that is different to the input size (torch.Size([20])). This will likely lead to incorrect results due to broadcasting. Please ensure they have the same size.\n",
      "  return F.mse_loss(input, target, reduction=self.reduction)\n"
     ]
    },
    {
     "output_type": "stream",
     "name": "stdout",
     "text": [
      "Epoch: 4  Training Error: 0.0048  Validation Error: 0.0044\n",
      "Epoch: 5  Training Error: 0.0043  Validation Error: 0.0043\n",
      "Epoch: 6  Training Error: 0.0041  Validation Error: 0.0040\n",
      "Epoch: 7  Training Error: 0.0042  Validation Error: 0.0040\n",
      "Epoch: 8  Training Error: 0.0043  Validation Error: 0.0041\n",
      "Epoch: 9  Training Error: 0.0043  Validation Error: 0.0041\n",
      "Epoch: 10  Training Error: 0.0043  Validation Error: 0.0041\n",
      "R-squared: 0.6288\n",
      "Mean Square Error: 0.0228\n",
      "Epoch: 1  Training Error: 0.0389  Validation Error: 0.0029\n"
     ]
    },
    {
     "output_type": "stream",
     "name": "stderr",
     "text": [
      "C:\\Users\\Andy\\AppData\\Local\\Programs\\Python\\Python39\\lib\\site-packages\\torch\\nn\\modules\\rnn.py:62: UserWarning: dropout option adds dropout after all but last recurrent layer, so non-zero dropout expects num_layers greater than 1, but got dropout=0.2 and num_layers=1\n",
      "  warnings.warn(\"dropout option adds dropout after all but last \"\n",
      "C:\\Users\\Andy\\AppData\\Local\\Programs\\Python\\Python39\\lib\\site-packages\\torch\\nn\\modules\\loss.py:528: UserWarning: Using a target size (torch.Size([20, 1])) that is different to the input size (torch.Size([20])). This will likely lead to incorrect results due to broadcasting. Please ensure they have the same size.\n",
      "  return F.mse_loss(input, target, reduction=self.reduction)\n"
     ]
    },
    {
     "output_type": "stream",
     "name": "stdout",
     "text": [
      "Epoch: 2  Training Error: 0.0605  Validation Error: 0.0102\n",
      "Epoch: 3  Training Error: 0.0152  Validation Error: 0.0036\n",
      "Epoch: 4  Training Error: 0.0053  Validation Error: 0.0036\n",
      "Epoch: 5  Training Error: 0.0043  Validation Error: 0.0038\n",
      "R-squared: 0.7762\n",
      "Mean Square Error: 0.0177\n",
      "Epoch: 1  Training Error: 0.0472  Validation Error: 0.0060\n",
      "Epoch: 2  Training Error: 0.0669  Validation Error: 0.0206\n",
      "Epoch: 3  Training Error: 0.0160  Validation Error: 0.0046\n",
      "Epoch: 4  Training Error: 0.0066  Validation Error: 0.0036\n"
     ]
    },
    {
     "output_type": "stream",
     "name": "stderr",
     "text": [
      "C:\\Users\\Andy\\AppData\\Local\\Programs\\Python\\Python39\\lib\\site-packages\\torch\\nn\\modules\\rnn.py:62: UserWarning: dropout option adds dropout after all but last recurrent layer, so non-zero dropout expects num_layers greater than 1, but got dropout=0.2 and num_layers=1\n",
      "  warnings.warn(\"dropout option adds dropout after all but last \"\n",
      "C:\\Users\\Andy\\AppData\\Local\\Programs\\Python\\Python39\\lib\\site-packages\\torch\\nn\\modules\\loss.py:528: UserWarning: Using a target size (torch.Size([20, 1])) that is different to the input size (torch.Size([20])). This will likely lead to incorrect results due to broadcasting. Please ensure they have the same size.\n",
      "  return F.mse_loss(input, target, reduction=self.reduction)\n"
     ]
    },
    {
     "output_type": "stream",
     "name": "stdout",
     "text": [
      "Epoch: 5  Training Error: 0.0046  Validation Error: 0.0038\n",
      "Epoch: 6  Training Error: 0.0042  Validation Error: 0.0039\n",
      "Epoch: 7  Training Error: 0.0041  Validation Error: 0.0039\n",
      "Epoch: 8  Training Error: 0.0042  Validation Error: 0.0039\n",
      "R-squared: 0.7193\n",
      "Mean Square Error: 0.0198\n"
     ]
    },
    {
     "output_type": "stream",
     "name": "stderr",
     "text": [
      "C:\\Users\\Andy\\AppData\\Local\\Programs\\Python\\Python39\\lib\\site-packages\\torch\\nn\\modules\\rnn.py:62: UserWarning: dropout option adds dropout after all but last recurrent layer, so non-zero dropout expects num_layers greater than 1, but got dropout=0.2 and num_layers=1\n",
      "  warnings.warn(\"dropout option adds dropout after all but last \"\n",
      "C:\\Users\\Andy\\AppData\\Local\\Programs\\Python\\Python39\\lib\\site-packages\\torch\\nn\\modules\\loss.py:528: UserWarning: Using a target size (torch.Size([20, 1])) that is different to the input size (torch.Size([20])). This will likely lead to incorrect results due to broadcasting. Please ensure they have the same size.\n",
      "  return F.mse_loss(input, target, reduction=self.reduction)\n"
     ]
    },
    {
     "output_type": "stream",
     "name": "stdout",
     "text": [
      "Epoch: 1  Training Error: 0.0553  Validation Error: 0.0165\n",
      "Epoch: 2  Training Error: 0.0612  Validation Error: 0.0261\n",
      "Epoch: 3  Training Error: 0.0150  Validation Error: 0.0049\n",
      "Epoch: 4  Training Error: 0.0069  Validation Error: 0.0036\n",
      "Epoch: 5  Training Error: 0.0045  Validation Error: 0.0039\n",
      "Epoch: 6  Training Error: 0.0042  Validation Error: 0.0039\n",
      "Epoch: 7  Training Error: 0.0041  Validation Error: 0.0039\n",
      "Epoch: 8  Training Error: 0.0042  Validation Error: 0.0039\n",
      "R-squared: 0.7528\n",
      "Mean Square Error: 0.0186\n",
      "Epoch: 1  Training Error: 0.0378  Validation Error: 0.0033\n"
     ]
    },
    {
     "output_type": "stream",
     "name": "stderr",
     "text": [
      "C:\\Users\\Andy\\AppData\\Local\\Programs\\Python\\Python39\\lib\\site-packages\\torch\\nn\\modules\\rnn.py:62: UserWarning: dropout option adds dropout after all but last recurrent layer, so non-zero dropout expects num_layers greater than 1, but got dropout=0.2 and num_layers=1\n",
      "  warnings.warn(\"dropout option adds dropout after all but last \"\n",
      "C:\\Users\\Andy\\AppData\\Local\\Programs\\Python\\Python39\\lib\\site-packages\\torch\\nn\\modules\\loss.py:528: UserWarning: Using a target size (torch.Size([20, 1])) that is different to the input size (torch.Size([20])). This will likely lead to incorrect results due to broadcasting. Please ensure they have the same size.\n",
      "  return F.mse_loss(input, target, reduction=self.reduction)\n"
     ]
    },
    {
     "output_type": "stream",
     "name": "stdout",
     "text": [
      "Epoch: 2  Training Error: 0.0709  Validation Error: 0.0133\n",
      "Epoch: 3  Training Error: 0.0186  Validation Error: 0.0045\n",
      "Epoch: 4  Training Error: 0.0059  Validation Error: 0.0037\n",
      "Epoch: 5  Training Error: 0.0044  Validation Error: 0.0039\n",
      "R-squared: 0.7326\n",
      "Mean Square Error: 0.0193\n",
      "Epoch: 1  Training Error: 0.0494  Validation Error: 0.0067\n",
      "Epoch: 2  Training Error: 0.0628  Validation Error: 0.0166\n",
      "Epoch: 3  Training Error: 0.0139  Validation Error: 0.0040\n",
      "Epoch: 4  Training Error: 0.0059  Validation Error: 0.0035\n"
     ]
    },
    {
     "output_type": "stream",
     "name": "stderr",
     "text": [
      "C:\\Users\\Andy\\AppData\\Local\\Programs\\Python\\Python39\\lib\\site-packages\\torch\\nn\\modules\\rnn.py:62: UserWarning: dropout option adds dropout after all but last recurrent layer, so non-zero dropout expects num_layers greater than 1, but got dropout=0.2 and num_layers=1\n",
      "  warnings.warn(\"dropout option adds dropout after all but last \"\n",
      "C:\\Users\\Andy\\AppData\\Local\\Programs\\Python\\Python39\\lib\\site-packages\\torch\\nn\\modules\\loss.py:528: UserWarning: Using a target size (torch.Size([20, 1])) that is different to the input size (torch.Size([20])). This will likely lead to incorrect results due to broadcasting. Please ensure they have the same size.\n",
      "  return F.mse_loss(input, target, reduction=self.reduction)\n"
     ]
    },
    {
     "output_type": "stream",
     "name": "stdout",
     "text": [
      "Epoch: 5  Training Error: 0.0045  Validation Error: 0.0035\n",
      "Epoch: 6  Training Error: 0.0042  Validation Error: 0.0036\n",
      "Epoch: 7  Training Error: 0.0041  Validation Error: 0.0037\n",
      "Epoch: 8  Training Error: 0.0042  Validation Error: 0.0038\n",
      "R-squared: 0.7567\n",
      "Mean Square Error: 0.0184\n"
     ]
    }
   ],
   "metadata": {}
  },
  {
   "cell_type": "code",
   "execution_count": 33,
   "source": [
    "import torch.optim as optim\r\n",
    "column = \"Close\"\r\n",
    "batch_size = 20\r\n",
    "\r\n",
    "trainloader, testloader, valloader, features = load_data(column, batch_size)\r\n",
    "\r\n",
    "# RNN hyperparamters\r\n",
    "params = {\"hidden_dim\": 100,\r\n",
    "        \"layer_dim\": 1,\r\n",
    "        \"dropout\": 0.2,\r\n",
    "        \"features\": features}\r\n",
    "\r\n",
    "# rnn, lstm, gru\r\n",
    "model = \"rnn\"\r\n",
    "r2_scores2 = []\r\n",
    "rmse_scores2 = []\r\n",
    "for i in range(100):\r\n",
    "        rnn = get_model(model, **params)\r\n",
    "\r\n",
    "        criterion = nn.MSELoss(reduction=\"mean\")\r\n",
    "        optimizer = optim.Adam(rnn.parameters(), lr=0.001)\r\n",
    "\r\n",
    "        args = {\"batch_size\": batch_size,\r\n",
    "                \"trainloader\": trainloader,\r\n",
    "                \"testloader\": testloader,\r\n",
    "                \"valloader\": valloader,\r\n",
    "                \"features\": features,\r\n",
    "                \"rnn\": rnn,\r\n",
    "                \"criterion\": criterion,\r\n",
    "                \"optimizer\": optimizer}\r\n",
    "\r\n",
    "        train_prediction, train_actual, test_prediction, test_actual = fit(**args)\r\n",
    "        r2, rmse = metrics(test_prediction, test_actual)\r\n",
    "        r2_scores2.append(r2)\r\n",
    "        rmse_scores2.append(rmse)"
   ],
   "outputs": [
    {
     "output_type": "stream",
     "name": "stderr",
     "text": [
      "C:\\Users\\Andy\\AppData\\Local\\Programs\\Python\\Python39\\lib\\site-packages\\torch\\nn\\modules\\rnn.py:62: UserWarning: dropout option adds dropout after all but last recurrent layer, so non-zero dropout expects num_layers greater than 1, but got dropout=0.2 and num_layers=1\n",
      "  warnings.warn(\"dropout option adds dropout after all but last \"\n",
      "C:\\Users\\Andy\\AppData\\Local\\Programs\\Python\\Python39\\lib\\site-packages\\torch\\nn\\modules\\loss.py:528: UserWarning: Using a target size (torch.Size([20, 1])) that is different to the input size (torch.Size([20])). This will likely lead to incorrect results due to broadcasting. Please ensure they have the same size.\n",
      "  return F.mse_loss(input, target, reduction=self.reduction)\n"
     ]
    },
    {
     "output_type": "stream",
     "name": "stdout",
     "text": [
      "Epoch: 1  Training Error: 0.0350  Validation Error: 0.0038\n",
      "Epoch: 2  Training Error: 0.0770  Validation Error: 0.0291\n",
      "Epoch: 3  Training Error: 0.0212  Validation Error: 0.0073\n",
      "Epoch: 4  Training Error: 0.0104  Validation Error: 0.0038\n",
      "Epoch: 5  Training Error: 0.0059  Validation Error: 0.0036\n",
      "Epoch: 6  Training Error: 0.0045  Validation Error: 0.0037\n",
      "Epoch: 7  Training Error: 0.0042  Validation Error: 0.0038\n",
      "Epoch: 8  Training Error: 0.0041  Validation Error: 0.0037\n",
      "Epoch: 9  Training Error: 0.0042  Validation Error: 0.0037\n",
      "R-squared: 0.7973\n",
      "Mean Square Error: 0.0168\n",
      "Epoch: 1  Training Error: 0.0318  Validation Error: 0.0065\n",
      "Epoch: 2  Training Error: 0.0560  Validation Error: 0.0202\n"
     ]
    },
    {
     "output_type": "stream",
     "name": "stderr",
     "text": [
      "C:\\Users\\Andy\\AppData\\Local\\Programs\\Python\\Python39\\lib\\site-packages\\torch\\nn\\modules\\rnn.py:62: UserWarning: dropout option adds dropout after all but last recurrent layer, so non-zero dropout expects num_layers greater than 1, but got dropout=0.2 and num_layers=1\n",
      "  warnings.warn(\"dropout option adds dropout after all but last \"\n",
      "C:\\Users\\Andy\\AppData\\Local\\Programs\\Python\\Python39\\lib\\site-packages\\torch\\nn\\modules\\loss.py:528: UserWarning: Using a target size (torch.Size([20, 1])) that is different to the input size (torch.Size([20])). This will likely lead to incorrect results due to broadcasting. Please ensure they have the same size.\n",
      "  return F.mse_loss(input, target, reduction=self.reduction)\n"
     ]
    },
    {
     "output_type": "stream",
     "name": "stdout",
     "text": [
      "Epoch: 3  Training Error: 0.0158  Validation Error: 0.0053\n",
      "Epoch: 4  Training Error: 0.0077  Validation Error: 0.0035\n",
      "Epoch: 5  Training Error: 0.0050  Validation Error: 0.0036\n",
      "Epoch: 6  Training Error: 0.0043  Validation Error: 0.0037\n",
      "Epoch: 7  Training Error: 0.0042  Validation Error: 0.0037\n",
      "Epoch: 8  Training Error: 0.0041  Validation Error: 0.0037\n",
      "R-squared: 0.8284\n",
      "Mean Square Error: 0.0155\n",
      "Epoch: 1  Training Error: 0.0381  Validation Error: 0.0158\n",
      "Epoch: 2  Training Error: 0.0545  Validation Error: 0.0237\n",
      "Epoch: 3  Training Error: 0.0155  Validation Error: 0.0054\n",
      "Epoch: 4  Training Error: 0.0080  Validation Error: 0.0034\n"
     ]
    },
    {
     "output_type": "stream",
     "name": "stderr",
     "text": [
      "C:\\Users\\Andy\\AppData\\Local\\Programs\\Python\\Python39\\lib\\site-packages\\torch\\nn\\modules\\rnn.py:62: UserWarning: dropout option adds dropout after all but last recurrent layer, so non-zero dropout expects num_layers greater than 1, but got dropout=0.2 and num_layers=1\n",
      "  warnings.warn(\"dropout option adds dropout after all but last \"\n",
      "C:\\Users\\Andy\\AppData\\Local\\Programs\\Python\\Python39\\lib\\site-packages\\torch\\nn\\modules\\loss.py:528: UserWarning: Using a target size (torch.Size([20, 1])) that is different to the input size (torch.Size([20])). This will likely lead to incorrect results due to broadcasting. Please ensure they have the same size.\n",
      "  return F.mse_loss(input, target, reduction=self.reduction)\n"
     ]
    },
    {
     "output_type": "stream",
     "name": "stdout",
     "text": [
      "Epoch: 5  Training Error: 0.0050  Validation Error: 0.0035\n",
      "Epoch: 6  Training Error: 0.0042  Validation Error: 0.0036\n",
      "Epoch: 7  Training Error: 0.0041  Validation Error: 0.0037\n",
      "Epoch: 8  Training Error: 0.0041  Validation Error: 0.0037\n",
      "R-squared: 0.8127\n",
      "Mean Square Error: 0.0162\n",
      "Epoch: 1  Training Error: 0.0306  Validation Error: 0.0052\n"
     ]
    },
    {
     "output_type": "stream",
     "name": "stderr",
     "text": [
      "C:\\Users\\Andy\\AppData\\Local\\Programs\\Python\\Python39\\lib\\site-packages\\torch\\nn\\modules\\rnn.py:62: UserWarning: dropout option adds dropout after all but last recurrent layer, so non-zero dropout expects num_layers greater than 1, but got dropout=0.2 and num_layers=1\n",
      "  warnings.warn(\"dropout option adds dropout after all but last \"\n",
      "C:\\Users\\Andy\\AppData\\Local\\Programs\\Python\\Python39\\lib\\site-packages\\torch\\nn\\modules\\loss.py:528: UserWarning: Using a target size (torch.Size([20, 1])) that is different to the input size (torch.Size([20])). This will likely lead to incorrect results due to broadcasting. Please ensure they have the same size.\n",
      "  return F.mse_loss(input, target, reduction=self.reduction)\n"
     ]
    },
    {
     "output_type": "stream",
     "name": "stdout",
     "text": [
      "Epoch: 2  Training Error: 0.0600  Validation Error: 0.0232\n",
      "Epoch: 3  Training Error: 0.0176  Validation Error: 0.0057\n",
      "Epoch: 4  Training Error: 0.0092  Validation Error: 0.0037\n",
      "Epoch: 5  Training Error: 0.0054  Validation Error: 0.0038\n",
      "Epoch: 6  Training Error: 0.0043  Validation Error: 0.0039\n",
      "Epoch: 7  Training Error: 0.0042  Validation Error: 0.0038\n",
      "Epoch: 8  Training Error: 0.0041  Validation Error: 0.0038\n",
      "R-squared: 0.8156\n",
      "Mean Square Error: 0.0161\n",
      "Epoch: 1  Training Error: 0.0418  Validation Error: 0.0234\n",
      "Epoch: 2  Training Error: 0.0621  Validation Error: 0.0372\n"
     ]
    },
    {
     "output_type": "stream",
     "name": "stderr",
     "text": [
      "C:\\Users\\Andy\\AppData\\Local\\Programs\\Python\\Python39\\lib\\site-packages\\torch\\nn\\modules\\rnn.py:62: UserWarning: dropout option adds dropout after all but last recurrent layer, so non-zero dropout expects num_layers greater than 1, but got dropout=0.2 and num_layers=1\n",
      "  warnings.warn(\"dropout option adds dropout after all but last \"\n",
      "C:\\Users\\Andy\\AppData\\Local\\Programs\\Python\\Python39\\lib\\site-packages\\torch\\nn\\modules\\loss.py:528: UserWarning: Using a target size (torch.Size([20, 1])) that is different to the input size (torch.Size([20])). This will likely lead to incorrect results due to broadcasting. Please ensure they have the same size.\n",
      "  return F.mse_loss(input, target, reduction=self.reduction)\n"
     ]
    },
    {
     "output_type": "stream",
     "name": "stdout",
     "text": [
      "Epoch: 3  Training Error: 0.0204  Validation Error: 0.0100\n",
      "Epoch: 4  Training Error: 0.0114  Validation Error: 0.0042\n",
      "Epoch: 5  Training Error: 0.0061  Validation Error: 0.0034\n",
      "Epoch: 6  Training Error: 0.0045  Validation Error: 0.0036\n",
      "Epoch: 7  Training Error: 0.0042  Validation Error: 0.0037\n",
      "Epoch: 8  Training Error: 0.0041  Validation Error: 0.0037\n",
      "Epoch: 9  Training Error: 0.0041  Validation Error: 0.0038\n",
      "R-squared: 0.8239\n",
      "Mean Square Error: 0.0157\n",
      "Epoch: 1  Training Error: 0.0437  Validation Error: 0.0169\n",
      "Epoch: 2  Training Error: 0.0565  Validation Error: 0.0242\n",
      "Epoch: 3  Training Error: 0.0184  Validation Error: 0.0058\n",
      "Epoch: 4  Training Error: 0.0103  Validation Error: 0.0035\n"
     ]
    },
    {
     "output_type": "stream",
     "name": "stderr",
     "text": [
      "C:\\Users\\Andy\\AppData\\Local\\Programs\\Python\\Python39\\lib\\site-packages\\torch\\nn\\modules\\rnn.py:62: UserWarning: dropout option adds dropout after all but last recurrent layer, so non-zero dropout expects num_layers greater than 1, but got dropout=0.2 and num_layers=1\n",
      "  warnings.warn(\"dropout option adds dropout after all but last \"\n",
      "C:\\Users\\Andy\\AppData\\Local\\Programs\\Python\\Python39\\lib\\site-packages\\torch\\nn\\modules\\loss.py:528: UserWarning: Using a target size (torch.Size([20, 1])) that is different to the input size (torch.Size([20])). This will likely lead to incorrect results due to broadcasting. Please ensure they have the same size.\n",
      "  return F.mse_loss(input, target, reduction=self.reduction)\n"
     ]
    },
    {
     "output_type": "stream",
     "name": "stdout",
     "text": [
      "Epoch: 5  Training Error: 0.0055  Validation Error: 0.0036\n",
      "Epoch: 6  Training Error: 0.0043  Validation Error: 0.0038\n",
      "Epoch: 7  Training Error: 0.0041  Validation Error: 0.0038\n",
      "Epoch: 8  Training Error: 0.0041  Validation Error: 0.0038\n",
      "R-squared: 0.8013\n",
      "Mean Square Error: 0.0167\n"
     ]
    },
    {
     "output_type": "stream",
     "name": "stderr",
     "text": [
      "C:\\Users\\Andy\\AppData\\Local\\Programs\\Python\\Python39\\lib\\site-packages\\torch\\nn\\modules\\rnn.py:62: UserWarning: dropout option adds dropout after all but last recurrent layer, so non-zero dropout expects num_layers greater than 1, but got dropout=0.2 and num_layers=1\n",
      "  warnings.warn(\"dropout option adds dropout after all but last \"\n",
      "C:\\Users\\Andy\\AppData\\Local\\Programs\\Python\\Python39\\lib\\site-packages\\torch\\nn\\modules\\loss.py:528: UserWarning: Using a target size (torch.Size([20, 1])) that is different to the input size (torch.Size([20])). This will likely lead to incorrect results due to broadcasting. Please ensure they have the same size.\n",
      "  return F.mse_loss(input, target, reduction=self.reduction)\n"
     ]
    },
    {
     "output_type": "stream",
     "name": "stdout",
     "text": [
      "Epoch: 1  Training Error: 0.0406  Validation Error: 0.0179\n",
      "Epoch: 2  Training Error: 0.0620  Validation Error: 0.0344\n",
      "Epoch: 3  Training Error: 0.0219  Validation Error: 0.0098\n",
      "Epoch: 4  Training Error: 0.0131  Validation Error: 0.0044\n",
      "Epoch: 5  Training Error: 0.0069  Validation Error: 0.0035\n",
      "Epoch: 6  Training Error: 0.0047  Validation Error: 0.0037\n",
      "Epoch: 7  Training Error: 0.0042  Validation Error: 0.0038\n",
      "Epoch: 8  Training Error: 0.0041  Validation Error: 0.0038\n",
      "Epoch: 9  Training Error: 0.0041  Validation Error: 0.0038\n",
      "R-squared: 0.8094\n",
      "Mean Square Error: 0.0163\n"
     ]
    },
    {
     "output_type": "stream",
     "name": "stderr",
     "text": [
      "C:\\Users\\Andy\\AppData\\Local\\Programs\\Python\\Python39\\lib\\site-packages\\torch\\nn\\modules\\rnn.py:62: UserWarning: dropout option adds dropout after all but last recurrent layer, so non-zero dropout expects num_layers greater than 1, but got dropout=0.2 and num_layers=1\n",
      "  warnings.warn(\"dropout option adds dropout after all but last \"\n",
      "C:\\Users\\Andy\\AppData\\Local\\Programs\\Python\\Python39\\lib\\site-packages\\torch\\nn\\modules\\loss.py:528: UserWarning: Using a target size (torch.Size([20, 1])) that is different to the input size (torch.Size([20])). This will likely lead to incorrect results due to broadcasting. Please ensure they have the same size.\n",
      "  return F.mse_loss(input, target, reduction=self.reduction)\n"
     ]
    },
    {
     "output_type": "stream",
     "name": "stdout",
     "text": [
      "Epoch: 1  Training Error: 0.0423  Validation Error: 0.0260\n",
      "Epoch: 2  Training Error: 0.0524  Validation Error: 0.0300\n",
      "Epoch: 3  Training Error: 0.0169  Validation Error: 0.0078\n",
      "Epoch: 4  Training Error: 0.0092  Validation Error: 0.0041\n",
      "Epoch: 5  Training Error: 0.0052  Validation Error: 0.0038\n",
      "Epoch: 6  Training Error: 0.0043  Validation Error: 0.0039\n",
      "Epoch: 7  Training Error: 0.0042  Validation Error: 0.0038\n",
      "Epoch: 8  Training Error: 0.0041  Validation Error: 0.0038\n",
      "Epoch: 9  Training Error: 0.0042  Validation Error: 0.0038\n",
      "Epoch: 10  Training Error: 0.0042  Validation Error: 0.0038\n",
      "Epoch: 11  Training Error: 0.0042  Validation Error: 0.0038\n",
      "Epoch: 12  Training Error: 0.0042  Validation Error: 0.0038\n",
      "R-squared: 0.8177\n",
      "Mean Square Error: 0.0160\n",
      "Epoch: 1  Training Error: 0.0330  Validation Error: 0.0061\n",
      "Epoch: 2  Training Error: 0.0636  Validation Error: 0.0267\n",
      "Epoch: 3  Training Error: 0.0192  Validation Error: 0.0063\n",
      "Epoch: 4  Training Error: 0.0101  Validation Error: 0.0035\n"
     ]
    },
    {
     "output_type": "stream",
     "name": "stderr",
     "text": [
      "C:\\Users\\Andy\\AppData\\Local\\Programs\\Python\\Python39\\lib\\site-packages\\torch\\nn\\modules\\rnn.py:62: UserWarning: dropout option adds dropout after all but last recurrent layer, so non-zero dropout expects num_layers greater than 1, but got dropout=0.2 and num_layers=1\n",
      "  warnings.warn(\"dropout option adds dropout after all but last \"\n",
      "C:\\Users\\Andy\\AppData\\Local\\Programs\\Python\\Python39\\lib\\site-packages\\torch\\nn\\modules\\loss.py:528: UserWarning: Using a target size (torch.Size([20, 1])) that is different to the input size (torch.Size([20])). This will likely lead to incorrect results due to broadcasting. Please ensure they have the same size.\n",
      "  return F.mse_loss(input, target, reduction=self.reduction)\n"
     ]
    },
    {
     "output_type": "stream",
     "name": "stdout",
     "text": [
      "Epoch: 5  Training Error: 0.0058  Validation Error: 0.0036\n",
      "Epoch: 6  Training Error: 0.0045  Validation Error: 0.0037\n",
      "Epoch: 7  Training Error: 0.0042  Validation Error: 0.0038\n",
      "Epoch: 8  Training Error: 0.0041  Validation Error: 0.0038\n",
      "R-squared: 0.8146\n",
      "Mean Square Error: 0.0161\n"
     ]
    },
    {
     "output_type": "stream",
     "name": "stderr",
     "text": [
      "C:\\Users\\Andy\\AppData\\Local\\Programs\\Python\\Python39\\lib\\site-packages\\torch\\nn\\modules\\rnn.py:62: UserWarning: dropout option adds dropout after all but last recurrent layer, so non-zero dropout expects num_layers greater than 1, but got dropout=0.2 and num_layers=1\n",
      "  warnings.warn(\"dropout option adds dropout after all but last \"\n",
      "C:\\Users\\Andy\\AppData\\Local\\Programs\\Python\\Python39\\lib\\site-packages\\torch\\nn\\modules\\loss.py:528: UserWarning: Using a target size (torch.Size([20, 1])) that is different to the input size (torch.Size([20])). This will likely lead to incorrect results due to broadcasting. Please ensure they have the same size.\n",
      "  return F.mse_loss(input, target, reduction=self.reduction)\n"
     ]
    },
    {
     "output_type": "stream",
     "name": "stdout",
     "text": [
      "Epoch: 1  Training Error: 0.0312  Validation Error: 0.0065\n",
      "Epoch: 2  Training Error: 0.0576  Validation Error: 0.0208\n",
      "Epoch: 3  Training Error: 0.0164  Validation Error: 0.0057\n",
      "Epoch: 4  Training Error: 0.0079  Validation Error: 0.0036\n",
      "Epoch: 5  Training Error: 0.0051  Validation Error: 0.0036\n",
      "Epoch: 6  Training Error: 0.0043  Validation Error: 0.0037\n",
      "Epoch: 7  Training Error: 0.0042  Validation Error: 0.0038\n",
      "Epoch: 8  Training Error: 0.0042  Validation Error: 0.0037\n",
      "R-squared: 0.7887\n",
      "Mean Square Error: 0.0172\n"
     ]
    },
    {
     "output_type": "stream",
     "name": "stderr",
     "text": [
      "C:\\Users\\Andy\\AppData\\Local\\Programs\\Python\\Python39\\lib\\site-packages\\torch\\nn\\modules\\rnn.py:62: UserWarning: dropout option adds dropout after all but last recurrent layer, so non-zero dropout expects num_layers greater than 1, but got dropout=0.2 and num_layers=1\n",
      "  warnings.warn(\"dropout option adds dropout after all but last \"\n",
      "C:\\Users\\Andy\\AppData\\Local\\Programs\\Python\\Python39\\lib\\site-packages\\torch\\nn\\modules\\loss.py:528: UserWarning: Using a target size (torch.Size([20, 1])) that is different to the input size (torch.Size([20])). This will likely lead to incorrect results due to broadcasting. Please ensure they have the same size.\n",
      "  return F.mse_loss(input, target, reduction=self.reduction)\n"
     ]
    },
    {
     "output_type": "stream",
     "name": "stdout",
     "text": [
      "Epoch: 1  Training Error: 0.0376  Validation Error: 0.0116\n",
      "Epoch: 2  Training Error: 0.0615  Validation Error: 0.0248\n",
      "Epoch: 3  Training Error: 0.0168  Validation Error: 0.0053\n",
      "Epoch: 4  Training Error: 0.0087  Validation Error: 0.0033\n",
      "Epoch: 5  Training Error: 0.0052  Validation Error: 0.0034\n",
      "Epoch: 6  Training Error: 0.0043  Validation Error: 0.0036\n",
      "Epoch: 7  Training Error: 0.0042  Validation Error: 0.0036\n",
      "Epoch: 8  Training Error: 0.0041  Validation Error: 0.0037\n",
      "R-squared: 0.8071\n",
      "Mean Square Error: 0.0164\n",
      "Epoch: 1  Training Error: 0.0513  Validation Error: 0.0193\n"
     ]
    },
    {
     "output_type": "stream",
     "name": "stderr",
     "text": [
      "C:\\Users\\Andy\\AppData\\Local\\Programs\\Python\\Python39\\lib\\site-packages\\torch\\nn\\modules\\rnn.py:62: UserWarning: dropout option adds dropout after all but last recurrent layer, so non-zero dropout expects num_layers greater than 1, but got dropout=0.2 and num_layers=1\n",
      "  warnings.warn(\"dropout option adds dropout after all but last \"\n",
      "C:\\Users\\Andy\\AppData\\Local\\Programs\\Python\\Python39\\lib\\site-packages\\torch\\nn\\modules\\loss.py:528: UserWarning: Using a target size (torch.Size([20, 1])) that is different to the input size (torch.Size([20])). This will likely lead to incorrect results due to broadcasting. Please ensure they have the same size.\n",
      "  return F.mse_loss(input, target, reduction=self.reduction)\n"
     ]
    },
    {
     "output_type": "stream",
     "name": "stdout",
     "text": [
      "Epoch: 2  Training Error: 0.0771  Validation Error: 0.0408\n",
      "Epoch: 3  Training Error: 0.0266  Validation Error: 0.0110\n",
      "Epoch: 4  Training Error: 0.0158  Validation Error: 0.0042\n",
      "Epoch: 5  Training Error: 0.0078  Validation Error: 0.0033\n",
      "Epoch: 6  Training Error: 0.0050  Validation Error: 0.0035\n",
      "Epoch: 7  Training Error: 0.0043  Validation Error: 0.0036\n",
      "Epoch: 8  Training Error: 0.0042  Validation Error: 0.0037\n",
      "Epoch: 9  Training Error: 0.0041  Validation Error: 0.0038\n",
      "R-squared: 0.8079\n",
      "Mean Square Error: 0.0164\n",
      "Epoch: 1  Training Error: 0.0520  Validation Error: 0.0290\n",
      "Epoch: 2  Training Error: 0.0654  Validation Error: 0.0376\n"
     ]
    },
    {
     "output_type": "stream",
     "name": "stderr",
     "text": [
      "C:\\Users\\Andy\\AppData\\Local\\Programs\\Python\\Python39\\lib\\site-packages\\torch\\nn\\modules\\rnn.py:62: UserWarning: dropout option adds dropout after all but last recurrent layer, so non-zero dropout expects num_layers greater than 1, but got dropout=0.2 and num_layers=1\n",
      "  warnings.warn(\"dropout option adds dropout after all but last \"\n",
      "C:\\Users\\Andy\\AppData\\Local\\Programs\\Python\\Python39\\lib\\site-packages\\torch\\nn\\modules\\loss.py:528: UserWarning: Using a target size (torch.Size([20, 1])) that is different to the input size (torch.Size([20])). This will likely lead to incorrect results due to broadcasting. Please ensure they have the same size.\n",
      "  return F.mse_loss(input, target, reduction=self.reduction)\n"
     ]
    },
    {
     "output_type": "stream",
     "name": "stdout",
     "text": [
      "Epoch: 3  Training Error: 0.0211  Validation Error: 0.0104\n",
      "Epoch: 4  Training Error: 0.0122  Validation Error: 0.0050\n",
      "Epoch: 5  Training Error: 0.0063  Validation Error: 0.0040\n",
      "Epoch: 6  Training Error: 0.0045  Validation Error: 0.0040\n",
      "Epoch: 7  Training Error: 0.0042  Validation Error: 0.0039\n",
      "Epoch: 8  Training Error: 0.0041  Validation Error: 0.0039\n",
      "Epoch: 9  Training Error: 0.0041  Validation Error: 0.0039\n",
      "Epoch: 10  Training Error: 0.0041  Validation Error: 0.0039\n",
      "Epoch: 11  Training Error: 0.0042  Validation Error: 0.0039\n",
      "Epoch: 12  Training Error: 0.0042  Validation Error: 0.0039\n",
      "Epoch: 13  Training Error: 0.0042  Validation Error: 0.0039\n",
      "R-squared: 0.8142\n",
      "Mean Square Error: 0.0161\n",
      "Epoch: 1  Training Error: 0.0522  Validation Error: 0.0325\n"
     ]
    },
    {
     "output_type": "stream",
     "name": "stderr",
     "text": [
      "C:\\Users\\Andy\\AppData\\Local\\Programs\\Python\\Python39\\lib\\site-packages\\torch\\nn\\modules\\rnn.py:62: UserWarning: dropout option adds dropout after all but last recurrent layer, so non-zero dropout expects num_layers greater than 1, but got dropout=0.2 and num_layers=1\n",
      "  warnings.warn(\"dropout option adds dropout after all but last \"\n",
      "C:\\Users\\Andy\\AppData\\Local\\Programs\\Python\\Python39\\lib\\site-packages\\torch\\nn\\modules\\loss.py:528: UserWarning: Using a target size (torch.Size([20, 1])) that is different to the input size (torch.Size([20])). This will likely lead to incorrect results due to broadcasting. Please ensure they have the same size.\n",
      "  return F.mse_loss(input, target, reduction=self.reduction)\n"
     ]
    },
    {
     "output_type": "stream",
     "name": "stdout",
     "text": [
      "Epoch: 2  Training Error: 0.0556  Validation Error: 0.0318\n",
      "Epoch: 3  Training Error: 0.0191  Validation Error: 0.0086\n",
      "Epoch: 4  Training Error: 0.0106  Validation Error: 0.0041\n",
      "Epoch: 5  Training Error: 0.0056  Validation Error: 0.0035\n",
      "Epoch: 6  Training Error: 0.0044  Validation Error: 0.0036\n",
      "Epoch: 7  Training Error: 0.0042  Validation Error: 0.0037\n",
      "Epoch: 8  Training Error: 0.0041  Validation Error: 0.0037\n",
      "Epoch: 9  Training Error: 0.0041  Validation Error: 0.0037\n",
      "R-squared: 0.8074\n",
      "Mean Square Error: 0.0164\n",
      "Epoch: 1  Training Error: 0.0456  Validation Error: 0.0254\n",
      "Epoch: 2  Training Error: 0.0522  Validation Error: 0.0268\n",
      "Epoch: 3  Training Error: 0.0175  Validation Error: 0.0067\n"
     ]
    },
    {
     "output_type": "stream",
     "name": "stderr",
     "text": [
      "C:\\Users\\Andy\\AppData\\Local\\Programs\\Python\\Python39\\lib\\site-packages\\torch\\nn\\modules\\rnn.py:62: UserWarning: dropout option adds dropout after all but last recurrent layer, so non-zero dropout expects num_layers greater than 1, but got dropout=0.2 and num_layers=1\n",
      "  warnings.warn(\"dropout option adds dropout after all but last \"\n",
      "C:\\Users\\Andy\\AppData\\Local\\Programs\\Python\\Python39\\lib\\site-packages\\torch\\nn\\modules\\loss.py:528: UserWarning: Using a target size (torch.Size([20, 1])) that is different to the input size (torch.Size([20])). This will likely lead to incorrect results due to broadcasting. Please ensure they have the same size.\n",
      "  return F.mse_loss(input, target, reduction=self.reduction)\n"
     ]
    },
    {
     "output_type": "stream",
     "name": "stdout",
     "text": [
      "Epoch: 4  Training Error: 0.0096  Validation Error: 0.0035\n",
      "Epoch: 5  Training Error: 0.0053  Validation Error: 0.0035\n",
      "Epoch: 6  Training Error: 0.0043  Validation Error: 0.0037\n",
      "Epoch: 7  Training Error: 0.0042  Validation Error: 0.0037\n",
      "Epoch: 8  Training Error: 0.0041  Validation Error: 0.0038\n",
      "Epoch: 9  Training Error: 0.0042  Validation Error: 0.0038\n",
      "R-squared: 0.8146\n",
      "Mean Square Error: 0.0161\n",
      "Epoch: 1  Training Error: 0.0295  Validation Error: 0.0037\n",
      "Epoch: 2  Training Error: 0.0601  Validation Error: 0.0189\n",
      "Epoch: 3  Training Error: 0.0162  Validation Error: 0.0049\n",
      "Epoch: 4  Training Error: 0.0077  Validation Error: 0.0034\n"
     ]
    },
    {
     "output_type": "stream",
     "name": "stderr",
     "text": [
      "C:\\Users\\Andy\\AppData\\Local\\Programs\\Python\\Python39\\lib\\site-packages\\torch\\nn\\modules\\rnn.py:62: UserWarning: dropout option adds dropout after all but last recurrent layer, so non-zero dropout expects num_layers greater than 1, but got dropout=0.2 and num_layers=1\n",
      "  warnings.warn(\"dropout option adds dropout after all but last \"\n",
      "C:\\Users\\Andy\\AppData\\Local\\Programs\\Python\\Python39\\lib\\site-packages\\torch\\nn\\modules\\loss.py:528: UserWarning: Using a target size (torch.Size([20, 1])) that is different to the input size (torch.Size([20])). This will likely lead to incorrect results due to broadcasting. Please ensure they have the same size.\n",
      "  return F.mse_loss(input, target, reduction=self.reduction)\n"
     ]
    },
    {
     "output_type": "stream",
     "name": "stdout",
     "text": [
      "Epoch: 5  Training Error: 0.0052  Validation Error: 0.0036\n",
      "Epoch: 6  Training Error: 0.0044  Validation Error: 0.0037\n",
      "Epoch: 7  Training Error: 0.0042  Validation Error: 0.0037\n",
      "Epoch: 8  Training Error: 0.0042  Validation Error: 0.0038\n",
      "R-squared: 0.8159\n",
      "Mean Square Error: 0.0160\n",
      "Epoch: 1  Training Error: 0.0465  Validation Error: 0.0223\n"
     ]
    },
    {
     "output_type": "stream",
     "name": "stderr",
     "text": [
      "C:\\Users\\Andy\\AppData\\Local\\Programs\\Python\\Python39\\lib\\site-packages\\torch\\nn\\modules\\rnn.py:62: UserWarning: dropout option adds dropout after all but last recurrent layer, so non-zero dropout expects num_layers greater than 1, but got dropout=0.2 and num_layers=1\n",
      "  warnings.warn(\"dropout option adds dropout after all but last \"\n",
      "C:\\Users\\Andy\\AppData\\Local\\Programs\\Python\\Python39\\lib\\site-packages\\torch\\nn\\modules\\loss.py:528: UserWarning: Using a target size (torch.Size([20, 1])) that is different to the input size (torch.Size([20])). This will likely lead to incorrect results due to broadcasting. Please ensure they have the same size.\n",
      "  return F.mse_loss(input, target, reduction=self.reduction)\n"
     ]
    },
    {
     "output_type": "stream",
     "name": "stdout",
     "text": [
      "Epoch: 2  Training Error: 0.0665  Validation Error: 0.0367\n",
      "Epoch: 3  Training Error: 0.0227  Validation Error: 0.0104\n",
      "Epoch: 4  Training Error: 0.0135  Validation Error: 0.0045\n",
      "Epoch: 5  Training Error: 0.0071  Validation Error: 0.0035\n",
      "Epoch: 6  Training Error: 0.0048  Validation Error: 0.0036\n",
      "Epoch: 7  Training Error: 0.0042  Validation Error: 0.0037\n",
      "Epoch: 8  Training Error: 0.0041  Validation Error: 0.0038\n",
      "Epoch: 9  Training Error: 0.0041  Validation Error: 0.0038\n",
      "R-squared: 0.8249\n",
      "Mean Square Error: 0.0156\n",
      "Epoch: 1  Training Error: 0.0422  Validation Error: 0.0301\n",
      "Epoch: 2  Training Error: 0.0585  Validation Error: 0.0391\n"
     ]
    },
    {
     "output_type": "stream",
     "name": "stderr",
     "text": [
      "C:\\Users\\Andy\\AppData\\Local\\Programs\\Python\\Python39\\lib\\site-packages\\torch\\nn\\modules\\rnn.py:62: UserWarning: dropout option adds dropout after all but last recurrent layer, so non-zero dropout expects num_layers greater than 1, but got dropout=0.2 and num_layers=1\n",
      "  warnings.warn(\"dropout option adds dropout after all but last \"\n",
      "C:\\Users\\Andy\\AppData\\Local\\Programs\\Python\\Python39\\lib\\site-packages\\torch\\nn\\modules\\loss.py:528: UserWarning: Using a target size (torch.Size([20, 1])) that is different to the input size (torch.Size([20])). This will likely lead to incorrect results due to broadcasting. Please ensure they have the same size.\n",
      "  return F.mse_loss(input, target, reduction=self.reduction)\n"
     ]
    },
    {
     "output_type": "stream",
     "name": "stdout",
     "text": [
      "Epoch: 3  Training Error: 0.0211  Validation Error: 0.0116\n",
      "Epoch: 4  Training Error: 0.0120  Validation Error: 0.0048\n",
      "Epoch: 5  Training Error: 0.0062  Validation Error: 0.0037\n",
      "Epoch: 6  Training Error: 0.0044  Validation Error: 0.0038\n",
      "Epoch: 7  Training Error: 0.0042  Validation Error: 0.0038\n",
      "Epoch: 8  Training Error: 0.0041  Validation Error: 0.0038\n",
      "Epoch: 9  Training Error: 0.0041  Validation Error: 0.0038\n",
      "R-squared: 0.8177\n",
      "Mean Square Error: 0.0160\n",
      "Epoch: 1  Training Error: 0.0382  Validation Error: 0.0145\n",
      "Epoch: 2  Training Error: 0.0509  Validation Error: 0.0218\n",
      "Epoch: 3  Training Error: 0.0145  Validation Error: 0.0056\n",
      "Epoch: 4  Training Error: 0.0073  Validation Error: 0.0041\n"
     ]
    },
    {
     "output_type": "stream",
     "name": "stderr",
     "text": [
      "C:\\Users\\Andy\\AppData\\Local\\Programs\\Python\\Python39\\lib\\site-packages\\torch\\nn\\modules\\rnn.py:62: UserWarning: dropout option adds dropout after all but last recurrent layer, so non-zero dropout expects num_layers greater than 1, but got dropout=0.2 and num_layers=1\n",
      "  warnings.warn(\"dropout option adds dropout after all but last \"\n",
      "C:\\Users\\Andy\\AppData\\Local\\Programs\\Python\\Python39\\lib\\site-packages\\torch\\nn\\modules\\loss.py:528: UserWarning: Using a target size (torch.Size([20, 1])) that is different to the input size (torch.Size([20])). This will likely lead to incorrect results due to broadcasting. Please ensure they have the same size.\n",
      "  return F.mse_loss(input, target, reduction=self.reduction)\n"
     ]
    },
    {
     "output_type": "stream",
     "name": "stdout",
     "text": [
      "Epoch: 5  Training Error: 0.0046  Validation Error: 0.0041\n",
      "Epoch: 6  Training Error: 0.0042  Validation Error: 0.0040\n",
      "Epoch: 7  Training Error: 0.0041  Validation Error: 0.0039\n",
      "Epoch: 8  Training Error: 0.0041  Validation Error: 0.0039\n",
      "Epoch: 9  Training Error: 0.0042  Validation Error: 0.0039\n",
      "Epoch: 10  Training Error: 0.0042  Validation Error: 0.0039\n",
      "Epoch: 11  Training Error: 0.0042  Validation Error: 0.0039\n",
      "Epoch: 12  Training Error: 0.0042  Validation Error: 0.0039\n",
      "Epoch: 13  Training Error: 0.0042  Validation Error: 0.0039\n",
      "Epoch: 14  Training Error: 0.0042  Validation Error: 0.0039\n",
      "Epoch: 15  Training Error: 0.0043  Validation Error: 0.0040\n",
      "R-squared: 0.6748\n",
      "Mean Square Error: 0.0213\n",
      "Epoch: 1  Training Error: 0.0359  Validation Error: 0.0037\n",
      "Epoch: 2  Training Error: 0.0571  Validation Error: 0.0197\n",
      "Epoch: 3  Training Error: 0.0160  Validation Error: 0.0059\n",
      "Epoch: 4  Training Error: 0.0075  Validation Error: 0.0037\n",
      "Epoch: 5  Training Error: 0.0051  Validation Error: 0.0037\n"
     ]
    },
    {
     "output_type": "stream",
     "name": "stderr",
     "text": [
      "C:\\Users\\Andy\\AppData\\Local\\Programs\\Python\\Python39\\lib\\site-packages\\torch\\nn\\modules\\rnn.py:62: UserWarning: dropout option adds dropout after all but last recurrent layer, so non-zero dropout expects num_layers greater than 1, but got dropout=0.2 and num_layers=1\n",
      "  warnings.warn(\"dropout option adds dropout after all but last \"\n",
      "C:\\Users\\Andy\\AppData\\Local\\Programs\\Python\\Python39\\lib\\site-packages\\torch\\nn\\modules\\loss.py:528: UserWarning: Using a target size (torch.Size([20, 1])) that is different to the input size (torch.Size([20])). This will likely lead to incorrect results due to broadcasting. Please ensure they have the same size.\n",
      "  return F.mse_loss(input, target, reduction=self.reduction)\n"
     ]
    },
    {
     "output_type": "stream",
     "name": "stdout",
     "text": [
      "Epoch: 6  Training Error: 0.0044  Validation Error: 0.0038\n",
      "Epoch: 7  Training Error: 0.0042  Validation Error: 0.0038\n",
      "Epoch: 8  Training Error: 0.0042  Validation Error: 0.0038\n",
      "R-squared: 0.7960\n",
      "Mean Square Error: 0.0169\n",
      "Epoch: 1  Training Error: 0.0371  Validation Error: 0.0108\n",
      "Epoch: 2  Training Error: 0.0665  Validation Error: 0.0316\n"
     ]
    },
    {
     "output_type": "stream",
     "name": "stderr",
     "text": [
      "C:\\Users\\Andy\\AppData\\Local\\Programs\\Python\\Python39\\lib\\site-packages\\torch\\nn\\modules\\rnn.py:62: UserWarning: dropout option adds dropout after all but last recurrent layer, so non-zero dropout expects num_layers greater than 1, but got dropout=0.2 and num_layers=1\n",
      "  warnings.warn(\"dropout option adds dropout after all but last \"\n",
      "C:\\Users\\Andy\\AppData\\Local\\Programs\\Python\\Python39\\lib\\site-packages\\torch\\nn\\modules\\loss.py:528: UserWarning: Using a target size (torch.Size([20, 1])) that is different to the input size (torch.Size([20])). This will likely lead to incorrect results due to broadcasting. Please ensure they have the same size.\n",
      "  return F.mse_loss(input, target, reduction=self.reduction)\n"
     ]
    },
    {
     "output_type": "stream",
     "name": "stdout",
     "text": [
      "Epoch: 3  Training Error: 0.0186  Validation Error: 0.0081\n",
      "Epoch: 4  Training Error: 0.0098  Validation Error: 0.0039\n",
      "Epoch: 5  Training Error: 0.0059  Validation Error: 0.0034\n",
      "Epoch: 6  Training Error: 0.0045  Validation Error: 0.0035\n",
      "Epoch: 7  Training Error: 0.0042  Validation Error: 0.0036\n",
      "Epoch: 8  Training Error: 0.0041  Validation Error: 0.0037\n",
      "Epoch: 9  Training Error: 0.0041  Validation Error: 0.0038\n",
      "R-squared: 0.8195\n",
      "Mean Square Error: 0.0159\n",
      "Epoch: 1  Training Error: 0.0399  Validation Error: 0.0209\n",
      "Epoch: 2  Training Error: 0.0517  Validation Error: 0.0280\n",
      "Epoch: 3  Training Error: 0.0165  Validation Error: 0.0072\n",
      "Epoch: 4  Training Error: 0.0090  Validation Error: 0.0038\n",
      "Epoch: 5  Training Error: 0.0053  Validation Error: 0.0036\n",
      "Epoch: 6  Training Error: 0.0043  Validation Error: 0.0037\n"
     ]
    },
    {
     "output_type": "stream",
     "name": "stderr",
     "text": [
      "C:\\Users\\Andy\\AppData\\Local\\Programs\\Python\\Python39\\lib\\site-packages\\torch\\nn\\modules\\rnn.py:62: UserWarning: dropout option adds dropout after all but last recurrent layer, so non-zero dropout expects num_layers greater than 1, but got dropout=0.2 and num_layers=1\n",
      "  warnings.warn(\"dropout option adds dropout after all but last \"\n",
      "C:\\Users\\Andy\\AppData\\Local\\Programs\\Python\\Python39\\lib\\site-packages\\torch\\nn\\modules\\loss.py:528: UserWarning: Using a target size (torch.Size([20, 1])) that is different to the input size (torch.Size([20])). This will likely lead to incorrect results due to broadcasting. Please ensure they have the same size.\n",
      "  return F.mse_loss(input, target, reduction=self.reduction)\n"
     ]
    },
    {
     "output_type": "stream",
     "name": "stdout",
     "text": [
      "Epoch: 7  Training Error: 0.0042  Validation Error: 0.0038\n",
      "Epoch: 8  Training Error: 0.0041  Validation Error: 0.0038\n",
      "Epoch: 9  Training Error: 0.0042  Validation Error: 0.0038\n",
      "R-squared: 0.8140\n",
      "Mean Square Error: 0.0161\n",
      "Epoch: 1  Training Error: 0.0466  Validation Error: 0.0294\n"
     ]
    },
    {
     "output_type": "stream",
     "name": "stderr",
     "text": [
      "C:\\Users\\Andy\\AppData\\Local\\Programs\\Python\\Python39\\lib\\site-packages\\torch\\nn\\modules\\rnn.py:62: UserWarning: dropout option adds dropout after all but last recurrent layer, so non-zero dropout expects num_layers greater than 1, but got dropout=0.2 and num_layers=1\n",
      "  warnings.warn(\"dropout option adds dropout after all but last \"\n",
      "C:\\Users\\Andy\\AppData\\Local\\Programs\\Python\\Python39\\lib\\site-packages\\torch\\nn\\modules\\loss.py:528: UserWarning: Using a target size (torch.Size([20, 1])) that is different to the input size (torch.Size([20])). This will likely lead to incorrect results due to broadcasting. Please ensure they have the same size.\n",
      "  return F.mse_loss(input, target, reduction=self.reduction)\n"
     ]
    },
    {
     "output_type": "stream",
     "name": "stdout",
     "text": [
      "Epoch: 2  Training Error: 0.0634  Validation Error: 0.0390\n",
      "Epoch: 3  Training Error: 0.0235  Validation Error: 0.0122\n",
      "Epoch: 4  Training Error: 0.0137  Validation Error: 0.0053\n",
      "Epoch: 5  Training Error: 0.0071  Validation Error: 0.0039\n",
      "Epoch: 6  Training Error: 0.0048  Validation Error: 0.0038\n",
      "Epoch: 7  Training Error: 0.0043  Validation Error: 0.0038\n",
      "Epoch: 8  Training Error: 0.0042  Validation Error: 0.0038\n",
      "Epoch: 9  Training Error: 0.0041  Validation Error: 0.0038\n",
      "Epoch: 10  Training Error: 0.0042  Validation Error: 0.0038\n",
      "Epoch: 11  Training Error: 0.0042  Validation Error: 0.0038\n",
      "Epoch: 12  Training Error: 0.0042  Validation Error: 0.0038\n",
      "Epoch: 13  Training Error: 0.0042  Validation Error: 0.0038\n",
      "R-squared: 0.8246\n",
      "Mean Square Error: 0.0157\n",
      "Epoch: 1  Training Error: 0.0336  Validation Error: 0.0035\n",
      "Epoch: 2  Training Error: 0.0683  Validation Error: 0.0196\n",
      "Epoch: 3  Training Error: 0.0181  Validation Error: 0.0052\n",
      "Epoch: 4  Training Error: 0.0085  Validation Error: 0.0033\n",
      "Epoch: 5  Training Error: 0.0056  Validation Error: 0.0033\n"
     ]
    },
    {
     "output_type": "stream",
     "name": "stderr",
     "text": [
      "C:\\Users\\Andy\\AppData\\Local\\Programs\\Python\\Python39\\lib\\site-packages\\torch\\nn\\modules\\rnn.py:62: UserWarning: dropout option adds dropout after all but last recurrent layer, so non-zero dropout expects num_layers greater than 1, but got dropout=0.2 and num_layers=1\n",
      "  warnings.warn(\"dropout option adds dropout after all but last \"\n",
      "C:\\Users\\Andy\\AppData\\Local\\Programs\\Python\\Python39\\lib\\site-packages\\torch\\nn\\modules\\loss.py:528: UserWarning: Using a target size (torch.Size([20, 1])) that is different to the input size (torch.Size([20])). This will likely lead to incorrect results due to broadcasting. Please ensure they have the same size.\n",
      "  return F.mse_loss(input, target, reduction=self.reduction)\n"
     ]
    },
    {
     "output_type": "stream",
     "name": "stdout",
     "text": [
      "Epoch: 6  Training Error: 0.0045  Validation Error: 0.0035\n",
      "Epoch: 7  Training Error: 0.0042  Validation Error: 0.0036\n",
      "Epoch: 8  Training Error: 0.0041  Validation Error: 0.0037\n",
      "R-squared: 0.8205\n",
      "Mean Square Error: 0.0158\n",
      "Epoch: 1  Training Error: 0.0324  Validation Error: 0.0104\n"
     ]
    },
    {
     "output_type": "stream",
     "name": "stderr",
     "text": [
      "C:\\Users\\Andy\\AppData\\Local\\Programs\\Python\\Python39\\lib\\site-packages\\torch\\nn\\modules\\rnn.py:62: UserWarning: dropout option adds dropout after all but last recurrent layer, so non-zero dropout expects num_layers greater than 1, but got dropout=0.2 and num_layers=1\n",
      "  warnings.warn(\"dropout option adds dropout after all but last \"\n",
      "C:\\Users\\Andy\\AppData\\Local\\Programs\\Python\\Python39\\lib\\site-packages\\torch\\nn\\modules\\loss.py:528: UserWarning: Using a target size (torch.Size([20, 1])) that is different to the input size (torch.Size([20])). This will likely lead to incorrect results due to broadcasting. Please ensure they have the same size.\n",
      "  return F.mse_loss(input, target, reduction=self.reduction)\n"
     ]
    },
    {
     "output_type": "stream",
     "name": "stdout",
     "text": [
      "Epoch: 2  Training Error: 0.0515  Validation Error: 0.0218\n",
      "Epoch: 3  Training Error: 0.0159  Validation Error: 0.0053\n",
      "Epoch: 4  Training Error: 0.0081  Validation Error: 0.0033\n",
      "Epoch: 5  Training Error: 0.0051  Validation Error: 0.0035\n",
      "Epoch: 6  Training Error: 0.0043  Validation Error: 0.0037\n",
      "Epoch: 7  Training Error: 0.0041  Validation Error: 0.0037\n",
      "Epoch: 8  Training Error: 0.0041  Validation Error: 0.0038\n",
      "R-squared: 0.8287\n",
      "Mean Square Error: 0.0155\n",
      "Epoch: 1  Training Error: 0.0375  Validation Error: 0.0153\n",
      "Epoch: 2  Training Error: 0.0550  Validation Error: 0.0263\n",
      "Epoch: 3  Training Error: 0.0163  Validation Error: 0.0067\n",
      "Epoch: 4  Training Error: 0.0086  Validation Error: 0.0038\n"
     ]
    },
    {
     "output_type": "stream",
     "name": "stderr",
     "text": [
      "C:\\Users\\Andy\\AppData\\Local\\Programs\\Python\\Python39\\lib\\site-packages\\torch\\nn\\modules\\rnn.py:62: UserWarning: dropout option adds dropout after all but last recurrent layer, so non-zero dropout expects num_layers greater than 1, but got dropout=0.2 and num_layers=1\n",
      "  warnings.warn(\"dropout option adds dropout after all but last \"\n",
      "C:\\Users\\Andy\\AppData\\Local\\Programs\\Python\\Python39\\lib\\site-packages\\torch\\nn\\modules\\loss.py:528: UserWarning: Using a target size (torch.Size([20, 1])) that is different to the input size (torch.Size([20])). This will likely lead to incorrect results due to broadcasting. Please ensure they have the same size.\n",
      "  return F.mse_loss(input, target, reduction=self.reduction)\n"
     ]
    },
    {
     "output_type": "stream",
     "name": "stdout",
     "text": [
      "Epoch: 5  Training Error: 0.0051  Validation Error: 0.0037\n",
      "Epoch: 6  Training Error: 0.0042  Validation Error: 0.0038\n",
      "Epoch: 7  Training Error: 0.0041  Validation Error: 0.0038\n",
      "Epoch: 8  Training Error: 0.0041  Validation Error: 0.0038\n",
      "Epoch: 9  Training Error: 0.0041  Validation Error: 0.0038\n",
      "R-squared: 0.8158\n",
      "Mean Square Error: 0.0160\n",
      "Epoch: 1  Training Error: 0.0287  Validation Error: 0.0050\n",
      "Epoch: 2  Training Error: 0.0609  Validation Error: 0.0211\n",
      "Epoch: 3  Training Error: 0.0167  Validation Error: 0.0058\n",
      "Epoch: 4  Training Error: 0.0076  Validation Error: 0.0037\n",
      "Epoch: 5  Training Error: 0.0050  Validation Error: 0.0037\n"
     ]
    },
    {
     "output_type": "stream",
     "name": "stderr",
     "text": [
      "C:\\Users\\Andy\\AppData\\Local\\Programs\\Python\\Python39\\lib\\site-packages\\torch\\nn\\modules\\rnn.py:62: UserWarning: dropout option adds dropout after all but last recurrent layer, so non-zero dropout expects num_layers greater than 1, but got dropout=0.2 and num_layers=1\n",
      "  warnings.warn(\"dropout option adds dropout after all but last \"\n",
      "C:\\Users\\Andy\\AppData\\Local\\Programs\\Python\\Python39\\lib\\site-packages\\torch\\nn\\modules\\loss.py:528: UserWarning: Using a target size (torch.Size([20, 1])) that is different to the input size (torch.Size([20])). This will likely lead to incorrect results due to broadcasting. Please ensure they have the same size.\n",
      "  return F.mse_loss(input, target, reduction=self.reduction)\n"
     ]
    },
    {
     "output_type": "stream",
     "name": "stdout",
     "text": [
      "Epoch: 6  Training Error: 0.0043  Validation Error: 0.0037\n",
      "Epoch: 7  Training Error: 0.0042  Validation Error: 0.0037\n",
      "Epoch: 8  Training Error: 0.0041  Validation Error: 0.0037\n",
      "Epoch: 9  Training Error: 0.0042  Validation Error: 0.0038\n",
      "R-squared: 0.8223\n",
      "Mean Square Error: 0.0158\n",
      "Epoch: 1  Training Error: 0.0470  Validation Error: 0.0296\n"
     ]
    },
    {
     "output_type": "stream",
     "name": "stderr",
     "text": [
      "C:\\Users\\Andy\\AppData\\Local\\Programs\\Python\\Python39\\lib\\site-packages\\torch\\nn\\modules\\rnn.py:62: UserWarning: dropout option adds dropout after all but last recurrent layer, so non-zero dropout expects num_layers greater than 1, but got dropout=0.2 and num_layers=1\n",
      "  warnings.warn(\"dropout option adds dropout after all but last \"\n",
      "C:\\Users\\Andy\\AppData\\Local\\Programs\\Python\\Python39\\lib\\site-packages\\torch\\nn\\modules\\loss.py:528: UserWarning: Using a target size (torch.Size([20, 1])) that is different to the input size (torch.Size([20])). This will likely lead to incorrect results due to broadcasting. Please ensure they have the same size.\n",
      "  return F.mse_loss(input, target, reduction=self.reduction)\n"
     ]
    },
    {
     "output_type": "stream",
     "name": "stdout",
     "text": [
      "Epoch: 2  Training Error: 0.0566  Validation Error: 0.0310\n",
      "Epoch: 3  Training Error: 0.0188  Validation Error: 0.0081\n",
      "Epoch: 4  Training Error: 0.0104  Validation Error: 0.0037\n",
      "Epoch: 5  Training Error: 0.0056  Validation Error: 0.0033\n",
      "Epoch: 6  Training Error: 0.0044  Validation Error: 0.0034\n",
      "Epoch: 7  Training Error: 0.0042  Validation Error: 0.0035\n",
      "Epoch: 8  Training Error: 0.0041  Validation Error: 0.0036\n",
      "Epoch: 9  Training Error: 0.0041  Validation Error: 0.0037\n",
      "R-squared: 0.8268\n",
      "Mean Square Error: 0.0156\n",
      "Epoch: 1  Training Error: 0.0343  Validation Error: 0.0049\n",
      "Epoch: 2  Training Error: 0.0637  Validation Error: 0.0260\n"
     ]
    },
    {
     "output_type": "stream",
     "name": "stderr",
     "text": [
      "C:\\Users\\Andy\\AppData\\Local\\Programs\\Python\\Python39\\lib\\site-packages\\torch\\nn\\modules\\rnn.py:62: UserWarning: dropout option adds dropout after all but last recurrent layer, so non-zero dropout expects num_layers greater than 1, but got dropout=0.2 and num_layers=1\n",
      "  warnings.warn(\"dropout option adds dropout after all but last \"\n",
      "C:\\Users\\Andy\\AppData\\Local\\Programs\\Python\\Python39\\lib\\site-packages\\torch\\nn\\modules\\loss.py:528: UserWarning: Using a target size (torch.Size([20, 1])) that is different to the input size (torch.Size([20])). This will likely lead to incorrect results due to broadcasting. Please ensure they have the same size.\n",
      "  return F.mse_loss(input, target, reduction=self.reduction)\n"
     ]
    },
    {
     "output_type": "stream",
     "name": "stdout",
     "text": [
      "Epoch: 3  Training Error: 0.0167  Validation Error: 0.0065\n",
      "Epoch: 4  Training Error: 0.0082  Validation Error: 0.0036\n",
      "Epoch: 5  Training Error: 0.0053  Validation Error: 0.0035\n",
      "Epoch: 6  Training Error: 0.0044  Validation Error: 0.0036\n",
      "Epoch: 7  Training Error: 0.0042  Validation Error: 0.0037\n",
      "Epoch: 8  Training Error: 0.0041  Validation Error: 0.0037\n",
      "Epoch: 9  Training Error: 0.0041  Validation Error: 0.0037\n",
      "R-squared: 0.8257\n",
      "Mean Square Error: 0.0156\n",
      "Epoch: 1  Training Error: 0.0345  Validation Error: 0.0093\n",
      "Epoch: 2  Training Error: 0.0634  Validation Error: 0.0278\n",
      "Epoch: 3  Training Error: 0.0179  Validation Error: 0.0065\n",
      "Epoch: 4  Training Error: 0.0090  Validation Error: 0.0035\n",
      "Epoch: 5  Training Error: 0.0052  Validation Error: 0.0035\n"
     ]
    },
    {
     "output_type": "stream",
     "name": "stderr",
     "text": [
      "C:\\Users\\Andy\\AppData\\Local\\Programs\\Python\\Python39\\lib\\site-packages\\torch\\nn\\modules\\rnn.py:62: UserWarning: dropout option adds dropout after all but last recurrent layer, so non-zero dropout expects num_layers greater than 1, but got dropout=0.2 and num_layers=1\n",
      "  warnings.warn(\"dropout option adds dropout after all but last \"\n",
      "C:\\Users\\Andy\\AppData\\Local\\Programs\\Python\\Python39\\lib\\site-packages\\torch\\nn\\modules\\loss.py:528: UserWarning: Using a target size (torch.Size([20, 1])) that is different to the input size (torch.Size([20])). This will likely lead to incorrect results due to broadcasting. Please ensure they have the same size.\n",
      "  return F.mse_loss(input, target, reduction=self.reduction)\n"
     ]
    },
    {
     "output_type": "stream",
     "name": "stdout",
     "text": [
      "Epoch: 6  Training Error: 0.0043  Validation Error: 0.0036\n",
      "Epoch: 7  Training Error: 0.0041  Validation Error: 0.0037\n",
      "Epoch: 8  Training Error: 0.0041  Validation Error: 0.0037\n",
      "Epoch: 9  Training Error: 0.0041  Validation Error: 0.0038\n",
      "R-squared: 0.8112\n",
      "Mean Square Error: 0.0162\n"
     ]
    },
    {
     "output_type": "stream",
     "name": "stderr",
     "text": [
      "C:\\Users\\Andy\\AppData\\Local\\Programs\\Python\\Python39\\lib\\site-packages\\torch\\nn\\modules\\rnn.py:62: UserWarning: dropout option adds dropout after all but last recurrent layer, so non-zero dropout expects num_layers greater than 1, but got dropout=0.2 and num_layers=1\n",
      "  warnings.warn(\"dropout option adds dropout after all but last \"\n",
      "C:\\Users\\Andy\\AppData\\Local\\Programs\\Python\\Python39\\lib\\site-packages\\torch\\nn\\modules\\loss.py:528: UserWarning: Using a target size (torch.Size([20, 1])) that is different to the input size (torch.Size([20])). This will likely lead to incorrect results due to broadcasting. Please ensure they have the same size.\n",
      "  return F.mse_loss(input, target, reduction=self.reduction)\n"
     ]
    },
    {
     "output_type": "stream",
     "name": "stdout",
     "text": [
      "Epoch: 1  Training Error: 0.0305  Validation Error: 0.0031\n",
      "Epoch: 2  Training Error: 0.0651  Validation Error: 0.0197\n",
      "Epoch: 3  Training Error: 0.0185  Validation Error: 0.0052\n",
      "Epoch: 4  Training Error: 0.0095  Validation Error: 0.0035\n",
      "Epoch: 5  Training Error: 0.0058  Validation Error: 0.0036\n",
      "R-squared: 0.5383\n",
      "Mean Square Error: 0.0254\n",
      "Epoch: 1  Training Error: 0.0281  Validation Error: 0.0040\n",
      "Epoch: 2  Training Error: 0.0561  Validation Error: 0.0171\n",
      "Epoch: 3  Training Error: 0.0159  Validation Error: 0.0050\n",
      "Epoch: 4  Training Error: 0.0072  Validation Error: 0.0034\n"
     ]
    },
    {
     "output_type": "stream",
     "name": "stderr",
     "text": [
      "C:\\Users\\Andy\\AppData\\Local\\Programs\\Python\\Python39\\lib\\site-packages\\torch\\nn\\modules\\rnn.py:62: UserWarning: dropout option adds dropout after all but last recurrent layer, so non-zero dropout expects num_layers greater than 1, but got dropout=0.2 and num_layers=1\n",
      "  warnings.warn(\"dropout option adds dropout after all but last \"\n",
      "C:\\Users\\Andy\\AppData\\Local\\Programs\\Python\\Python39\\lib\\site-packages\\torch\\nn\\modules\\loss.py:528: UserWarning: Using a target size (torch.Size([20, 1])) that is different to the input size (torch.Size([20])). This will likely lead to incorrect results due to broadcasting. Please ensure they have the same size.\n",
      "  return F.mse_loss(input, target, reduction=self.reduction)\n"
     ]
    },
    {
     "output_type": "stream",
     "name": "stdout",
     "text": [
      "Epoch: 5  Training Error: 0.0049  Validation Error: 0.0035\n",
      "Epoch: 6  Training Error: 0.0042  Validation Error: 0.0037\n",
      "Epoch: 7  Training Error: 0.0041  Validation Error: 0.0037\n",
      "Epoch: 8  Training Error: 0.0041  Validation Error: 0.0037\n",
      "R-squared: 0.8167\n",
      "Mean Square Error: 0.0160\n",
      "Epoch: 1  Training Error: 0.0396  Validation Error: 0.0145\n",
      "Epoch: 2  Training Error: 0.0717  Validation Error: 0.0388\n",
      "Epoch: 3  Training Error: 0.0213  Validation Error: 0.0103\n",
      "Epoch: 4  Training Error: 0.0123  Validation Error: 0.0044\n"
     ]
    },
    {
     "output_type": "stream",
     "name": "stderr",
     "text": [
      "C:\\Users\\Andy\\AppData\\Local\\Programs\\Python\\Python39\\lib\\site-packages\\torch\\nn\\modules\\rnn.py:62: UserWarning: dropout option adds dropout after all but last recurrent layer, so non-zero dropout expects num_layers greater than 1, but got dropout=0.2 and num_layers=1\n",
      "  warnings.warn(\"dropout option adds dropout after all but last \"\n",
      "C:\\Users\\Andy\\AppData\\Local\\Programs\\Python\\Python39\\lib\\site-packages\\torch\\nn\\modules\\loss.py:528: UserWarning: Using a target size (torch.Size([20, 1])) that is different to the input size (torch.Size([20])). This will likely lead to incorrect results due to broadcasting. Please ensure they have the same size.\n",
      "  return F.mse_loss(input, target, reduction=self.reduction)\n"
     ]
    },
    {
     "output_type": "stream",
     "name": "stdout",
     "text": [
      "Epoch: 5  Training Error: 0.0069  Validation Error: 0.0033\n",
      "Epoch: 6  Training Error: 0.0048  Validation Error: 0.0033\n",
      "Epoch: 7  Training Error: 0.0043  Validation Error: 0.0035\n",
      "Epoch: 8  Training Error: 0.0042  Validation Error: 0.0036\n",
      "Epoch: 9  Training Error: 0.0041  Validation Error: 0.0037\n",
      "R-squared: 0.8121\n",
      "Mean Square Error: 0.0162\n",
      "Epoch: 1  Training Error: 0.0313  Validation Error: 0.0039\n",
      "Epoch: 2  Training Error: 0.0640  Validation Error: 0.0250\n",
      "Epoch: 3  Training Error: 0.0170  Validation Error: 0.0064\n",
      "Epoch: 4  Training Error: 0.0077  Validation Error: 0.0035\n",
      "Epoch: 5  Training Error: 0.0050  Validation Error: 0.0035\n"
     ]
    },
    {
     "output_type": "stream",
     "name": "stderr",
     "text": [
      "C:\\Users\\Andy\\AppData\\Local\\Programs\\Python\\Python39\\lib\\site-packages\\torch\\nn\\modules\\rnn.py:62: UserWarning: dropout option adds dropout after all but last recurrent layer, so non-zero dropout expects num_layers greater than 1, but got dropout=0.2 and num_layers=1\n",
      "  warnings.warn(\"dropout option adds dropout after all but last \"\n",
      "C:\\Users\\Andy\\AppData\\Local\\Programs\\Python\\Python39\\lib\\site-packages\\torch\\nn\\modules\\loss.py:528: UserWarning: Using a target size (torch.Size([20, 1])) that is different to the input size (torch.Size([20])). This will likely lead to incorrect results due to broadcasting. Please ensure they have the same size.\n",
      "  return F.mse_loss(input, target, reduction=self.reduction)\n"
     ]
    },
    {
     "output_type": "stream",
     "name": "stdout",
     "text": [
      "Epoch: 6  Training Error: 0.0043  Validation Error: 0.0037\n",
      "Epoch: 7  Training Error: 0.0041  Validation Error: 0.0038\n",
      "Epoch: 8  Training Error: 0.0041  Validation Error: 0.0038\n",
      "R-squared: 0.8206\n",
      "Mean Square Error: 0.0158\n",
      "Epoch: 1  Training Error: 0.0416  Validation Error: 0.0217\n",
      "Epoch: 2  Training Error: 0.0587  Validation Error: 0.0333\n"
     ]
    },
    {
     "output_type": "stream",
     "name": "stderr",
     "text": [
      "C:\\Users\\Andy\\AppData\\Local\\Programs\\Python\\Python39\\lib\\site-packages\\torch\\nn\\modules\\rnn.py:62: UserWarning: dropout option adds dropout after all but last recurrent layer, so non-zero dropout expects num_layers greater than 1, but got dropout=0.2 and num_layers=1\n",
      "  warnings.warn(\"dropout option adds dropout after all but last \"\n",
      "C:\\Users\\Andy\\AppData\\Local\\Programs\\Python\\Python39\\lib\\site-packages\\torch\\nn\\modules\\loss.py:528: UserWarning: Using a target size (torch.Size([20, 1])) that is different to the input size (torch.Size([20])). This will likely lead to incorrect results due to broadcasting. Please ensure they have the same size.\n",
      "  return F.mse_loss(input, target, reduction=self.reduction)\n"
     ]
    },
    {
     "output_type": "stream",
     "name": "stdout",
     "text": [
      "Epoch: 3  Training Error: 0.0192  Validation Error: 0.0092\n",
      "Epoch: 4  Training Error: 0.0105  Validation Error: 0.0043\n",
      "Epoch: 5  Training Error: 0.0058  Validation Error: 0.0037\n",
      "Epoch: 6  Training Error: 0.0044  Validation Error: 0.0038\n",
      "Epoch: 7  Training Error: 0.0042  Validation Error: 0.0038\n",
      "Epoch: 8  Training Error: 0.0041  Validation Error: 0.0038\n",
      "Epoch: 9  Training Error: 0.0041  Validation Error: 0.0038\n",
      "R-squared: 0.8199\n",
      "Mean Square Error: 0.0159\n",
      "Epoch: 1  Training Error: 0.0417  Validation Error: 0.0109\n",
      "Epoch: 2  Training Error: 0.0581  Validation Error: 0.0238\n"
     ]
    },
    {
     "output_type": "stream",
     "name": "stderr",
     "text": [
      "C:\\Users\\Andy\\AppData\\Local\\Programs\\Python\\Python39\\lib\\site-packages\\torch\\nn\\modules\\rnn.py:62: UserWarning: dropout option adds dropout after all but last recurrent layer, so non-zero dropout expects num_layers greater than 1, but got dropout=0.2 and num_layers=1\n",
      "  warnings.warn(\"dropout option adds dropout after all but last \"\n",
      "C:\\Users\\Andy\\AppData\\Local\\Programs\\Python\\Python39\\lib\\site-packages\\torch\\nn\\modules\\loss.py:528: UserWarning: Using a target size (torch.Size([20, 1])) that is different to the input size (torch.Size([20])). This will likely lead to incorrect results due to broadcasting. Please ensure they have the same size.\n",
      "  return F.mse_loss(input, target, reduction=self.reduction)\n"
     ]
    },
    {
     "output_type": "stream",
     "name": "stdout",
     "text": [
      "Epoch: 3  Training Error: 0.0175  Validation Error: 0.0062\n",
      "Epoch: 4  Training Error: 0.0100  Validation Error: 0.0038\n",
      "Epoch: 5  Training Error: 0.0058  Validation Error: 0.0037\n",
      "Epoch: 6  Training Error: 0.0045  Validation Error: 0.0038\n",
      "Epoch: 7  Training Error: 0.0042  Validation Error: 0.0038\n",
      "Epoch: 8  Training Error: 0.0041  Validation Error: 0.0038\n",
      "Epoch: 9  Training Error: 0.0041  Validation Error: 0.0038\n",
      "R-squared: 0.8138\n",
      "Mean Square Error: 0.0161\n",
      "Epoch: 1  Training Error: 0.0397  Validation Error: 0.0089\n",
      "Epoch: 2  Training Error: 0.0647  Validation Error: 0.0292\n",
      "Epoch: 3  Training Error: 0.0182  Validation Error: 0.0063\n"
     ]
    },
    {
     "output_type": "stream",
     "name": "stderr",
     "text": [
      "C:\\Users\\Andy\\AppData\\Local\\Programs\\Python\\Python39\\lib\\site-packages\\torch\\nn\\modules\\rnn.py:62: UserWarning: dropout option adds dropout after all but last recurrent layer, so non-zero dropout expects num_layers greater than 1, but got dropout=0.2 and num_layers=1\n",
      "  warnings.warn(\"dropout option adds dropout after all but last \"\n",
      "C:\\Users\\Andy\\AppData\\Local\\Programs\\Python\\Python39\\lib\\site-packages\\torch\\nn\\modules\\loss.py:528: UserWarning: Using a target size (torch.Size([20, 1])) that is different to the input size (torch.Size([20])). This will likely lead to incorrect results due to broadcasting. Please ensure they have the same size.\n",
      "  return F.mse_loss(input, target, reduction=self.reduction)\n"
     ]
    },
    {
     "output_type": "stream",
     "name": "stdout",
     "text": [
      "Epoch: 4  Training Error: 0.0096  Validation Error: 0.0034\n",
      "Epoch: 5  Training Error: 0.0054  Validation Error: 0.0034\n",
      "Epoch: 6  Training Error: 0.0044  Validation Error: 0.0035\n",
      "Epoch: 7  Training Error: 0.0042  Validation Error: 0.0036\n",
      "Epoch: 8  Training Error: 0.0042  Validation Error: 0.0037\n",
      "Epoch: 9  Training Error: 0.0042  Validation Error: 0.0037\n",
      "R-squared: 0.8040\n",
      "Mean Square Error: 0.0165\n",
      "Epoch: 1  Training Error: 0.0523  Validation Error: 0.0439\n",
      "Epoch: 2  Training Error: 0.0598  Validation Error: 0.0449\n",
      "Epoch: 3  Training Error: 0.0218  Validation Error: 0.0139\n"
     ]
    },
    {
     "output_type": "stream",
     "name": "stderr",
     "text": [
      "C:\\Users\\Andy\\AppData\\Local\\Programs\\Python\\Python39\\lib\\site-packages\\torch\\nn\\modules\\rnn.py:62: UserWarning: dropout option adds dropout after all but last recurrent layer, so non-zero dropout expects num_layers greater than 1, but got dropout=0.2 and num_layers=1\n",
      "  warnings.warn(\"dropout option adds dropout after all but last \"\n",
      "C:\\Users\\Andy\\AppData\\Local\\Programs\\Python\\Python39\\lib\\site-packages\\torch\\nn\\modules\\loss.py:528: UserWarning: Using a target size (torch.Size([20, 1])) that is different to the input size (torch.Size([20])). This will likely lead to incorrect results due to broadcasting. Please ensure they have the same size.\n",
      "  return F.mse_loss(input, target, reduction=self.reduction)\n"
     ]
    },
    {
     "output_type": "stream",
     "name": "stdout",
     "text": [
      "Epoch: 4  Training Error: 0.0121  Validation Error: 0.0054\n",
      "Epoch: 5  Training Error: 0.0061  Validation Error: 0.0037\n",
      "Epoch: 6  Training Error: 0.0045  Validation Error: 0.0037\n",
      "Epoch: 7  Training Error: 0.0042  Validation Error: 0.0038\n",
      "Epoch: 8  Training Error: 0.0041  Validation Error: 0.0038\n",
      "Epoch: 9  Training Error: 0.0041  Validation Error: 0.0038\n",
      "R-squared: 0.8207\n",
      "Mean Square Error: 0.0158\n",
      "Epoch: 1  Training Error: 0.0412  Validation Error: 0.0104\n",
      "Epoch: 2  Training Error: 0.0724  Validation Error: 0.0299\n",
      "Epoch: 3  Training Error: 0.0202  Validation Error: 0.0067\n",
      "Epoch: 4  Training Error: 0.0100  Validation Error: 0.0036\n"
     ]
    },
    {
     "output_type": "stream",
     "name": "stderr",
     "text": [
      "C:\\Users\\Andy\\AppData\\Local\\Programs\\Python\\Python39\\lib\\site-packages\\torch\\nn\\modules\\rnn.py:62: UserWarning: dropout option adds dropout after all but last recurrent layer, so non-zero dropout expects num_layers greater than 1, but got dropout=0.2 and num_layers=1\n",
      "  warnings.warn(\"dropout option adds dropout after all but last \"\n",
      "C:\\Users\\Andy\\AppData\\Local\\Programs\\Python\\Python39\\lib\\site-packages\\torch\\nn\\modules\\loss.py:528: UserWarning: Using a target size (torch.Size([20, 1])) that is different to the input size (torch.Size([20])). This will likely lead to incorrect results due to broadcasting. Please ensure they have the same size.\n",
      "  return F.mse_loss(input, target, reduction=self.reduction)\n"
     ]
    },
    {
     "output_type": "stream",
     "name": "stdout",
     "text": [
      "Epoch: 5  Training Error: 0.0055  Validation Error: 0.0036\n",
      "Epoch: 6  Training Error: 0.0043  Validation Error: 0.0037\n",
      "Epoch: 7  Training Error: 0.0041  Validation Error: 0.0038\n",
      "Epoch: 8  Training Error: 0.0041  Validation Error: 0.0038\n",
      "R-squared: 0.8242\n",
      "Mean Square Error: 0.0157\n",
      "Epoch: 1  Training Error: 0.0335  Validation Error: 0.0056\n",
      "Epoch: 2  Training Error: 0.0659  Validation Error: 0.0251\n",
      "Epoch: 3  Training Error: 0.0172  Validation Error: 0.0059\n",
      "Epoch: 4  Training Error: 0.0084  Validation Error: 0.0035\n",
      "Epoch: 5  Training Error: 0.0052  Validation Error: 0.0035\n"
     ]
    },
    {
     "output_type": "stream",
     "name": "stderr",
     "text": [
      "C:\\Users\\Andy\\AppData\\Local\\Programs\\Python\\Python39\\lib\\site-packages\\torch\\nn\\modules\\rnn.py:62: UserWarning: dropout option adds dropout after all but last recurrent layer, so non-zero dropout expects num_layers greater than 1, but got dropout=0.2 and num_layers=1\n",
      "  warnings.warn(\"dropout option adds dropout after all but last \"\n",
      "C:\\Users\\Andy\\AppData\\Local\\Programs\\Python\\Python39\\lib\\site-packages\\torch\\nn\\modules\\loss.py:528: UserWarning: Using a target size (torch.Size([20, 1])) that is different to the input size (torch.Size([20])). This will likely lead to incorrect results due to broadcasting. Please ensure they have the same size.\n",
      "  return F.mse_loss(input, target, reduction=self.reduction)\n"
     ]
    },
    {
     "output_type": "stream",
     "name": "stdout",
     "text": [
      "Epoch: 6  Training Error: 0.0043  Validation Error: 0.0036\n",
      "Epoch: 7  Training Error: 0.0041  Validation Error: 0.0037\n",
      "Epoch: 8  Training Error: 0.0041  Validation Error: 0.0037\n",
      "Epoch: 9  Training Error: 0.0041  Validation Error: 0.0038\n",
      "R-squared: 0.8285\n",
      "Mean Square Error: 0.0155\n",
      "Epoch: 1  Training Error: 0.0426  Validation Error: 0.0107\n"
     ]
    },
    {
     "output_type": "stream",
     "name": "stderr",
     "text": [
      "C:\\Users\\Andy\\AppData\\Local\\Programs\\Python\\Python39\\lib\\site-packages\\torch\\nn\\modules\\rnn.py:62: UserWarning: dropout option adds dropout after all but last recurrent layer, so non-zero dropout expects num_layers greater than 1, but got dropout=0.2 and num_layers=1\n",
      "  warnings.warn(\"dropout option adds dropout after all but last \"\n",
      "C:\\Users\\Andy\\AppData\\Local\\Programs\\Python\\Python39\\lib\\site-packages\\torch\\nn\\modules\\loss.py:528: UserWarning: Using a target size (torch.Size([20, 1])) that is different to the input size (torch.Size([20])). This will likely lead to incorrect results due to broadcasting. Please ensure they have the same size.\n",
      "  return F.mse_loss(input, target, reduction=self.reduction)\n"
     ]
    },
    {
     "output_type": "stream",
     "name": "stdout",
     "text": [
      "Epoch: 2  Training Error: 0.0761  Validation Error: 0.0399\n",
      "Epoch: 3  Training Error: 0.0225  Validation Error: 0.0098\n",
      "Epoch: 4  Training Error: 0.0133  Validation Error: 0.0042\n",
      "Epoch: 5  Training Error: 0.0072  Validation Error: 0.0033\n",
      "Epoch: 6  Training Error: 0.0049  Validation Error: 0.0034\n",
      "Epoch: 7  Training Error: 0.0043  Validation Error: 0.0036\n",
      "Epoch: 8  Training Error: 0.0042  Validation Error: 0.0037\n",
      "Epoch: 9  Training Error: 0.0041  Validation Error: 0.0037\n",
      "R-squared: 0.8192\n",
      "Mean Square Error: 0.0159\n",
      "Epoch: 1  Training Error: 0.0358  Validation Error: 0.0078\n"
     ]
    },
    {
     "output_type": "stream",
     "name": "stderr",
     "text": [
      "C:\\Users\\Andy\\AppData\\Local\\Programs\\Python\\Python39\\lib\\site-packages\\torch\\nn\\modules\\rnn.py:62: UserWarning: dropout option adds dropout after all but last recurrent layer, so non-zero dropout expects num_layers greater than 1, but got dropout=0.2 and num_layers=1\n",
      "  warnings.warn(\"dropout option adds dropout after all but last \"\n",
      "C:\\Users\\Andy\\AppData\\Local\\Programs\\Python\\Python39\\lib\\site-packages\\torch\\nn\\modules\\loss.py:528: UserWarning: Using a target size (torch.Size([20, 1])) that is different to the input size (torch.Size([20])). This will likely lead to incorrect results due to broadcasting. Please ensure they have the same size.\n",
      "  return F.mse_loss(input, target, reduction=self.reduction)\n"
     ]
    },
    {
     "output_type": "stream",
     "name": "stdout",
     "text": [
      "Epoch: 2  Training Error: 0.0691  Validation Error: 0.0360\n",
      "Epoch: 3  Training Error: 0.0201  Validation Error: 0.0094\n",
      "Epoch: 4  Training Error: 0.0109  Validation Error: 0.0045\n",
      "Epoch: 5  Training Error: 0.0062  Validation Error: 0.0039\n",
      "Epoch: 6  Training Error: 0.0045  Validation Error: 0.0039\n",
      "Epoch: 7  Training Error: 0.0042  Validation Error: 0.0039\n",
      "Epoch: 8  Training Error: 0.0041  Validation Error: 0.0039\n",
      "Epoch: 9  Training Error: 0.0041  Validation Error: 0.0038\n",
      "Epoch: 10  Training Error: 0.0042  Validation Error: 0.0038\n",
      "Epoch: 11  Training Error: 0.0042  Validation Error: 0.0038\n",
      "Epoch: 12  Training Error: 0.0042  Validation Error: 0.0038\n",
      "Epoch: 13  Training Error: 0.0042  Validation Error: 0.0038\n",
      "Epoch: 14  Training Error: 0.0042  Validation Error: 0.0038\n",
      "R-squared: 0.8205\n",
      "Mean Square Error: 0.0158\n",
      "Epoch: 1  Training Error: 0.0497  Validation Error: 0.0471\n",
      "Epoch: 2  Training Error: 0.0487  Validation Error: 0.0341\n",
      "Epoch: 3  Training Error: 0.0193  Validation Error: 0.0097\n"
     ]
    },
    {
     "output_type": "stream",
     "name": "stderr",
     "text": [
      "C:\\Users\\Andy\\AppData\\Local\\Programs\\Python\\Python39\\lib\\site-packages\\torch\\nn\\modules\\rnn.py:62: UserWarning: dropout option adds dropout after all but last recurrent layer, so non-zero dropout expects num_layers greater than 1, but got dropout=0.2 and num_layers=1\n",
      "  warnings.warn(\"dropout option adds dropout after all but last \"\n",
      "C:\\Users\\Andy\\AppData\\Local\\Programs\\Python\\Python39\\lib\\site-packages\\torch\\nn\\modules\\loss.py:528: UserWarning: Using a target size (torch.Size([20, 1])) that is different to the input size (torch.Size([20])). This will likely lead to incorrect results due to broadcasting. Please ensure they have the same size.\n",
      "  return F.mse_loss(input, target, reduction=self.reduction)\n"
     ]
    },
    {
     "output_type": "stream",
     "name": "stdout",
     "text": [
      "Epoch: 4  Training Error: 0.0108  Validation Error: 0.0041\n",
      "Epoch: 5  Training Error: 0.0057  Validation Error: 0.0034\n",
      "Epoch: 6  Training Error: 0.0044  Validation Error: 0.0035\n",
      "Epoch: 7  Training Error: 0.0042  Validation Error: 0.0036\n",
      "Epoch: 8  Training Error: 0.0041  Validation Error: 0.0037\n",
      "Epoch: 9  Training Error: 0.0041  Validation Error: 0.0038\n",
      "R-squared: 0.8287\n",
      "Mean Square Error: 0.0155\n",
      "Epoch: 1  Training Error: 0.0313  Validation Error: 0.0042\n",
      "Epoch: 2  Training Error: 0.0653  Validation Error: 0.0226\n",
      "Epoch: 3  Training Error: 0.0189  Validation Error: 0.0052\n"
     ]
    },
    {
     "output_type": "stream",
     "name": "stderr",
     "text": [
      "C:\\Users\\Andy\\AppData\\Local\\Programs\\Python\\Python39\\lib\\site-packages\\torch\\nn\\modules\\rnn.py:62: UserWarning: dropout option adds dropout after all but last recurrent layer, so non-zero dropout expects num_layers greater than 1, but got dropout=0.2 and num_layers=1\n",
      "  warnings.warn(\"dropout option adds dropout after all but last \"\n",
      "C:\\Users\\Andy\\AppData\\Local\\Programs\\Python\\Python39\\lib\\site-packages\\torch\\nn\\modules\\loss.py:528: UserWarning: Using a target size (torch.Size([20, 1])) that is different to the input size (torch.Size([20])). This will likely lead to incorrect results due to broadcasting. Please ensure they have the same size.\n",
      "  return F.mse_loss(input, target, reduction=self.reduction)\n"
     ]
    },
    {
     "output_type": "stream",
     "name": "stdout",
     "text": [
      "Epoch: 4  Training Error: 0.0100  Validation Error: 0.0033\n",
      "Epoch: 5  Training Error: 0.0058  Validation Error: 0.0035\n",
      "Epoch: 6  Training Error: 0.0044  Validation Error: 0.0037\n",
      "Epoch: 7  Training Error: 0.0042  Validation Error: 0.0037\n",
      "Epoch: 8  Training Error: 0.0041  Validation Error: 0.0037\n",
      "R-squared: 0.8079\n",
      "Mean Square Error: 0.0164\n",
      "Epoch: 1  Training Error: 0.0410  Validation Error: 0.0247\n",
      "Epoch: 2  Training Error: 0.0562  Validation Error: 0.0340\n",
      "Epoch: 3  Training Error: 0.0200  Validation Error: 0.0100\n",
      "Epoch: 4  Training Error: 0.0115  Validation Error: 0.0044\n",
      "Epoch: 5  Training Error: 0.0061  Validation Error: 0.0035\n"
     ]
    },
    {
     "output_type": "stream",
     "name": "stderr",
     "text": [
      "C:\\Users\\Andy\\AppData\\Local\\Programs\\Python\\Python39\\lib\\site-packages\\torch\\nn\\modules\\rnn.py:62: UserWarning: dropout option adds dropout after all but last recurrent layer, so non-zero dropout expects num_layers greater than 1, but got dropout=0.2 and num_layers=1\n",
      "  warnings.warn(\"dropout option adds dropout after all but last \"\n",
      "C:\\Users\\Andy\\AppData\\Local\\Programs\\Python\\Python39\\lib\\site-packages\\torch\\nn\\modules\\loss.py:528: UserWarning: Using a target size (torch.Size([20, 1])) that is different to the input size (torch.Size([20])). This will likely lead to incorrect results due to broadcasting. Please ensure they have the same size.\n",
      "  return F.mse_loss(input, target, reduction=self.reduction)\n"
     ]
    },
    {
     "output_type": "stream",
     "name": "stdout",
     "text": [
      "Epoch: 6  Training Error: 0.0045  Validation Error: 0.0036\n",
      "Epoch: 7  Training Error: 0.0042  Validation Error: 0.0037\n",
      "Epoch: 8  Training Error: 0.0041  Validation Error: 0.0037\n",
      "Epoch: 9  Training Error: 0.0041  Validation Error: 0.0038\n",
      "R-squared: 0.8387\n",
      "Mean Square Error: 0.0150\n"
     ]
    },
    {
     "output_type": "stream",
     "name": "stderr",
     "text": [
      "C:\\Users\\Andy\\AppData\\Local\\Programs\\Python\\Python39\\lib\\site-packages\\torch\\nn\\modules\\rnn.py:62: UserWarning: dropout option adds dropout after all but last recurrent layer, so non-zero dropout expects num_layers greater than 1, but got dropout=0.2 and num_layers=1\n",
      "  warnings.warn(\"dropout option adds dropout after all but last \"\n",
      "C:\\Users\\Andy\\AppData\\Local\\Programs\\Python\\Python39\\lib\\site-packages\\torch\\nn\\modules\\loss.py:528: UserWarning: Using a target size (torch.Size([20, 1])) that is different to the input size (torch.Size([20])). This will likely lead to incorrect results due to broadcasting. Please ensure they have the same size.\n",
      "  return F.mse_loss(input, target, reduction=self.reduction)\n"
     ]
    },
    {
     "output_type": "stream",
     "name": "stdout",
     "text": [
      "Epoch: 1  Training Error: 0.0381  Validation Error: 0.0051\n",
      "Epoch: 2  Training Error: 0.0617  Validation Error: 0.0244\n",
      "Epoch: 3  Training Error: 0.0167  Validation Error: 0.0060\n",
      "Epoch: 4  Training Error: 0.0084  Validation Error: 0.0037\n",
      "Epoch: 5  Training Error: 0.0054  Validation Error: 0.0036\n",
      "Epoch: 6  Training Error: 0.0044  Validation Error: 0.0037\n",
      "Epoch: 7  Training Error: 0.0042  Validation Error: 0.0037\n",
      "Epoch: 8  Training Error: 0.0041  Validation Error: 0.0037\n",
      "Epoch: 9  Training Error: 0.0041  Validation Error: 0.0038\n",
      "R-squared: 0.8261\n",
      "Mean Square Error: 0.0156\n",
      "Epoch: 1  Training Error: 0.0411  Validation Error: 0.0170\n"
     ]
    },
    {
     "output_type": "stream",
     "name": "stderr",
     "text": [
      "C:\\Users\\Andy\\AppData\\Local\\Programs\\Python\\Python39\\lib\\site-packages\\torch\\nn\\modules\\rnn.py:62: UserWarning: dropout option adds dropout after all but last recurrent layer, so non-zero dropout expects num_layers greater than 1, but got dropout=0.2 and num_layers=1\n",
      "  warnings.warn(\"dropout option adds dropout after all but last \"\n",
      "C:\\Users\\Andy\\AppData\\Local\\Programs\\Python\\Python39\\lib\\site-packages\\torch\\nn\\modules\\loss.py:528: UserWarning: Using a target size (torch.Size([20, 1])) that is different to the input size (torch.Size([20])). This will likely lead to incorrect results due to broadcasting. Please ensure they have the same size.\n",
      "  return F.mse_loss(input, target, reduction=self.reduction)\n"
     ]
    },
    {
     "output_type": "stream",
     "name": "stdout",
     "text": [
      "Epoch: 2  Training Error: 0.0632  Validation Error: 0.0311\n",
      "Epoch: 3  Training Error: 0.0218  Validation Error: 0.0078\n",
      "Epoch: 4  Training Error: 0.0123  Validation Error: 0.0036\n",
      "Epoch: 5  Training Error: 0.0063  Validation Error: 0.0035\n",
      "Epoch: 6  Training Error: 0.0045  Validation Error: 0.0036\n",
      "Epoch: 7  Training Error: 0.0042  Validation Error: 0.0037\n",
      "Epoch: 8  Training Error: 0.0041  Validation Error: 0.0037\n",
      "Epoch: 9  Training Error: 0.0042  Validation Error: 0.0038\n",
      "R-squared: 0.8077\n",
      "Mean Square Error: 0.0164\n",
      "Epoch: 1  Training Error: 0.0332  Validation Error: 0.0077\n"
     ]
    },
    {
     "output_type": "stream",
     "name": "stderr",
     "text": [
      "C:\\Users\\Andy\\AppData\\Local\\Programs\\Python\\Python39\\lib\\site-packages\\torch\\nn\\modules\\rnn.py:62: UserWarning: dropout option adds dropout after all but last recurrent layer, so non-zero dropout expects num_layers greater than 1, but got dropout=0.2 and num_layers=1\n",
      "  warnings.warn(\"dropout option adds dropout after all but last \"\n",
      "C:\\Users\\Andy\\AppData\\Local\\Programs\\Python\\Python39\\lib\\site-packages\\torch\\nn\\modules\\loss.py:528: UserWarning: Using a target size (torch.Size([20, 1])) that is different to the input size (torch.Size([20])). This will likely lead to incorrect results due to broadcasting. Please ensure they have the same size.\n",
      "  return F.mse_loss(input, target, reduction=self.reduction)\n"
     ]
    },
    {
     "output_type": "stream",
     "name": "stdout",
     "text": [
      "Epoch: 2  Training Error: 0.0611  Validation Error: 0.0287\n",
      "Epoch: 3  Training Error: 0.0175  Validation Error: 0.0071\n",
      "Epoch: 4  Training Error: 0.0089  Validation Error: 0.0038\n",
      "Epoch: 5  Training Error: 0.0052  Validation Error: 0.0037\n",
      "Epoch: 6  Training Error: 0.0043  Validation Error: 0.0038\n",
      "Epoch: 7  Training Error: 0.0041  Validation Error: 0.0038\n",
      "Epoch: 8  Training Error: 0.0041  Validation Error: 0.0038\n",
      "Epoch: 9  Training Error: 0.0042  Validation Error: 0.0039\n",
      "R-squared: 0.8094\n",
      "Mean Square Error: 0.0163\n",
      "Epoch: 1  Training Error: 0.0491  Validation Error: 0.0352\n",
      "Epoch: 2  Training Error: 0.0610  Validation Error: 0.0400\n"
     ]
    },
    {
     "output_type": "stream",
     "name": "stderr",
     "text": [
      "C:\\Users\\Andy\\AppData\\Local\\Programs\\Python\\Python39\\lib\\site-packages\\torch\\nn\\modules\\rnn.py:62: UserWarning: dropout option adds dropout after all but last recurrent layer, so non-zero dropout expects num_layers greater than 1, but got dropout=0.2 and num_layers=1\n",
      "  warnings.warn(\"dropout option adds dropout after all but last \"\n",
      "C:\\Users\\Andy\\AppData\\Local\\Programs\\Python\\Python39\\lib\\site-packages\\torch\\nn\\modules\\loss.py:528: UserWarning: Using a target size (torch.Size([20, 1])) that is different to the input size (torch.Size([20])). This will likely lead to incorrect results due to broadcasting. Please ensure they have the same size.\n",
      "  return F.mse_loss(input, target, reduction=self.reduction)\n"
     ]
    },
    {
     "output_type": "stream",
     "name": "stdout",
     "text": [
      "Epoch: 3  Training Error: 0.0227  Validation Error: 0.0126\n",
      "Epoch: 4  Training Error: 0.0133  Validation Error: 0.0051\n",
      "Epoch: 5  Training Error: 0.0070  Validation Error: 0.0034\n",
      "Epoch: 6  Training Error: 0.0048  Validation Error: 0.0034\n",
      "Epoch: 7  Training Error: 0.0042  Validation Error: 0.0035\n",
      "Epoch: 8  Training Error: 0.0041  Validation Error: 0.0036\n",
      "Epoch: 9  Training Error: 0.0041  Validation Error: 0.0037\n",
      "R-squared: 0.8292\n",
      "Mean Square Error: 0.0154\n",
      "Epoch: 1  Training Error: 0.0316  Validation Error: 0.0049\n",
      "Epoch: 2  Training Error: 0.0599  Validation Error: 0.0224\n"
     ]
    },
    {
     "output_type": "stream",
     "name": "stderr",
     "text": [
      "C:\\Users\\Andy\\AppData\\Local\\Programs\\Python\\Python39\\lib\\site-packages\\torch\\nn\\modules\\rnn.py:62: UserWarning: dropout option adds dropout after all but last recurrent layer, so non-zero dropout expects num_layers greater than 1, but got dropout=0.2 and num_layers=1\n",
      "  warnings.warn(\"dropout option adds dropout after all but last \"\n",
      "C:\\Users\\Andy\\AppData\\Local\\Programs\\Python\\Python39\\lib\\site-packages\\torch\\nn\\modules\\loss.py:528: UserWarning: Using a target size (torch.Size([20, 1])) that is different to the input size (torch.Size([20])). This will likely lead to incorrect results due to broadcasting. Please ensure they have the same size.\n",
      "  return F.mse_loss(input, target, reduction=self.reduction)\n"
     ]
    },
    {
     "output_type": "stream",
     "name": "stdout",
     "text": [
      "Epoch: 3  Training Error: 0.0164  Validation Error: 0.0055\n",
      "Epoch: 4  Training Error: 0.0078  Validation Error: 0.0034\n",
      "Epoch: 5  Training Error: 0.0050  Validation Error: 0.0035\n",
      "Epoch: 6  Training Error: 0.0043  Validation Error: 0.0037\n",
      "Epoch: 7  Training Error: 0.0042  Validation Error: 0.0037\n",
      "Epoch: 8  Training Error: 0.0041  Validation Error: 0.0037\n",
      "R-squared: 0.8256\n",
      "Mean Square Error: 0.0156\n",
      "Epoch: 1  Training Error: 0.0384  Validation Error: 0.0050\n",
      "Epoch: 2  Training Error: 0.0672  Validation Error: 0.0242\n",
      "Epoch: 3  Training Error: 0.0177  Validation Error: 0.0054\n",
      "Epoch: 4  Training Error: 0.0092  Validation Error: 0.0035\n",
      "Epoch: 5  Training Error: 0.0053  Validation Error: 0.0036\n"
     ]
    },
    {
     "output_type": "stream",
     "name": "stderr",
     "text": [
      "C:\\Users\\Andy\\AppData\\Local\\Programs\\Python\\Python39\\lib\\site-packages\\torch\\nn\\modules\\rnn.py:62: UserWarning: dropout option adds dropout after all but last recurrent layer, so non-zero dropout expects num_layers greater than 1, but got dropout=0.2 and num_layers=1\n",
      "  warnings.warn(\"dropout option adds dropout after all but last \"\n",
      "C:\\Users\\Andy\\AppData\\Local\\Programs\\Python\\Python39\\lib\\site-packages\\torch\\nn\\modules\\loss.py:528: UserWarning: Using a target size (torch.Size([20, 1])) that is different to the input size (torch.Size([20])). This will likely lead to incorrect results due to broadcasting. Please ensure they have the same size.\n",
      "  return F.mse_loss(input, target, reduction=self.reduction)\n"
     ]
    },
    {
     "output_type": "stream",
     "name": "stdout",
     "text": [
      "Epoch: 6  Training Error: 0.0043  Validation Error: 0.0036\n",
      "Epoch: 7  Training Error: 0.0042  Validation Error: 0.0037\n",
      "Epoch: 8  Training Error: 0.0041  Validation Error: 0.0037\n",
      "R-squared: 0.8110\n",
      "Mean Square Error: 0.0163\n",
      "Epoch: 1  Training Error: 0.0371  Validation Error: 0.0080\n"
     ]
    },
    {
     "output_type": "stream",
     "name": "stderr",
     "text": [
      "C:\\Users\\Andy\\AppData\\Local\\Programs\\Python\\Python39\\lib\\site-packages\\torch\\nn\\modules\\rnn.py:62: UserWarning: dropout option adds dropout after all but last recurrent layer, so non-zero dropout expects num_layers greater than 1, but got dropout=0.2 and num_layers=1\n",
      "  warnings.warn(\"dropout option adds dropout after all but last \"\n",
      "C:\\Users\\Andy\\AppData\\Local\\Programs\\Python\\Python39\\lib\\site-packages\\torch\\nn\\modules\\loss.py:528: UserWarning: Using a target size (torch.Size([20, 1])) that is different to the input size (torch.Size([20])). This will likely lead to incorrect results due to broadcasting. Please ensure they have the same size.\n",
      "  return F.mse_loss(input, target, reduction=self.reduction)\n"
     ]
    },
    {
     "output_type": "stream",
     "name": "stdout",
     "text": [
      "Epoch: 2  Training Error: 0.0718  Validation Error: 0.0339\n",
      "Epoch: 3  Training Error: 0.0209  Validation Error: 0.0086\n",
      "Epoch: 4  Training Error: 0.0113  Validation Error: 0.0043\n",
      "Epoch: 5  Training Error: 0.0062  Validation Error: 0.0039\n",
      "Epoch: 6  Training Error: 0.0045  Validation Error: 0.0039\n",
      "Epoch: 7  Training Error: 0.0042  Validation Error: 0.0039\n",
      "Epoch: 8  Training Error: 0.0042  Validation Error: 0.0039\n",
      "Epoch: 9  Training Error: 0.0042  Validation Error: 0.0039\n",
      "Epoch: 10  Training Error: 0.0042  Validation Error: 0.0039\n",
      "Epoch: 11  Training Error: 0.0042  Validation Error: 0.0039\n",
      "Epoch: 12  Training Error: 0.0042  Validation Error: 0.0039\n",
      "Epoch: 13  Training Error: 0.0042  Validation Error: 0.0039\n",
      "R-squared: 0.8118\n",
      "Mean Square Error: 0.0162\n",
      "Epoch: 1  Training Error: 0.0409  Validation Error: 0.0179\n",
      "Epoch: 2  Training Error: 0.0538  Validation Error: 0.0269\n"
     ]
    },
    {
     "output_type": "stream",
     "name": "stderr",
     "text": [
      "C:\\Users\\Andy\\AppData\\Local\\Programs\\Python\\Python39\\lib\\site-packages\\torch\\nn\\modules\\rnn.py:62: UserWarning: dropout option adds dropout after all but last recurrent layer, so non-zero dropout expects num_layers greater than 1, but got dropout=0.2 and num_layers=1\n",
      "  warnings.warn(\"dropout option adds dropout after all but last \"\n",
      "C:\\Users\\Andy\\AppData\\Local\\Programs\\Python\\Python39\\lib\\site-packages\\torch\\nn\\modules\\loss.py:528: UserWarning: Using a target size (torch.Size([20, 1])) that is different to the input size (torch.Size([20])). This will likely lead to incorrect results due to broadcasting. Please ensure they have the same size.\n",
      "  return F.mse_loss(input, target, reduction=self.reduction)\n"
     ]
    },
    {
     "output_type": "stream",
     "name": "stdout",
     "text": [
      "Epoch: 3  Training Error: 0.0173  Validation Error: 0.0069\n",
      "Epoch: 4  Training Error: 0.0097  Validation Error: 0.0038\n",
      "Epoch: 5  Training Error: 0.0055  Validation Error: 0.0036\n",
      "Epoch: 6  Training Error: 0.0044  Validation Error: 0.0036\n",
      "Epoch: 7  Training Error: 0.0042  Validation Error: 0.0037\n",
      "Epoch: 8  Training Error: 0.0041  Validation Error: 0.0037\n",
      "Epoch: 9  Training Error: 0.0041  Validation Error: 0.0037\n",
      "R-squared: 0.8267\n",
      "Mean Square Error: 0.0156\n",
      "Epoch: 1  Training Error: 0.0453  Validation Error: 0.0315\n",
      "Epoch: 2  Training Error: 0.0550  Validation Error: 0.0366\n",
      "Epoch: 3  Training Error: 0.0191  Validation Error: 0.0112\n"
     ]
    },
    {
     "output_type": "stream",
     "name": "stderr",
     "text": [
      "C:\\Users\\Andy\\AppData\\Local\\Programs\\Python\\Python39\\lib\\site-packages\\torch\\nn\\modules\\rnn.py:62: UserWarning: dropout option adds dropout after all but last recurrent layer, so non-zero dropout expects num_layers greater than 1, but got dropout=0.2 and num_layers=1\n",
      "  warnings.warn(\"dropout option adds dropout after all but last \"\n",
      "C:\\Users\\Andy\\AppData\\Local\\Programs\\Python\\Python39\\lib\\site-packages\\torch\\nn\\modules\\loss.py:528: UserWarning: Using a target size (torch.Size([20, 1])) that is different to the input size (torch.Size([20])). This will likely lead to incorrect results due to broadcasting. Please ensure they have the same size.\n",
      "  return F.mse_loss(input, target, reduction=self.reduction)\n"
     ]
    },
    {
     "output_type": "stream",
     "name": "stdout",
     "text": [
      "Epoch: 4  Training Error: 0.0109  Validation Error: 0.0055\n",
      "Epoch: 5  Training Error: 0.0059  Validation Error: 0.0044\n",
      "Epoch: 6  Training Error: 0.0044  Validation Error: 0.0043\n",
      "Epoch: 7  Training Error: 0.0042  Validation Error: 0.0041\n",
      "Epoch: 8  Training Error: 0.0041  Validation Error: 0.0040\n",
      "Epoch: 9  Training Error: 0.0041  Validation Error: 0.0039\n",
      "Epoch: 10  Training Error: 0.0042  Validation Error: 0.0039\n",
      "Epoch: 11  Training Error: 0.0042  Validation Error: 0.0039\n",
      "Epoch: 12  Training Error: 0.0042  Validation Error: 0.0039\n",
      "Epoch: 13  Training Error: 0.0042  Validation Error: 0.0039\n",
      "Epoch: 14  Training Error: 0.0042  Validation Error: 0.0039\n",
      "Epoch: 15  Training Error: 0.0042  Validation Error: 0.0039\n",
      "Epoch: 16  Training Error: 0.0042  Validation Error: 0.0039\n",
      "Epoch: 17  Training Error: 0.0042  Validation Error: 0.0039\n",
      "R-squared: 0.7347\n",
      "Mean Square Error: 0.0193\n"
     ]
    },
    {
     "output_type": "stream",
     "name": "stderr",
     "text": [
      "C:\\Users\\Andy\\AppData\\Local\\Programs\\Python\\Python39\\lib\\site-packages\\torch\\nn\\modules\\rnn.py:62: UserWarning: dropout option adds dropout after all but last recurrent layer, so non-zero dropout expects num_layers greater than 1, but got dropout=0.2 and num_layers=1\n",
      "  warnings.warn(\"dropout option adds dropout after all but last \"\n",
      "C:\\Users\\Andy\\AppData\\Local\\Programs\\Python\\Python39\\lib\\site-packages\\torch\\nn\\modules\\loss.py:528: UserWarning: Using a target size (torch.Size([20, 1])) that is different to the input size (torch.Size([20])). This will likely lead to incorrect results due to broadcasting. Please ensure they have the same size.\n",
      "  return F.mse_loss(input, target, reduction=self.reduction)\n"
     ]
    },
    {
     "output_type": "stream",
     "name": "stdout",
     "text": [
      "Epoch: 1  Training Error: 0.0396  Validation Error: 0.0095\n",
      "Epoch: 2  Training Error: 0.0704  Validation Error: 0.0282\n",
      "Epoch: 3  Training Error: 0.0193  Validation Error: 0.0058\n",
      "Epoch: 4  Training Error: 0.0095  Validation Error: 0.0033\n",
      "Epoch: 5  Training Error: 0.0054  Validation Error: 0.0035\n",
      "Epoch: 6  Training Error: 0.0044  Validation Error: 0.0036\n",
      "Epoch: 7  Training Error: 0.0042  Validation Error: 0.0037\n",
      "Epoch: 8  Training Error: 0.0041  Validation Error: 0.0037\n",
      "R-squared: 0.8201\n",
      "Mean Square Error: 0.0159\n",
      "Epoch: 1  Training Error: 0.0284  Validation Error: 0.0033\n"
     ]
    },
    {
     "output_type": "stream",
     "name": "stderr",
     "text": [
      "C:\\Users\\Andy\\AppData\\Local\\Programs\\Python\\Python39\\lib\\site-packages\\torch\\nn\\modules\\rnn.py:62: UserWarning: dropout option adds dropout after all but last recurrent layer, so non-zero dropout expects num_layers greater than 1, but got dropout=0.2 and num_layers=1\n",
      "  warnings.warn(\"dropout option adds dropout after all but last \"\n",
      "C:\\Users\\Andy\\AppData\\Local\\Programs\\Python\\Python39\\lib\\site-packages\\torch\\nn\\modules\\loss.py:528: UserWarning: Using a target size (torch.Size([20, 1])) that is different to the input size (torch.Size([20])). This will likely lead to incorrect results due to broadcasting. Please ensure they have the same size.\n",
      "  return F.mse_loss(input, target, reduction=self.reduction)\n"
     ]
    },
    {
     "output_type": "stream",
     "name": "stdout",
     "text": [
      "Epoch: 2  Training Error: 0.0551  Validation Error: 0.0151\n",
      "Epoch: 3  Training Error: 0.0150  Validation Error: 0.0045\n",
      "Epoch: 4  Training Error: 0.0066  Validation Error: 0.0034\n",
      "Epoch: 5  Training Error: 0.0048  Validation Error: 0.0035\n",
      "R-squared: 0.8260\n",
      "Mean Square Error: 0.0156\n"
     ]
    },
    {
     "output_type": "stream",
     "name": "stderr",
     "text": [
      "C:\\Users\\Andy\\AppData\\Local\\Programs\\Python\\Python39\\lib\\site-packages\\torch\\nn\\modules\\rnn.py:62: UserWarning: dropout option adds dropout after all but last recurrent layer, so non-zero dropout expects num_layers greater than 1, but got dropout=0.2 and num_layers=1\n",
      "  warnings.warn(\"dropout option adds dropout after all but last \"\n",
      "C:\\Users\\Andy\\AppData\\Local\\Programs\\Python\\Python39\\lib\\site-packages\\torch\\nn\\modules\\loss.py:528: UserWarning: Using a target size (torch.Size([20, 1])) that is different to the input size (torch.Size([20])). This will likely lead to incorrect results due to broadcasting. Please ensure they have the same size.\n",
      "  return F.mse_loss(input, target, reduction=self.reduction)\n"
     ]
    },
    {
     "output_type": "stream",
     "name": "stdout",
     "text": [
      "Epoch: 1  Training Error: 0.0434  Validation Error: 0.0129\n",
      "Epoch: 2  Training Error: 0.0830  Validation Error: 0.0473\n",
      "Epoch: 3  Training Error: 0.0250  Validation Error: 0.0133\n",
      "Epoch: 4  Training Error: 0.0150  Validation Error: 0.0059\n",
      "Epoch: 5  Training Error: 0.0080  Validation Error: 0.0037\n",
      "Epoch: 6  Training Error: 0.0051  Validation Error: 0.0035\n",
      "Epoch: 7  Training Error: 0.0044  Validation Error: 0.0035\n",
      "Epoch: 8  Training Error: 0.0042  Validation Error: 0.0036\n",
      "Epoch: 9  Training Error: 0.0041  Validation Error: 0.0037\n",
      "Epoch: 10  Training Error: 0.0041  Validation Error: 0.0037\n",
      "R-squared: 0.7913\n",
      "Mean Square Error: 0.0171\n",
      "Epoch: 1  Training Error: 0.0295  Validation Error: 0.0057\n",
      "Epoch: 2  Training Error: 0.0567  Validation Error: 0.0224\n",
      "Epoch: 3  Training Error: 0.0162  Validation Error: 0.0058\n",
      "Epoch: 4  Training Error: 0.0086  Validation Error: 0.0035\n",
      "Epoch: 5  Training Error: 0.0054  Validation Error: 0.0035\n"
     ]
    },
    {
     "output_type": "stream",
     "name": "stderr",
     "text": [
      "C:\\Users\\Andy\\AppData\\Local\\Programs\\Python\\Python39\\lib\\site-packages\\torch\\nn\\modules\\rnn.py:62: UserWarning: dropout option adds dropout after all but last recurrent layer, so non-zero dropout expects num_layers greater than 1, but got dropout=0.2 and num_layers=1\n",
      "  warnings.warn(\"dropout option adds dropout after all but last \"\n",
      "C:\\Users\\Andy\\AppData\\Local\\Programs\\Python\\Python39\\lib\\site-packages\\torch\\nn\\modules\\loss.py:528: UserWarning: Using a target size (torch.Size([20, 1])) that is different to the input size (torch.Size([20])). This will likely lead to incorrect results due to broadcasting. Please ensure they have the same size.\n",
      "  return F.mse_loss(input, target, reduction=self.reduction)\n"
     ]
    },
    {
     "output_type": "stream",
     "name": "stdout",
     "text": [
      "Epoch: 6  Training Error: 0.0044  Validation Error: 0.0036\n",
      "Epoch: 7  Training Error: 0.0042  Validation Error: 0.0037\n",
      "Epoch: 8  Training Error: 0.0041  Validation Error: 0.0037\n",
      "Epoch: 9  Training Error: 0.0041  Validation Error: 0.0037\n",
      "R-squared: 0.8317\n",
      "Mean Square Error: 0.0153\n"
     ]
    },
    {
     "output_type": "stream",
     "name": "stderr",
     "text": [
      "C:\\Users\\Andy\\AppData\\Local\\Programs\\Python\\Python39\\lib\\site-packages\\torch\\nn\\modules\\rnn.py:62: UserWarning: dropout option adds dropout after all but last recurrent layer, so non-zero dropout expects num_layers greater than 1, but got dropout=0.2 and num_layers=1\n",
      "  warnings.warn(\"dropout option adds dropout after all but last \"\n",
      "C:\\Users\\Andy\\AppData\\Local\\Programs\\Python\\Python39\\lib\\site-packages\\torch\\nn\\modules\\loss.py:528: UserWarning: Using a target size (torch.Size([20, 1])) that is different to the input size (torch.Size([20])). This will likely lead to incorrect results due to broadcasting. Please ensure they have the same size.\n",
      "  return F.mse_loss(input, target, reduction=self.reduction)\n"
     ]
    },
    {
     "output_type": "stream",
     "name": "stdout",
     "text": [
      "Epoch: 1  Training Error: 0.0446  Validation Error: 0.0137\n",
      "Epoch: 2  Training Error: 0.0720  Validation Error: 0.0402\n",
      "Epoch: 3  Training Error: 0.0215  Validation Error: 0.0105\n",
      "Epoch: 4  Training Error: 0.0124  Validation Error: 0.0047\n",
      "Epoch: 5  Training Error: 0.0065  Validation Error: 0.0036\n",
      "Epoch: 6  Training Error: 0.0046  Validation Error: 0.0036\n",
      "Epoch: 7  Training Error: 0.0042  Validation Error: 0.0037\n",
      "Epoch: 8  Training Error: 0.0041  Validation Error: 0.0037\n",
      "Epoch: 9  Training Error: 0.0041  Validation Error: 0.0037\n",
      "R-squared: 0.8096\n",
      "Mean Square Error: 0.0163\n"
     ]
    },
    {
     "output_type": "stream",
     "name": "stderr",
     "text": [
      "C:\\Users\\Andy\\AppData\\Local\\Programs\\Python\\Python39\\lib\\site-packages\\torch\\nn\\modules\\rnn.py:62: UserWarning: dropout option adds dropout after all but last recurrent layer, so non-zero dropout expects num_layers greater than 1, but got dropout=0.2 and num_layers=1\n",
      "  warnings.warn(\"dropout option adds dropout after all but last \"\n",
      "C:\\Users\\Andy\\AppData\\Local\\Programs\\Python\\Python39\\lib\\site-packages\\torch\\nn\\modules\\loss.py:528: UserWarning: Using a target size (torch.Size([20, 1])) that is different to the input size (torch.Size([20])). This will likely lead to incorrect results due to broadcasting. Please ensure they have the same size.\n",
      "  return F.mse_loss(input, target, reduction=self.reduction)\n"
     ]
    },
    {
     "output_type": "stream",
     "name": "stdout",
     "text": [
      "Epoch: 1  Training Error: 0.0509  Validation Error: 0.0479\n",
      "Epoch: 2  Training Error: 0.0578  Validation Error: 0.0438\n",
      "Epoch: 3  Training Error: 0.0214  Validation Error: 0.0132\n",
      "Epoch: 4  Training Error: 0.0116  Validation Error: 0.0051\n",
      "Epoch: 5  Training Error: 0.0059  Validation Error: 0.0037\n",
      "Epoch: 6  Training Error: 0.0044  Validation Error: 0.0037\n",
      "Epoch: 7  Training Error: 0.0042  Validation Error: 0.0037\n",
      "Epoch: 8  Training Error: 0.0041  Validation Error: 0.0038\n",
      "Epoch: 9  Training Error: 0.0041  Validation Error: 0.0038\n",
      "R-squared: 0.8258\n",
      "Mean Square Error: 0.0156\n",
      "Epoch: 1  Training Error: 0.0392  Validation Error: 0.0191\n",
      "Epoch: 2  Training Error: 0.0582  Validation Error: 0.0326\n",
      "Epoch: 3  Training Error: 0.0190  Validation Error: 0.0087\n",
      "Epoch: 4  Training Error: 0.0106  Validation Error: 0.0039\n",
      "Epoch: 5  Training Error: 0.0060  Validation Error: 0.0034\n"
     ]
    },
    {
     "output_type": "stream",
     "name": "stderr",
     "text": [
      "C:\\Users\\Andy\\AppData\\Local\\Programs\\Python\\Python39\\lib\\site-packages\\torch\\nn\\modules\\rnn.py:62: UserWarning: dropout option adds dropout after all but last recurrent layer, so non-zero dropout expects num_layers greater than 1, but got dropout=0.2 and num_layers=1\n",
      "  warnings.warn(\"dropout option adds dropout after all but last \"\n",
      "C:\\Users\\Andy\\AppData\\Local\\Programs\\Python\\Python39\\lib\\site-packages\\torch\\nn\\modules\\loss.py:528: UserWarning: Using a target size (torch.Size([20, 1])) that is different to the input size (torch.Size([20])). This will likely lead to incorrect results due to broadcasting. Please ensure they have the same size.\n",
      "  return F.mse_loss(input, target, reduction=self.reduction)\n"
     ]
    },
    {
     "output_type": "stream",
     "name": "stdout",
     "text": [
      "Epoch: 6  Training Error: 0.0045  Validation Error: 0.0035\n",
      "Epoch: 7  Training Error: 0.0042  Validation Error: 0.0036\n",
      "Epoch: 8  Training Error: 0.0041  Validation Error: 0.0037\n",
      "Epoch: 9  Training Error: 0.0041  Validation Error: 0.0037\n",
      "R-squared: 0.8162\n",
      "Mean Square Error: 0.0160\n",
      "Epoch: 1  Training Error: 0.0319  Validation Error: 0.0074\n",
      "Epoch: 2  Training Error: 0.0608  Validation Error: 0.0234\n",
      "Epoch: 3  Training Error: 0.0170  Validation Error: 0.0055\n",
      "Epoch: 4  Training Error: 0.0081  Validation Error: 0.0033\n",
      "Epoch: 5  Training Error: 0.0050  Validation Error: 0.0034\n"
     ]
    },
    {
     "output_type": "stream",
     "name": "stderr",
     "text": [
      "C:\\Users\\Andy\\AppData\\Local\\Programs\\Python\\Python39\\lib\\site-packages\\torch\\nn\\modules\\rnn.py:62: UserWarning: dropout option adds dropout after all but last recurrent layer, so non-zero dropout expects num_layers greater than 1, but got dropout=0.2 and num_layers=1\n",
      "  warnings.warn(\"dropout option adds dropout after all but last \"\n",
      "C:\\Users\\Andy\\AppData\\Local\\Programs\\Python\\Python39\\lib\\site-packages\\torch\\nn\\modules\\loss.py:528: UserWarning: Using a target size (torch.Size([20, 1])) that is different to the input size (torch.Size([20])). This will likely lead to incorrect results due to broadcasting. Please ensure they have the same size.\n",
      "  return F.mse_loss(input, target, reduction=self.reduction)\n"
     ]
    },
    {
     "output_type": "stream",
     "name": "stdout",
     "text": [
      "Epoch: 6  Training Error: 0.0043  Validation Error: 0.0036\n",
      "Epoch: 7  Training Error: 0.0041  Validation Error: 0.0036\n",
      "Epoch: 8  Training Error: 0.0041  Validation Error: 0.0037\n",
      "R-squared: 0.8089\n",
      "Mean Square Error: 0.0163\n"
     ]
    },
    {
     "output_type": "stream",
     "name": "stderr",
     "text": [
      "C:\\Users\\Andy\\AppData\\Local\\Programs\\Python\\Python39\\lib\\site-packages\\torch\\nn\\modules\\rnn.py:62: UserWarning: dropout option adds dropout after all but last recurrent layer, so non-zero dropout expects num_layers greater than 1, but got dropout=0.2 and num_layers=1\n",
      "  warnings.warn(\"dropout option adds dropout after all but last \"\n",
      "C:\\Users\\Andy\\AppData\\Local\\Programs\\Python\\Python39\\lib\\site-packages\\torch\\nn\\modules\\loss.py:528: UserWarning: Using a target size (torch.Size([20, 1])) that is different to the input size (torch.Size([20])). This will likely lead to incorrect results due to broadcasting. Please ensure they have the same size.\n",
      "  return F.mse_loss(input, target, reduction=self.reduction)\n"
     ]
    },
    {
     "output_type": "stream",
     "name": "stdout",
     "text": [
      "Epoch: 1  Training Error: 0.0426  Validation Error: 0.0205\n",
      "Epoch: 2  Training Error: 0.0564  Validation Error: 0.0265\n",
      "Epoch: 3  Training Error: 0.0173  Validation Error: 0.0060\n",
      "Epoch: 4  Training Error: 0.0094  Validation Error: 0.0035\n",
      "Epoch: 5  Training Error: 0.0054  Validation Error: 0.0034\n",
      "Epoch: 6  Training Error: 0.0044  Validation Error: 0.0035\n",
      "Epoch: 7  Training Error: 0.0042  Validation Error: 0.0035\n",
      "Epoch: 8  Training Error: 0.0041  Validation Error: 0.0036\n",
      "Epoch: 9  Training Error: 0.0042  Validation Error: 0.0037\n",
      "R-squared: 0.8243\n",
      "Mean Square Error: 0.0157\n",
      "Epoch: 1  Training Error: 0.0454  Validation Error: 0.0229\n"
     ]
    },
    {
     "output_type": "stream",
     "name": "stderr",
     "text": [
      "C:\\Users\\Andy\\AppData\\Local\\Programs\\Python\\Python39\\lib\\site-packages\\torch\\nn\\modules\\rnn.py:62: UserWarning: dropout option adds dropout after all but last recurrent layer, so non-zero dropout expects num_layers greater than 1, but got dropout=0.2 and num_layers=1\n",
      "  warnings.warn(\"dropout option adds dropout after all but last \"\n",
      "C:\\Users\\Andy\\AppData\\Local\\Programs\\Python\\Python39\\lib\\site-packages\\torch\\nn\\modules\\loss.py:528: UserWarning: Using a target size (torch.Size([20, 1])) that is different to the input size (torch.Size([20])). This will likely lead to incorrect results due to broadcasting. Please ensure they have the same size.\n",
      "  return F.mse_loss(input, target, reduction=self.reduction)\n"
     ]
    },
    {
     "output_type": "stream",
     "name": "stdout",
     "text": [
      "Epoch: 2  Training Error: 0.0638  Validation Error: 0.0364\n",
      "Epoch: 3  Training Error: 0.0204  Validation Error: 0.0095\n",
      "Epoch: 4  Training Error: 0.0116  Validation Error: 0.0043\n",
      "Epoch: 5  Training Error: 0.0062  Validation Error: 0.0036\n",
      "Epoch: 6  Training Error: 0.0045  Validation Error: 0.0037\n",
      "Epoch: 7  Training Error: 0.0042  Validation Error: 0.0038\n",
      "Epoch: 8  Training Error: 0.0041  Validation Error: 0.0038\n",
      "Epoch: 9  Training Error: 0.0041  Validation Error: 0.0039\n",
      "R-squared: 0.8038\n",
      "Mean Square Error: 0.0166\n",
      "Epoch: 1  Training Error: 0.0311  Validation Error: 0.0043\n",
      "Epoch: 2  Training Error: 0.0689  Validation Error: 0.0314\n"
     ]
    },
    {
     "output_type": "stream",
     "name": "stderr",
     "text": [
      "C:\\Users\\Andy\\AppData\\Local\\Programs\\Python\\Python39\\lib\\site-packages\\torch\\nn\\modules\\rnn.py:62: UserWarning: dropout option adds dropout after all but last recurrent layer, so non-zero dropout expects num_layers greater than 1, but got dropout=0.2 and num_layers=1\n",
      "  warnings.warn(\"dropout option adds dropout after all but last \"\n",
      "C:\\Users\\Andy\\AppData\\Local\\Programs\\Python\\Python39\\lib\\site-packages\\torch\\nn\\modules\\loss.py:528: UserWarning: Using a target size (torch.Size([20, 1])) that is different to the input size (torch.Size([20])). This will likely lead to incorrect results due to broadcasting. Please ensure they have the same size.\n",
      "  return F.mse_loss(input, target, reduction=self.reduction)\n"
     ]
    },
    {
     "output_type": "stream",
     "name": "stdout",
     "text": [
      "Epoch: 3  Training Error: 0.0199  Validation Error: 0.0075\n",
      "Epoch: 4  Training Error: 0.0108  Validation Error: 0.0036\n",
      "Epoch: 5  Training Error: 0.0062  Validation Error: 0.0033\n",
      "Epoch: 6  Training Error: 0.0045  Validation Error: 0.0035\n",
      "Epoch: 7  Training Error: 0.0042  Validation Error: 0.0036\n",
      "Epoch: 8  Training Error: 0.0041  Validation Error: 0.0037\n",
      "Epoch: 9  Training Error: 0.0041  Validation Error: 0.0037\n",
      "R-squared: 0.8159\n",
      "Mean Square Error: 0.0160\n",
      "Epoch: 1  Training Error: 0.0352  Validation Error: 0.0131\n",
      "Epoch: 2  Training Error: 0.0607  Validation Error: 0.0343\n",
      "Epoch: 3  Training Error: 0.0177  Validation Error: 0.0090\n"
     ]
    },
    {
     "output_type": "stream",
     "name": "stderr",
     "text": [
      "C:\\Users\\Andy\\AppData\\Local\\Programs\\Python\\Python39\\lib\\site-packages\\torch\\nn\\modules\\rnn.py:62: UserWarning: dropout option adds dropout after all but last recurrent layer, so non-zero dropout expects num_layers greater than 1, but got dropout=0.2 and num_layers=1\n",
      "  warnings.warn(\"dropout option adds dropout after all but last \"\n",
      "C:\\Users\\Andy\\AppData\\Local\\Programs\\Python\\Python39\\lib\\site-packages\\torch\\nn\\modules\\loss.py:528: UserWarning: Using a target size (torch.Size([20, 1])) that is different to the input size (torch.Size([20])). This will likely lead to incorrect results due to broadcasting. Please ensure they have the same size.\n",
      "  return F.mse_loss(input, target, reduction=self.reduction)\n"
     ]
    },
    {
     "output_type": "stream",
     "name": "stdout",
     "text": [
      "Epoch: 4  Training Error: 0.0093  Validation Error: 0.0040\n",
      "Epoch: 5  Training Error: 0.0055  Validation Error: 0.0035\n",
      "Epoch: 6  Training Error: 0.0044  Validation Error: 0.0036\n",
      "Epoch: 7  Training Error: 0.0042  Validation Error: 0.0036\n",
      "Epoch: 8  Training Error: 0.0042  Validation Error: 0.0037\n",
      "Epoch: 9  Training Error: 0.0042  Validation Error: 0.0037\n",
      "R-squared: 0.7958\n",
      "Mean Square Error: 0.0169\n",
      "Epoch: 1  Training Error: 0.0347  Validation Error: 0.0078\n",
      "Epoch: 2  Training Error: 0.0650  Validation Error: 0.0270\n",
      "Epoch: 3  Training Error: 0.0189  Validation Error: 0.0062\n",
      "Epoch: 4  Training Error: 0.0106  Validation Error: 0.0034\n"
     ]
    },
    {
     "output_type": "stream",
     "name": "stderr",
     "text": [
      "C:\\Users\\Andy\\AppData\\Local\\Programs\\Python\\Python39\\lib\\site-packages\\torch\\nn\\modules\\rnn.py:62: UserWarning: dropout option adds dropout after all but last recurrent layer, so non-zero dropout expects num_layers greater than 1, but got dropout=0.2 and num_layers=1\n",
      "  warnings.warn(\"dropout option adds dropout after all but last \"\n",
      "C:\\Users\\Andy\\AppData\\Local\\Programs\\Python\\Python39\\lib\\site-packages\\torch\\nn\\modules\\loss.py:528: UserWarning: Using a target size (torch.Size([20, 1])) that is different to the input size (torch.Size([20])). This will likely lead to incorrect results due to broadcasting. Please ensure they have the same size.\n",
      "  return F.mse_loss(input, target, reduction=self.reduction)\n"
     ]
    },
    {
     "output_type": "stream",
     "name": "stdout",
     "text": [
      "Epoch: 5  Training Error: 0.0059  Validation Error: 0.0034\n",
      "Epoch: 6  Training Error: 0.0045  Validation Error: 0.0035\n",
      "Epoch: 7  Training Error: 0.0042  Validation Error: 0.0036\n",
      "Epoch: 8  Training Error: 0.0041  Validation Error: 0.0037\n",
      "Epoch: 9  Training Error: 0.0041  Validation Error: 0.0037\n",
      "R-squared: 0.8221\n",
      "Mean Square Error: 0.0158\n"
     ]
    },
    {
     "output_type": "stream",
     "name": "stderr",
     "text": [
      "C:\\Users\\Andy\\AppData\\Local\\Programs\\Python\\Python39\\lib\\site-packages\\torch\\nn\\modules\\rnn.py:62: UserWarning: dropout option adds dropout after all but last recurrent layer, so non-zero dropout expects num_layers greater than 1, but got dropout=0.2 and num_layers=1\n",
      "  warnings.warn(\"dropout option adds dropout after all but last \"\n",
      "C:\\Users\\Andy\\AppData\\Local\\Programs\\Python\\Python39\\lib\\site-packages\\torch\\nn\\modules\\loss.py:528: UserWarning: Using a target size (torch.Size([20, 1])) that is different to the input size (torch.Size([20])). This will likely lead to incorrect results due to broadcasting. Please ensure they have the same size.\n",
      "  return F.mse_loss(input, target, reduction=self.reduction)\n"
     ]
    },
    {
     "output_type": "stream",
     "name": "stdout",
     "text": [
      "Epoch: 1  Training Error: 0.0412  Validation Error: 0.0264\n",
      "Epoch: 2  Training Error: 0.0632  Validation Error: 0.0438\n",
      "Epoch: 3  Training Error: 0.0217  Validation Error: 0.0125\n",
      "Epoch: 4  Training Error: 0.0126  Validation Error: 0.0050\n",
      "Epoch: 5  Training Error: 0.0066  Validation Error: 0.0035\n",
      "Epoch: 6  Training Error: 0.0046  Validation Error: 0.0035\n",
      "Epoch: 7  Training Error: 0.0042  Validation Error: 0.0036\n",
      "Epoch: 8  Training Error: 0.0041  Validation Error: 0.0036\n",
      "Epoch: 9  Training Error: 0.0041  Validation Error: 0.0037\n",
      "R-squared: 0.8229\n",
      "Mean Square Error: 0.0157\n"
     ]
    },
    {
     "output_type": "stream",
     "name": "stderr",
     "text": [
      "C:\\Users\\Andy\\AppData\\Local\\Programs\\Python\\Python39\\lib\\site-packages\\torch\\nn\\modules\\rnn.py:62: UserWarning: dropout option adds dropout after all but last recurrent layer, so non-zero dropout expects num_layers greater than 1, but got dropout=0.2 and num_layers=1\n",
      "  warnings.warn(\"dropout option adds dropout after all but last \"\n",
      "C:\\Users\\Andy\\AppData\\Local\\Programs\\Python\\Python39\\lib\\site-packages\\torch\\nn\\modules\\loss.py:528: UserWarning: Using a target size (torch.Size([20, 1])) that is different to the input size (torch.Size([20])). This will likely lead to incorrect results due to broadcasting. Please ensure they have the same size.\n",
      "  return F.mse_loss(input, target, reduction=self.reduction)\n"
     ]
    },
    {
     "output_type": "stream",
     "name": "stdout",
     "text": [
      "Epoch: 1  Training Error: 0.0373  Validation Error: 0.0107\n",
      "Epoch: 2  Training Error: 0.0584  Validation Error: 0.0228\n",
      "Epoch: 3  Training Error: 0.0170  Validation Error: 0.0053\n",
      "Epoch: 4  Training Error: 0.0089  Validation Error: 0.0034\n",
      "Epoch: 5  Training Error: 0.0052  Validation Error: 0.0034\n",
      "Epoch: 6  Training Error: 0.0043  Validation Error: 0.0035\n",
      "Epoch: 7  Training Error: 0.0042  Validation Error: 0.0036\n",
      "Epoch: 8  Training Error: 0.0041  Validation Error: 0.0036\n",
      "R-squared: 0.8126\n",
      "Mean Square Error: 0.0162\n",
      "Epoch: 1  Training Error: 0.0303  Validation Error: 0.0042\n"
     ]
    },
    {
     "output_type": "stream",
     "name": "stderr",
     "text": [
      "C:\\Users\\Andy\\AppData\\Local\\Programs\\Python\\Python39\\lib\\site-packages\\torch\\nn\\modules\\rnn.py:62: UserWarning: dropout option adds dropout after all but last recurrent layer, so non-zero dropout expects num_layers greater than 1, but got dropout=0.2 and num_layers=1\n",
      "  warnings.warn(\"dropout option adds dropout after all but last \"\n",
      "C:\\Users\\Andy\\AppData\\Local\\Programs\\Python\\Python39\\lib\\site-packages\\torch\\nn\\modules\\loss.py:528: UserWarning: Using a target size (torch.Size([20, 1])) that is different to the input size (torch.Size([20])). This will likely lead to incorrect results due to broadcasting. Please ensure they have the same size.\n",
      "  return F.mse_loss(input, target, reduction=self.reduction)\n"
     ]
    },
    {
     "output_type": "stream",
     "name": "stdout",
     "text": [
      "Epoch: 2  Training Error: 0.0586  Validation Error: 0.0234\n",
      "Epoch: 3  Training Error: 0.0157  Validation Error: 0.0062\n",
      "Epoch: 4  Training Error: 0.0075  Validation Error: 0.0035\n",
      "Epoch: 5  Training Error: 0.0050  Validation Error: 0.0034\n",
      "Epoch: 6  Training Error: 0.0043  Validation Error: 0.0036\n",
      "Epoch: 7  Training Error: 0.0041  Validation Error: 0.0037\n",
      "Epoch: 8  Training Error: 0.0041  Validation Error: 0.0037\n",
      "Epoch: 9  Training Error: 0.0041  Validation Error: 0.0038\n",
      "R-squared: 0.8205\n",
      "Mean Square Error: 0.0158\n",
      "Epoch: 1  Training Error: 0.0332  Validation Error: 0.0054\n"
     ]
    },
    {
     "output_type": "stream",
     "name": "stderr",
     "text": [
      "C:\\Users\\Andy\\AppData\\Local\\Programs\\Python\\Python39\\lib\\site-packages\\torch\\nn\\modules\\rnn.py:62: UserWarning: dropout option adds dropout after all but last recurrent layer, so non-zero dropout expects num_layers greater than 1, but got dropout=0.2 and num_layers=1\n",
      "  warnings.warn(\"dropout option adds dropout after all but last \"\n",
      "C:\\Users\\Andy\\AppData\\Local\\Programs\\Python\\Python39\\lib\\site-packages\\torch\\nn\\modules\\loss.py:528: UserWarning: Using a target size (torch.Size([20, 1])) that is different to the input size (torch.Size([20])). This will likely lead to incorrect results due to broadcasting. Please ensure they have the same size.\n",
      "  return F.mse_loss(input, target, reduction=self.reduction)\n"
     ]
    },
    {
     "output_type": "stream",
     "name": "stdout",
     "text": [
      "Epoch: 2  Training Error: 0.0614  Validation Error: 0.0296\n",
      "Epoch: 3  Training Error: 0.0177  Validation Error: 0.0082\n",
      "Epoch: 4  Training Error: 0.0098  Validation Error: 0.0041\n",
      "Epoch: 5  Training Error: 0.0059  Validation Error: 0.0035\n",
      "Epoch: 6  Training Error: 0.0045  Validation Error: 0.0035\n",
      "Epoch: 7  Training Error: 0.0042  Validation Error: 0.0035\n",
      "Epoch: 8  Training Error: 0.0041  Validation Error: 0.0036\n",
      "Epoch: 9  Training Error: 0.0041  Validation Error: 0.0037\n",
      "Epoch: 10  Training Error: 0.0042  Validation Error: 0.0038\n",
      "R-squared: 0.8229\n",
      "Mean Square Error: 0.0157\n"
     ]
    },
    {
     "output_type": "stream",
     "name": "stderr",
     "text": [
      "C:\\Users\\Andy\\AppData\\Local\\Programs\\Python\\Python39\\lib\\site-packages\\torch\\nn\\modules\\rnn.py:62: UserWarning: dropout option adds dropout after all but last recurrent layer, so non-zero dropout expects num_layers greater than 1, but got dropout=0.2 and num_layers=1\n",
      "  warnings.warn(\"dropout option adds dropout after all but last \"\n",
      "C:\\Users\\Andy\\AppData\\Local\\Programs\\Python\\Python39\\lib\\site-packages\\torch\\nn\\modules\\loss.py:528: UserWarning: Using a target size (torch.Size([20, 1])) that is different to the input size (torch.Size([20])). This will likely lead to incorrect results due to broadcasting. Please ensure they have the same size.\n",
      "  return F.mse_loss(input, target, reduction=self.reduction)\n"
     ]
    },
    {
     "output_type": "stream",
     "name": "stdout",
     "text": [
      "Epoch: 1  Training Error: 0.0344  Validation Error: 0.0066\n",
      "Epoch: 2  Training Error: 0.0605  Validation Error: 0.0247\n",
      "Epoch: 3  Training Error: 0.0170  Validation Error: 0.0063\n",
      "Epoch: 4  Training Error: 0.0091  Validation Error: 0.0038\n",
      "Epoch: 5  Training Error: 0.0053  Validation Error: 0.0037\n",
      "Epoch: 6  Training Error: 0.0043  Validation Error: 0.0038\n",
      "Epoch: 7  Training Error: 0.0041  Validation Error: 0.0038\n",
      "Epoch: 8  Training Error: 0.0041  Validation Error: 0.0038\n",
      "Epoch: 9  Training Error: 0.0041  Validation Error: 0.0038\n",
      "R-squared: 0.8255\n",
      "Mean Square Error: 0.0156\n",
      "Epoch: 1  Training Error: 0.0475  Validation Error: 0.0358\n"
     ]
    },
    {
     "output_type": "stream",
     "name": "stderr",
     "text": [
      "C:\\Users\\Andy\\AppData\\Local\\Programs\\Python\\Python39\\lib\\site-packages\\torch\\nn\\modules\\rnn.py:62: UserWarning: dropout option adds dropout after all but last recurrent layer, so non-zero dropout expects num_layers greater than 1, but got dropout=0.2 and num_layers=1\n",
      "  warnings.warn(\"dropout option adds dropout after all but last \"\n",
      "C:\\Users\\Andy\\AppData\\Local\\Programs\\Python\\Python39\\lib\\site-packages\\torch\\nn\\modules\\loss.py:528: UserWarning: Using a target size (torch.Size([20, 1])) that is different to the input size (torch.Size([20])). This will likely lead to incorrect results due to broadcasting. Please ensure they have the same size.\n",
      "  return F.mse_loss(input, target, reduction=self.reduction)\n"
     ]
    },
    {
     "output_type": "stream",
     "name": "stdout",
     "text": [
      "Epoch: 2  Training Error: 0.0571  Validation Error: 0.0388\n",
      "Epoch: 3  Training Error: 0.0199  Validation Error: 0.0109\n",
      "Epoch: 4  Training Error: 0.0113  Validation Error: 0.0046\n",
      "Epoch: 5  Training Error: 0.0060  Validation Error: 0.0036\n",
      "Epoch: 6  Training Error: 0.0044  Validation Error: 0.0037\n",
      "Epoch: 7  Training Error: 0.0042  Validation Error: 0.0037\n",
      "Epoch: 8  Training Error: 0.0041  Validation Error: 0.0038\n",
      "Epoch: 9  Training Error: 0.0041  Validation Error: 0.0038\n",
      "R-squared: 0.8233\n",
      "Mean Square Error: 0.0157\n",
      "Epoch: 1  Training Error: 0.0339  Validation Error: 0.0113\n",
      "Epoch: 2  Training Error: 0.0598  Validation Error: 0.0320\n"
     ]
    },
    {
     "output_type": "stream",
     "name": "stderr",
     "text": [
      "C:\\Users\\Andy\\AppData\\Local\\Programs\\Python\\Python39\\lib\\site-packages\\torch\\nn\\modules\\rnn.py:62: UserWarning: dropout option adds dropout after all but last recurrent layer, so non-zero dropout expects num_layers greater than 1, but got dropout=0.2 and num_layers=1\n",
      "  warnings.warn(\"dropout option adds dropout after all but last \"\n",
      "C:\\Users\\Andy\\AppData\\Local\\Programs\\Python\\Python39\\lib\\site-packages\\torch\\nn\\modules\\loss.py:528: UserWarning: Using a target size (torch.Size([20, 1])) that is different to the input size (torch.Size([20])). This will likely lead to incorrect results due to broadcasting. Please ensure they have the same size.\n",
      "  return F.mse_loss(input, target, reduction=self.reduction)\n"
     ]
    },
    {
     "output_type": "stream",
     "name": "stdout",
     "text": [
      "Epoch: 3  Training Error: 0.0179  Validation Error: 0.0076\n",
      "Epoch: 4  Training Error: 0.0095  Validation Error: 0.0036\n",
      "Epoch: 5  Training Error: 0.0055  Validation Error: 0.0035\n",
      "Epoch: 6  Training Error: 0.0043  Validation Error: 0.0036\n",
      "Epoch: 7  Training Error: 0.0041  Validation Error: 0.0037\n",
      "Epoch: 8  Training Error: 0.0041  Validation Error: 0.0037\n",
      "Epoch: 9  Training Error: 0.0041  Validation Error: 0.0038\n",
      "R-squared: 0.8073\n",
      "Mean Square Error: 0.0164\n",
      "Epoch: 1  Training Error: 0.0452  Validation Error: 0.0303\n",
      "Epoch: 2  Training Error: 0.0575  Validation Error: 0.0367\n"
     ]
    },
    {
     "output_type": "stream",
     "name": "stderr",
     "text": [
      "C:\\Users\\Andy\\AppData\\Local\\Programs\\Python\\Python39\\lib\\site-packages\\torch\\nn\\modules\\rnn.py:62: UserWarning: dropout option adds dropout after all but last recurrent layer, so non-zero dropout expects num_layers greater than 1, but got dropout=0.2 and num_layers=1\n",
      "  warnings.warn(\"dropout option adds dropout after all but last \"\n",
      "C:\\Users\\Andy\\AppData\\Local\\Programs\\Python\\Python39\\lib\\site-packages\\torch\\nn\\modules\\loss.py:528: UserWarning: Using a target size (torch.Size([20, 1])) that is different to the input size (torch.Size([20])). This will likely lead to incorrect results due to broadcasting. Please ensure they have the same size.\n",
      "  return F.mse_loss(input, target, reduction=self.reduction)\n"
     ]
    },
    {
     "output_type": "stream",
     "name": "stdout",
     "text": [
      "Epoch: 3  Training Error: 0.0196  Validation Error: 0.0107\n",
      "Epoch: 4  Training Error: 0.0111  Validation Error: 0.0048\n",
      "Epoch: 5  Training Error: 0.0060  Validation Error: 0.0036\n",
      "Epoch: 6  Training Error: 0.0045  Validation Error: 0.0036\n",
      "Epoch: 7  Training Error: 0.0042  Validation Error: 0.0037\n",
      "Epoch: 8  Training Error: 0.0041  Validation Error: 0.0037\n",
      "Epoch: 9  Training Error: 0.0041  Validation Error: 0.0037\n",
      "R-squared: 0.8111\n",
      "Mean Square Error: 0.0162\n"
     ]
    },
    {
     "output_type": "stream",
     "name": "stderr",
     "text": [
      "C:\\Users\\Andy\\AppData\\Local\\Programs\\Python\\Python39\\lib\\site-packages\\torch\\nn\\modules\\rnn.py:62: UserWarning: dropout option adds dropout after all but last recurrent layer, so non-zero dropout expects num_layers greater than 1, but got dropout=0.2 and num_layers=1\n",
      "  warnings.warn(\"dropout option adds dropout after all but last \"\n",
      "C:\\Users\\Andy\\AppData\\Local\\Programs\\Python\\Python39\\lib\\site-packages\\torch\\nn\\modules\\loss.py:528: UserWarning: Using a target size (torch.Size([20, 1])) that is different to the input size (torch.Size([20])). This will likely lead to incorrect results due to broadcasting. Please ensure they have the same size.\n",
      "  return F.mse_loss(input, target, reduction=self.reduction)\n"
     ]
    },
    {
     "output_type": "stream",
     "name": "stdout",
     "text": [
      "Epoch: 1  Training Error: 0.0318  Validation Error: 0.0059\n",
      "Epoch: 2  Training Error: 0.0600  Validation Error: 0.0223\n",
      "Epoch: 3  Training Error: 0.0166  Validation Error: 0.0057\n",
      "Epoch: 4  Training Error: 0.0077  Validation Error: 0.0034\n",
      "Epoch: 5  Training Error: 0.0049  Validation Error: 0.0036\n",
      "Epoch: 6  Training Error: 0.0043  Validation Error: 0.0037\n",
      "Epoch: 7  Training Error: 0.0042  Validation Error: 0.0037\n",
      "Epoch: 8  Training Error: 0.0041  Validation Error: 0.0038\n",
      "R-squared: 0.8207\n",
      "Mean Square Error: 0.0158\n",
      "Epoch: 1  Training Error: 0.0583  Validation Error: 0.0105\n"
     ]
    },
    {
     "output_type": "stream",
     "name": "stderr",
     "text": [
      "C:\\Users\\Andy\\AppData\\Local\\Programs\\Python\\Python39\\lib\\site-packages\\torch\\nn\\modules\\rnn.py:62: UserWarning: dropout option adds dropout after all but last recurrent layer, so non-zero dropout expects num_layers greater than 1, but got dropout=0.2 and num_layers=1\n",
      "  warnings.warn(\"dropout option adds dropout after all but last \"\n",
      "C:\\Users\\Andy\\AppData\\Local\\Programs\\Python\\Python39\\lib\\site-packages\\torch\\nn\\modules\\loss.py:528: UserWarning: Using a target size (torch.Size([20, 1])) that is different to the input size (torch.Size([20])). This will likely lead to incorrect results due to broadcasting. Please ensure they have the same size.\n",
      "  return F.mse_loss(input, target, reduction=self.reduction)\n"
     ]
    },
    {
     "output_type": "stream",
     "name": "stdout",
     "text": [
      "Epoch: 2  Training Error: 0.0682  Validation Error: 0.0358\n",
      "Epoch: 3  Training Error: 0.0196  Validation Error: 0.0103\n",
      "Epoch: 4  Training Error: 0.0118  Validation Error: 0.0054\n",
      "Epoch: 5  Training Error: 0.0065  Validation Error: 0.0042\n",
      "Epoch: 6  Training Error: 0.0047  Validation Error: 0.0039\n",
      "Epoch: 7  Training Error: 0.0043  Validation Error: 0.0038\n",
      "Epoch: 8  Training Error: 0.0041  Validation Error: 0.0038\n",
      "Epoch: 9  Training Error: 0.0041  Validation Error: 0.0038\n",
      "Epoch: 10  Training Error: 0.0041  Validation Error: 0.0038\n",
      "Epoch: 11  Training Error: 0.0041  Validation Error: 0.0038\n",
      "Epoch: 12  Training Error: 0.0041  Validation Error: 0.0038\n",
      "Epoch: 13  Training Error: 0.0041  Validation Error: 0.0038\n",
      "R-squared: 0.8287\n",
      "Mean Square Error: 0.0155\n",
      "Epoch: 1  Training Error: 0.0301  Validation Error: 0.0036\n",
      "Epoch: 2  Training Error: 0.0618  Validation Error: 0.0200\n",
      "Epoch: 3  Training Error: 0.0174  Validation Error: 0.0052\n"
     ]
    },
    {
     "output_type": "stream",
     "name": "stderr",
     "text": [
      "C:\\Users\\Andy\\AppData\\Local\\Programs\\Python\\Python39\\lib\\site-packages\\torch\\nn\\modules\\rnn.py:62: UserWarning: dropout option adds dropout after all but last recurrent layer, so non-zero dropout expects num_layers greater than 1, but got dropout=0.2 and num_layers=1\n",
      "  warnings.warn(\"dropout option adds dropout after all but last \"\n",
      "C:\\Users\\Andy\\AppData\\Local\\Programs\\Python\\Python39\\lib\\site-packages\\torch\\nn\\modules\\loss.py:528: UserWarning: Using a target size (torch.Size([20, 1])) that is different to the input size (torch.Size([20])). This will likely lead to incorrect results due to broadcasting. Please ensure they have the same size.\n",
      "  return F.mse_loss(input, target, reduction=self.reduction)\n"
     ]
    },
    {
     "output_type": "stream",
     "name": "stdout",
     "text": [
      "Epoch: 4  Training Error: 0.0088  Validation Error: 0.0034\n",
      "Epoch: 5  Training Error: 0.0054  Validation Error: 0.0036\n",
      "Epoch: 6  Training Error: 0.0044  Validation Error: 0.0037\n",
      "Epoch: 7  Training Error: 0.0042  Validation Error: 0.0038\n",
      "Epoch: 8  Training Error: 0.0041  Validation Error: 0.0038\n",
      "R-squared: 0.8277\n",
      "Mean Square Error: 0.0155\n",
      "Epoch: 1  Training Error: 0.0440  Validation Error: 0.0166\n",
      "Epoch: 2  Training Error: 0.0675  Validation Error: 0.0453\n",
      "Epoch: 3  Training Error: 0.0201  Validation Error: 0.0131\n",
      "Epoch: 4  Training Error: 0.0114  Validation Error: 0.0060\n"
     ]
    },
    {
     "output_type": "stream",
     "name": "stderr",
     "text": [
      "C:\\Users\\Andy\\AppData\\Local\\Programs\\Python\\Python39\\lib\\site-packages\\torch\\nn\\modules\\rnn.py:62: UserWarning: dropout option adds dropout after all but last recurrent layer, so non-zero dropout expects num_layers greater than 1, but got dropout=0.2 and num_layers=1\n",
      "  warnings.warn(\"dropout option adds dropout after all but last \"\n",
      "C:\\Users\\Andy\\AppData\\Local\\Programs\\Python\\Python39\\lib\\site-packages\\torch\\nn\\modules\\loss.py:528: UserWarning: Using a target size (torch.Size([20, 1])) that is different to the input size (torch.Size([20])). This will likely lead to incorrect results due to broadcasting. Please ensure they have the same size.\n",
      "  return F.mse_loss(input, target, reduction=self.reduction)\n"
     ]
    },
    {
     "output_type": "stream",
     "name": "stdout",
     "text": [
      "Epoch: 5  Training Error: 0.0062  Validation Error: 0.0042\n",
      "Epoch: 6  Training Error: 0.0046  Validation Error: 0.0038\n",
      "Epoch: 7  Training Error: 0.0042  Validation Error: 0.0037\n",
      "Epoch: 8  Training Error: 0.0041  Validation Error: 0.0037\n",
      "Epoch: 9  Training Error: 0.0041  Validation Error: 0.0037\n",
      "Epoch: 10  Training Error: 0.0041  Validation Error: 0.0038\n",
      "Epoch: 11  Training Error: 0.0041  Validation Error: 0.0038\n",
      "Epoch: 12  Training Error: 0.0041  Validation Error: 0.0038\n",
      "R-squared: 0.8289\n",
      "Mean Square Error: 0.0155\n",
      "Epoch: 1  Training Error: 0.0564  Validation Error: 0.0520\n"
     ]
    },
    {
     "output_type": "stream",
     "name": "stderr",
     "text": [
      "C:\\Users\\Andy\\AppData\\Local\\Programs\\Python\\Python39\\lib\\site-packages\\torch\\nn\\modules\\rnn.py:62: UserWarning: dropout option adds dropout after all but last recurrent layer, so non-zero dropout expects num_layers greater than 1, but got dropout=0.2 and num_layers=1\n",
      "  warnings.warn(\"dropout option adds dropout after all but last \"\n",
      "C:\\Users\\Andy\\AppData\\Local\\Programs\\Python\\Python39\\lib\\site-packages\\torch\\nn\\modules\\loss.py:528: UserWarning: Using a target size (torch.Size([20, 1])) that is different to the input size (torch.Size([20])). This will likely lead to incorrect results due to broadcasting. Please ensure they have the same size.\n",
      "  return F.mse_loss(input, target, reduction=self.reduction)\n"
     ]
    },
    {
     "output_type": "stream",
     "name": "stdout",
     "text": [
      "Epoch: 2  Training Error: 0.0563  Validation Error: 0.0426\n",
      "Epoch: 3  Training Error: 0.0209  Validation Error: 0.0135\n",
      "Epoch: 4  Training Error: 0.0116  Validation Error: 0.0056\n",
      "Epoch: 5  Training Error: 0.0060  Validation Error: 0.0039\n",
      "Epoch: 6  Training Error: 0.0045  Validation Error: 0.0038\n",
      "Epoch: 7  Training Error: 0.0042  Validation Error: 0.0038\n",
      "Epoch: 8  Training Error: 0.0041  Validation Error: 0.0038\n",
      "Epoch: 9  Training Error: 0.0041  Validation Error: 0.0038\n",
      "Epoch: 10  Training Error: 0.0041  Validation Error: 0.0038\n",
      "R-squared: 0.8365\n",
      "Mean Square Error: 0.0151\n",
      "Epoch: 1  Training Error: 0.0386  Validation Error: 0.0125\n",
      "Epoch: 2  Training Error: 0.0623  Validation Error: 0.0288\n",
      "Epoch: 3  Training Error: 0.0202  Validation Error: 0.0070\n",
      "Epoch: 4  Training Error: 0.0117  Validation Error: 0.0036\n"
     ]
    },
    {
     "output_type": "stream",
     "name": "stderr",
     "text": [
      "C:\\Users\\Andy\\AppData\\Local\\Programs\\Python\\Python39\\lib\\site-packages\\torch\\nn\\modules\\rnn.py:62: UserWarning: dropout option adds dropout after all but last recurrent layer, so non-zero dropout expects num_layers greater than 1, but got dropout=0.2 and num_layers=1\n",
      "  warnings.warn(\"dropout option adds dropout after all but last \"\n",
      "C:\\Users\\Andy\\AppData\\Local\\Programs\\Python\\Python39\\lib\\site-packages\\torch\\nn\\modules\\loss.py:528: UserWarning: Using a target size (torch.Size([20, 1])) that is different to the input size (torch.Size([20])). This will likely lead to incorrect results due to broadcasting. Please ensure they have the same size.\n",
      "  return F.mse_loss(input, target, reduction=self.reduction)\n"
     ]
    },
    {
     "output_type": "stream",
     "name": "stdout",
     "text": [
      "Epoch: 5  Training Error: 0.0065  Validation Error: 0.0035\n",
      "Epoch: 6  Training Error: 0.0047  Validation Error: 0.0037\n",
      "Epoch: 7  Training Error: 0.0043  Validation Error: 0.0037\n",
      "Epoch: 8  Training Error: 0.0042  Validation Error: 0.0037\n",
      "Epoch: 9  Training Error: 0.0041  Validation Error: 0.0038\n",
      "R-squared: 0.8080\n",
      "Mean Square Error: 0.0164\n",
      "Epoch: 1  Training Error: 0.0426  Validation Error: 0.0188\n",
      "Epoch: 2  Training Error: 0.0736  Validation Error: 0.0451\n",
      "Epoch: 3  Training Error: 0.0238  Validation Error: 0.0130\n"
     ]
    },
    {
     "output_type": "stream",
     "name": "stderr",
     "text": [
      "C:\\Users\\Andy\\AppData\\Local\\Programs\\Python\\Python39\\lib\\site-packages\\torch\\nn\\modules\\rnn.py:62: UserWarning: dropout option adds dropout after all but last recurrent layer, so non-zero dropout expects num_layers greater than 1, but got dropout=0.2 and num_layers=1\n",
      "  warnings.warn(\"dropout option adds dropout after all but last \"\n",
      "C:\\Users\\Andy\\AppData\\Local\\Programs\\Python\\Python39\\lib\\site-packages\\torch\\nn\\modules\\loss.py:528: UserWarning: Using a target size (torch.Size([20, 1])) that is different to the input size (torch.Size([20])). This will likely lead to incorrect results due to broadcasting. Please ensure they have the same size.\n",
      "  return F.mse_loss(input, target, reduction=self.reduction)\n"
     ]
    },
    {
     "output_type": "stream",
     "name": "stdout",
     "text": [
      "Epoch: 4  Training Error: 0.0139  Validation Error: 0.0054\n",
      "Epoch: 5  Training Error: 0.0072  Validation Error: 0.0036\n",
      "Epoch: 6  Training Error: 0.0047  Validation Error: 0.0036\n",
      "Epoch: 7  Training Error: 0.0042  Validation Error: 0.0037\n",
      "Epoch: 8  Training Error: 0.0041  Validation Error: 0.0037\n",
      "Epoch: 9  Training Error: 0.0041  Validation Error: 0.0038\n",
      "Epoch: 10  Training Error: 0.0041  Validation Error: 0.0038\n",
      "R-squared: 0.8239\n",
      "Mean Square Error: 0.0157\n",
      "Epoch: 1  Training Error: 0.0431  Validation Error: 0.0265\n",
      "Epoch: 2  Training Error: 0.0506  Validation Error: 0.0304\n",
      "Epoch: 3  Training Error: 0.0189  Validation Error: 0.0092\n",
      "Epoch: 4  Training Error: 0.0113  Validation Error: 0.0043\n"
     ]
    },
    {
     "output_type": "stream",
     "name": "stderr",
     "text": [
      "C:\\Users\\Andy\\AppData\\Local\\Programs\\Python\\Python39\\lib\\site-packages\\torch\\nn\\modules\\rnn.py:62: UserWarning: dropout option adds dropout after all but last recurrent layer, so non-zero dropout expects num_layers greater than 1, but got dropout=0.2 and num_layers=1\n",
      "  warnings.warn(\"dropout option adds dropout after all but last \"\n",
      "C:\\Users\\Andy\\AppData\\Local\\Programs\\Python\\Python39\\lib\\site-packages\\torch\\nn\\modules\\loss.py:528: UserWarning: Using a target size (torch.Size([20, 1])) that is different to the input size (torch.Size([20])). This will likely lead to incorrect results due to broadcasting. Please ensure they have the same size.\n",
      "  return F.mse_loss(input, target, reduction=self.reduction)\n"
     ]
    },
    {
     "output_type": "stream",
     "name": "stdout",
     "text": [
      "Epoch: 5  Training Error: 0.0062  Validation Error: 0.0035\n",
      "Epoch: 6  Training Error: 0.0046  Validation Error: 0.0036\n",
      "Epoch: 7  Training Error: 0.0042  Validation Error: 0.0037\n",
      "Epoch: 8  Training Error: 0.0041  Validation Error: 0.0038\n",
      "Epoch: 9  Training Error: 0.0041  Validation Error: 0.0038\n",
      "R-squared: 0.8046\n",
      "Mean Square Error: 0.0165\n",
      "Epoch: 1  Training Error: 0.0257  Validation Error: 0.0047\n",
      "Epoch: 2  Training Error: 0.0543  Validation Error: 0.0168\n",
      "Epoch: 3  Training Error: 0.0161  Validation Error: 0.0052\n",
      "Epoch: 4  Training Error: 0.0068  Validation Error: 0.0036\n",
      "Epoch: 5  Training Error: 0.0048  Validation Error: 0.0036\n"
     ]
    },
    {
     "output_type": "stream",
     "name": "stderr",
     "text": [
      "C:\\Users\\Andy\\AppData\\Local\\Programs\\Python\\Python39\\lib\\site-packages\\torch\\nn\\modules\\rnn.py:62: UserWarning: dropout option adds dropout after all but last recurrent layer, so non-zero dropout expects num_layers greater than 1, but got dropout=0.2 and num_layers=1\n",
      "  warnings.warn(\"dropout option adds dropout after all but last \"\n",
      "C:\\Users\\Andy\\AppData\\Local\\Programs\\Python\\Python39\\lib\\site-packages\\torch\\nn\\modules\\loss.py:528: UserWarning: Using a target size (torch.Size([20, 1])) that is different to the input size (torch.Size([20])). This will likely lead to incorrect results due to broadcasting. Please ensure they have the same size.\n",
      "  return F.mse_loss(input, target, reduction=self.reduction)\n"
     ]
    },
    {
     "output_type": "stream",
     "name": "stdout",
     "text": [
      "Epoch: 6  Training Error: 0.0043  Validation Error: 0.0037\n",
      "Epoch: 7  Training Error: 0.0041  Validation Error: 0.0038\n",
      "Epoch: 8  Training Error: 0.0041  Validation Error: 0.0038\n",
      "R-squared: 0.8435\n",
      "Mean Square Error: 0.0148\n",
      "Epoch: 1  Training Error: 0.0541  Validation Error: 0.0477\n"
     ]
    },
    {
     "output_type": "stream",
     "name": "stderr",
     "text": [
      "C:\\Users\\Andy\\AppData\\Local\\Programs\\Python\\Python39\\lib\\site-packages\\torch\\nn\\modules\\rnn.py:62: UserWarning: dropout option adds dropout after all but last recurrent layer, so non-zero dropout expects num_layers greater than 1, but got dropout=0.2 and num_layers=1\n",
      "  warnings.warn(\"dropout option adds dropout after all but last \"\n",
      "C:\\Users\\Andy\\AppData\\Local\\Programs\\Python\\Python39\\lib\\site-packages\\torch\\nn\\modules\\loss.py:528: UserWarning: Using a target size (torch.Size([20, 1])) that is different to the input size (torch.Size([20])). This will likely lead to incorrect results due to broadcasting. Please ensure they have the same size.\n",
      "  return F.mse_loss(input, target, reduction=self.reduction)\n"
     ]
    },
    {
     "output_type": "stream",
     "name": "stdout",
     "text": [
      "Epoch: 2  Training Error: 0.0593  Validation Error: 0.0457\n",
      "Epoch: 3  Training Error: 0.0253  Validation Error: 0.0178\n",
      "Epoch: 4  Training Error: 0.0152  Validation Error: 0.0072\n",
      "Epoch: 5  Training Error: 0.0079  Validation Error: 0.0039\n",
      "Epoch: 6  Training Error: 0.0050  Validation Error: 0.0036\n",
      "Epoch: 7  Training Error: 0.0043  Validation Error: 0.0037\n",
      "Epoch: 8  Training Error: 0.0042  Validation Error: 0.0037\n",
      "Epoch: 9  Training Error: 0.0041  Validation Error: 0.0037\n",
      "Epoch: 10  Training Error: 0.0041  Validation Error: 0.0038\n",
      "R-squared: 0.8128\n",
      "Mean Square Error: 0.0162\n",
      "Epoch: 1  Training Error: 0.0379  Validation Error: 0.0118\n"
     ]
    },
    {
     "output_type": "stream",
     "name": "stderr",
     "text": [
      "C:\\Users\\Andy\\AppData\\Local\\Programs\\Python\\Python39\\lib\\site-packages\\torch\\nn\\modules\\rnn.py:62: UserWarning: dropout option adds dropout after all but last recurrent layer, so non-zero dropout expects num_layers greater than 1, but got dropout=0.2 and num_layers=1\n",
      "  warnings.warn(\"dropout option adds dropout after all but last \"\n",
      "C:\\Users\\Andy\\AppData\\Local\\Programs\\Python\\Python39\\lib\\site-packages\\torch\\nn\\modules\\loss.py:528: UserWarning: Using a target size (torch.Size([20, 1])) that is different to the input size (torch.Size([20])). This will likely lead to incorrect results due to broadcasting. Please ensure they have the same size.\n",
      "  return F.mse_loss(input, target, reduction=self.reduction)\n"
     ]
    },
    {
     "output_type": "stream",
     "name": "stdout",
     "text": [
      "Epoch: 2  Training Error: 0.0660  Validation Error: 0.0303\n",
      "Epoch: 3  Training Error: 0.0196  Validation Error: 0.0071\n",
      "Epoch: 4  Training Error: 0.0107  Validation Error: 0.0035\n",
      "Epoch: 5  Training Error: 0.0059  Validation Error: 0.0033\n",
      "Epoch: 6  Training Error: 0.0045  Validation Error: 0.0035\n",
      "Epoch: 7  Training Error: 0.0042  Validation Error: 0.0036\n",
      "Epoch: 8  Training Error: 0.0041  Validation Error: 0.0037\n",
      "Epoch: 9  Training Error: 0.0041  Validation Error: 0.0037\n",
      "R-squared: 0.8117\n",
      "Mean Square Error: 0.0162\n",
      "Epoch: 1  Training Error: 0.0399  Validation Error: 0.0185\n"
     ]
    },
    {
     "output_type": "stream",
     "name": "stderr",
     "text": [
      "C:\\Users\\Andy\\AppData\\Local\\Programs\\Python\\Python39\\lib\\site-packages\\torch\\nn\\modules\\rnn.py:62: UserWarning: dropout option adds dropout after all but last recurrent layer, so non-zero dropout expects num_layers greater than 1, but got dropout=0.2 and num_layers=1\n",
      "  warnings.warn(\"dropout option adds dropout after all but last \"\n",
      "C:\\Users\\Andy\\AppData\\Local\\Programs\\Python\\Python39\\lib\\site-packages\\torch\\nn\\modules\\loss.py:528: UserWarning: Using a target size (torch.Size([20, 1])) that is different to the input size (torch.Size([20])). This will likely lead to incorrect results due to broadcasting. Please ensure they have the same size.\n",
      "  return F.mse_loss(input, target, reduction=self.reduction)\n"
     ]
    },
    {
     "output_type": "stream",
     "name": "stdout",
     "text": [
      "Epoch: 2  Training Error: 0.0644  Validation Error: 0.0383\n",
      "Epoch: 3  Training Error: 0.0203  Validation Error: 0.0099\n",
      "Epoch: 4  Training Error: 0.0117  Validation Error: 0.0043\n",
      "Epoch: 5  Training Error: 0.0065  Validation Error: 0.0033\n",
      "Epoch: 6  Training Error: 0.0046  Validation Error: 0.0034\n",
      "Epoch: 7  Training Error: 0.0042  Validation Error: 0.0035\n",
      "Epoch: 8  Training Error: 0.0041  Validation Error: 0.0037\n",
      "Epoch: 9  Training Error: 0.0041  Validation Error: 0.0037\n",
      "R-squared: 0.8163\n",
      "Mean Square Error: 0.0160\n",
      "Epoch: 1  Training Error: 0.0316  Validation Error: 0.0058\n",
      "Epoch: 2  Training Error: 0.0548  Validation Error: 0.0199\n",
      "Epoch: 3  Training Error: 0.0141  Validation Error: 0.0053\n"
     ]
    },
    {
     "output_type": "stream",
     "name": "stderr",
     "text": [
      "C:\\Users\\Andy\\AppData\\Local\\Programs\\Python\\Python39\\lib\\site-packages\\torch\\nn\\modules\\rnn.py:62: UserWarning: dropout option adds dropout after all but last recurrent layer, so non-zero dropout expects num_layers greater than 1, but got dropout=0.2 and num_layers=1\n",
      "  warnings.warn(\"dropout option adds dropout after all but last \"\n",
      "C:\\Users\\Andy\\AppData\\Local\\Programs\\Python\\Python39\\lib\\site-packages\\torch\\nn\\modules\\loss.py:528: UserWarning: Using a target size (torch.Size([20, 1])) that is different to the input size (torch.Size([20])). This will likely lead to incorrect results due to broadcasting. Please ensure they have the same size.\n",
      "  return F.mse_loss(input, target, reduction=self.reduction)\n"
     ]
    },
    {
     "output_type": "stream",
     "name": "stdout",
     "text": [
      "Epoch: 4  Training Error: 0.0066  Validation Error: 0.0035\n",
      "Epoch: 5  Training Error: 0.0047  Validation Error: 0.0036\n",
      "Epoch: 6  Training Error: 0.0043  Validation Error: 0.0037\n",
      "Epoch: 7  Training Error: 0.0042  Validation Error: 0.0037\n",
      "Epoch: 8  Training Error: 0.0042  Validation Error: 0.0037\n",
      "R-squared: 0.8221\n",
      "Mean Square Error: 0.0158\n",
      "Epoch: 1  Training Error: 0.0457  Validation Error: 0.0294\n",
      "Epoch: 2  Training Error: 0.0561  Validation Error: 0.0341\n",
      "Epoch: 3  Training Error: 0.0194  Validation Error: 0.0102\n",
      "Epoch: 4  Training Error: 0.0111  Validation Error: 0.0048\n",
      "Epoch: 5  Training Error: 0.0060  Validation Error: 0.0039\n"
     ]
    },
    {
     "output_type": "stream",
     "name": "stderr",
     "text": [
      "C:\\Users\\Andy\\AppData\\Local\\Programs\\Python\\Python39\\lib\\site-packages\\torch\\nn\\modules\\rnn.py:62: UserWarning: dropout option adds dropout after all but last recurrent layer, so non-zero dropout expects num_layers greater than 1, but got dropout=0.2 and num_layers=1\n",
      "  warnings.warn(\"dropout option adds dropout after all but last \"\n",
      "C:\\Users\\Andy\\AppData\\Local\\Programs\\Python\\Python39\\lib\\site-packages\\torch\\nn\\modules\\loss.py:528: UserWarning: Using a target size (torch.Size([20, 1])) that is different to the input size (torch.Size([20])). This will likely lead to incorrect results due to broadcasting. Please ensure they have the same size.\n",
      "  return F.mse_loss(input, target, reduction=self.reduction)\n"
     ]
    },
    {
     "output_type": "stream",
     "name": "stdout",
     "text": [
      "Epoch: 6  Training Error: 0.0045  Validation Error: 0.0039\n",
      "Epoch: 7  Training Error: 0.0042  Validation Error: 0.0039\n",
      "Epoch: 8  Training Error: 0.0041  Validation Error: 0.0038\n",
      "Epoch: 9  Training Error: 0.0041  Validation Error: 0.0038\n",
      "Epoch: 10  Training Error: 0.0042  Validation Error: 0.0039\n",
      "Epoch: 11  Training Error: 0.0042  Validation Error: 0.0039\n",
      "Epoch: 12  Training Error: 0.0042  Validation Error: 0.0039\n",
      "R-squared: 0.8227\n",
      "Mean Square Error: 0.0157\n",
      "Epoch: 1  Training Error: 0.0468  Validation Error: 0.0398\n",
      "Epoch: 2  Training Error: 0.0596  Validation Error: 0.0449\n",
      "Epoch: 3  Training Error: 0.0221  Validation Error: 0.0145\n",
      "Epoch: 4  Training Error: 0.0124  Validation Error: 0.0058\n",
      "Epoch: 5  Training Error: 0.0063  Validation Error: 0.0039\n"
     ]
    },
    {
     "output_type": "stream",
     "name": "stderr",
     "text": [
      "C:\\Users\\Andy\\AppData\\Local\\Programs\\Python\\Python39\\lib\\site-packages\\torch\\nn\\modules\\rnn.py:62: UserWarning: dropout option adds dropout after all but last recurrent layer, so non-zero dropout expects num_layers greater than 1, but got dropout=0.2 and num_layers=1\n",
      "  warnings.warn(\"dropout option adds dropout after all but last \"\n",
      "C:\\Users\\Andy\\AppData\\Local\\Programs\\Python\\Python39\\lib\\site-packages\\torch\\nn\\modules\\loss.py:528: UserWarning: Using a target size (torch.Size([20, 1])) that is different to the input size (torch.Size([20])). This will likely lead to incorrect results due to broadcasting. Please ensure they have the same size.\n",
      "  return F.mse_loss(input, target, reduction=self.reduction)\n"
     ]
    },
    {
     "output_type": "stream",
     "name": "stdout",
     "text": [
      "Epoch: 6  Training Error: 0.0045  Validation Error: 0.0038\n",
      "Epoch: 7  Training Error: 0.0042  Validation Error: 0.0038\n",
      "Epoch: 8  Training Error: 0.0041  Validation Error: 0.0038\n",
      "Epoch: 9  Training Error: 0.0041  Validation Error: 0.0038\n",
      "Epoch: 10  Training Error: 0.0042  Validation Error: 0.0038\n",
      "R-squared: 0.8265\n",
      "Mean Square Error: 0.0156\n"
     ]
    },
    {
     "output_type": "stream",
     "name": "stderr",
     "text": [
      "C:\\Users\\Andy\\AppData\\Local\\Programs\\Python\\Python39\\lib\\site-packages\\torch\\nn\\modules\\rnn.py:62: UserWarning: dropout option adds dropout after all but last recurrent layer, so non-zero dropout expects num_layers greater than 1, but got dropout=0.2 and num_layers=1\n",
      "  warnings.warn(\"dropout option adds dropout after all but last \"\n",
      "C:\\Users\\Andy\\AppData\\Local\\Programs\\Python\\Python39\\lib\\site-packages\\torch\\nn\\modules\\loss.py:528: UserWarning: Using a target size (torch.Size([20, 1])) that is different to the input size (torch.Size([20])). This will likely lead to incorrect results due to broadcasting. Please ensure they have the same size.\n",
      "  return F.mse_loss(input, target, reduction=self.reduction)\n"
     ]
    },
    {
     "output_type": "stream",
     "name": "stdout",
     "text": [
      "Epoch: 1  Training Error: 0.0343  Validation Error: 0.0107\n",
      "Epoch: 2  Training Error: 0.0599  Validation Error: 0.0292\n",
      "Epoch: 3  Training Error: 0.0170  Validation Error: 0.0076\n",
      "Epoch: 4  Training Error: 0.0090  Validation Error: 0.0039\n",
      "Epoch: 5  Training Error: 0.0055  Validation Error: 0.0037\n",
      "Epoch: 6  Training Error: 0.0044  Validation Error: 0.0038\n",
      "Epoch: 7  Training Error: 0.0042  Validation Error: 0.0038\n",
      "Epoch: 8  Training Error: 0.0041  Validation Error: 0.0038\n",
      "Epoch: 9  Training Error: 0.0041  Validation Error: 0.0038\n",
      "R-squared: 0.8247\n",
      "Mean Square Error: 0.0156\n",
      "Epoch: 1  Training Error: 0.0673  Validation Error: 0.0648\n"
     ]
    },
    {
     "output_type": "stream",
     "name": "stderr",
     "text": [
      "C:\\Users\\Andy\\AppData\\Local\\Programs\\Python\\Python39\\lib\\site-packages\\torch\\nn\\modules\\rnn.py:62: UserWarning: dropout option adds dropout after all but last recurrent layer, so non-zero dropout expects num_layers greater than 1, but got dropout=0.2 and num_layers=1\n",
      "  warnings.warn(\"dropout option adds dropout after all but last \"\n",
      "C:\\Users\\Andy\\AppData\\Local\\Programs\\Python\\Python39\\lib\\site-packages\\torch\\nn\\modules\\loss.py:528: UserWarning: Using a target size (torch.Size([20, 1])) that is different to the input size (torch.Size([20])). This will likely lead to incorrect results due to broadcasting. Please ensure they have the same size.\n",
      "  return F.mse_loss(input, target, reduction=self.reduction)\n"
     ]
    },
    {
     "output_type": "stream",
     "name": "stdout",
     "text": [
      "Epoch: 2  Training Error: 0.0580  Validation Error: 0.0460\n",
      "Epoch: 3  Training Error: 0.0254  Validation Error: 0.0188\n",
      "Epoch: 4  Training Error: 0.0151  Validation Error: 0.0077\n",
      "Epoch: 5  Training Error: 0.0080  Validation Error: 0.0041\n",
      "Epoch: 6  Training Error: 0.0052  Validation Error: 0.0037\n",
      "Epoch: 7  Training Error: 0.0044  Validation Error: 0.0037\n",
      "Epoch: 8  Training Error: 0.0042  Validation Error: 0.0038\n",
      "Epoch: 9  Training Error: 0.0041  Validation Error: 0.0038\n",
      "Epoch: 10  Training Error: 0.0041  Validation Error: 0.0039\n",
      "R-squared: 0.8233\n",
      "Mean Square Error: 0.0157\n",
      "Epoch: 1  Training Error: 0.0292  Validation Error: 0.0036\n",
      "Epoch: 2  Training Error: 0.0598  Validation Error: 0.0187\n"
     ]
    },
    {
     "output_type": "stream",
     "name": "stderr",
     "text": [
      "C:\\Users\\Andy\\AppData\\Local\\Programs\\Python\\Python39\\lib\\site-packages\\torch\\nn\\modules\\rnn.py:62: UserWarning: dropout option adds dropout after all but last recurrent layer, so non-zero dropout expects num_layers greater than 1, but got dropout=0.2 and num_layers=1\n",
      "  warnings.warn(\"dropout option adds dropout after all but last \"\n",
      "C:\\Users\\Andy\\AppData\\Local\\Programs\\Python\\Python39\\lib\\site-packages\\torch\\nn\\modules\\loss.py:528: UserWarning: Using a target size (torch.Size([20, 1])) that is different to the input size (torch.Size([20])). This will likely lead to incorrect results due to broadcasting. Please ensure they have the same size.\n",
      "  return F.mse_loss(input, target, reduction=self.reduction)\n"
     ]
    },
    {
     "output_type": "stream",
     "name": "stdout",
     "text": [
      "Epoch: 3  Training Error: 0.0167  Validation Error: 0.0050\n",
      "Epoch: 4  Training Error: 0.0085  Validation Error: 0.0035\n",
      "Epoch: 5  Training Error: 0.0054  Validation Error: 0.0035\n",
      "Epoch: 6  Training Error: 0.0044  Validation Error: 0.0036\n",
      "Epoch: 7  Training Error: 0.0042  Validation Error: 0.0036\n",
      "Epoch: 8  Training Error: 0.0041  Validation Error: 0.0037\n",
      "R-squared: 0.8158\n",
      "Mean Square Error: 0.0160\n",
      "Epoch: 1  Training Error: 0.0346  Validation Error: 0.0101\n",
      "Epoch: 2  Training Error: 0.0573  Validation Error: 0.0250\n",
      "Epoch: 3  Training Error: 0.0167  Validation Error: 0.0062\n",
      "Epoch: 4  Training Error: 0.0085  Validation Error: 0.0035\n"
     ]
    },
    {
     "output_type": "stream",
     "name": "stderr",
     "text": [
      "C:\\Users\\Andy\\AppData\\Local\\Programs\\Python\\Python39\\lib\\site-packages\\torch\\nn\\modules\\rnn.py:62: UserWarning: dropout option adds dropout after all but last recurrent layer, so non-zero dropout expects num_layers greater than 1, but got dropout=0.2 and num_layers=1\n",
      "  warnings.warn(\"dropout option adds dropout after all but last \"\n",
      "C:\\Users\\Andy\\AppData\\Local\\Programs\\Python\\Python39\\lib\\site-packages\\torch\\nn\\modules\\loss.py:528: UserWarning: Using a target size (torch.Size([20, 1])) that is different to the input size (torch.Size([20])). This will likely lead to incorrect results due to broadcasting. Please ensure they have the same size.\n",
      "  return F.mse_loss(input, target, reduction=self.reduction)\n"
     ]
    },
    {
     "output_type": "stream",
     "name": "stdout",
     "text": [
      "Epoch: 5  Training Error: 0.0052  Validation Error: 0.0035\n",
      "Epoch: 6  Training Error: 0.0043  Validation Error: 0.0036\n",
      "Epoch: 7  Training Error: 0.0042  Validation Error: 0.0036\n",
      "Epoch: 8  Training Error: 0.0041  Validation Error: 0.0036\n",
      "Epoch: 9  Training Error: 0.0041  Validation Error: 0.0037\n",
      "R-squared: 0.8123\n",
      "Mean Square Error: 0.0162\n"
     ]
    },
    {
     "output_type": "stream",
     "name": "stderr",
     "text": [
      "C:\\Users\\Andy\\AppData\\Local\\Programs\\Python\\Python39\\lib\\site-packages\\torch\\nn\\modules\\rnn.py:62: UserWarning: dropout option adds dropout after all but last recurrent layer, so non-zero dropout expects num_layers greater than 1, but got dropout=0.2 and num_layers=1\n",
      "  warnings.warn(\"dropout option adds dropout after all but last \"\n",
      "C:\\Users\\Andy\\AppData\\Local\\Programs\\Python\\Python39\\lib\\site-packages\\torch\\nn\\modules\\loss.py:528: UserWarning: Using a target size (torch.Size([20, 1])) that is different to the input size (torch.Size([20])). This will likely lead to incorrect results due to broadcasting. Please ensure they have the same size.\n",
      "  return F.mse_loss(input, target, reduction=self.reduction)\n"
     ]
    },
    {
     "output_type": "stream",
     "name": "stdout",
     "text": [
      "Epoch: 1  Training Error: 0.0355  Validation Error: 0.0055\n",
      "Epoch: 2  Training Error: 0.0641  Validation Error: 0.0231\n",
      "Epoch: 3  Training Error: 0.0181  Validation Error: 0.0056\n",
      "Epoch: 4  Training Error: 0.0089  Validation Error: 0.0033\n",
      "Epoch: 5  Training Error: 0.0054  Validation Error: 0.0034\n",
      "Epoch: 6  Training Error: 0.0044  Validation Error: 0.0036\n",
      "Epoch: 7  Training Error: 0.0042  Validation Error: 0.0037\n",
      "Epoch: 8  Training Error: 0.0041  Validation Error: 0.0038\n",
      "R-squared: 0.7769\n",
      "Mean Square Error: 0.0177\n",
      "Epoch: 1  Training Error: 0.0530  Validation Error: 0.0511\n",
      "Epoch: 2  Training Error: 0.0588  Validation Error: 0.0452\n"
     ]
    },
    {
     "output_type": "stream",
     "name": "stderr",
     "text": [
      "C:\\Users\\Andy\\AppData\\Local\\Programs\\Python\\Python39\\lib\\site-packages\\torch\\nn\\modules\\rnn.py:62: UserWarning: dropout option adds dropout after all but last recurrent layer, so non-zero dropout expects num_layers greater than 1, but got dropout=0.2 and num_layers=1\n",
      "  warnings.warn(\"dropout option adds dropout after all but last \"\n",
      "C:\\Users\\Andy\\AppData\\Local\\Programs\\Python\\Python39\\lib\\site-packages\\torch\\nn\\modules\\loss.py:528: UserWarning: Using a target size (torch.Size([20, 1])) that is different to the input size (torch.Size([20])). This will likely lead to incorrect results due to broadcasting. Please ensure they have the same size.\n",
      "  return F.mse_loss(input, target, reduction=self.reduction)\n"
     ]
    },
    {
     "output_type": "stream",
     "name": "stdout",
     "text": [
      "Epoch: 3  Training Error: 0.0236  Validation Error: 0.0147\n",
      "Epoch: 4  Training Error: 0.0135  Validation Error: 0.0055\n",
      "Epoch: 5  Training Error: 0.0069  Validation Error: 0.0035\n",
      "Epoch: 6  Training Error: 0.0047  Validation Error: 0.0036\n",
      "Epoch: 7  Training Error: 0.0042  Validation Error: 0.0037\n",
      "Epoch: 8  Training Error: 0.0041  Validation Error: 0.0038\n",
      "Epoch: 9  Training Error: 0.0041  Validation Error: 0.0038\n",
      "R-squared: 0.8153\n",
      "Mean Square Error: 0.0161\n",
      "Epoch: 1  Training Error: 0.0297  Validation Error: 0.0073\n",
      "Epoch: 2  Training Error: 0.0563  Validation Error: 0.0220\n",
      "Epoch: 3  Training Error: 0.0153  Validation Error: 0.0054\n",
      "Epoch: 4  Training Error: 0.0073  Validation Error: 0.0035\n"
     ]
    },
    {
     "output_type": "stream",
     "name": "stderr",
     "text": [
      "C:\\Users\\Andy\\AppData\\Local\\Programs\\Python\\Python39\\lib\\site-packages\\torch\\nn\\modules\\rnn.py:62: UserWarning: dropout option adds dropout after all but last recurrent layer, so non-zero dropout expects num_layers greater than 1, but got dropout=0.2 and num_layers=1\n",
      "  warnings.warn(\"dropout option adds dropout after all but last \"\n",
      "C:\\Users\\Andy\\AppData\\Local\\Programs\\Python\\Python39\\lib\\site-packages\\torch\\nn\\modules\\loss.py:528: UserWarning: Using a target size (torch.Size([20, 1])) that is different to the input size (torch.Size([20])). This will likely lead to incorrect results due to broadcasting. Please ensure they have the same size.\n",
      "  return F.mse_loss(input, target, reduction=self.reduction)\n"
     ]
    },
    {
     "output_type": "stream",
     "name": "stdout",
     "text": [
      "Epoch: 5  Training Error: 0.0048  Validation Error: 0.0036\n",
      "Epoch: 6  Training Error: 0.0043  Validation Error: 0.0037\n",
      "Epoch: 7  Training Error: 0.0042  Validation Error: 0.0037\n",
      "Epoch: 8  Training Error: 0.0041  Validation Error: 0.0037\n",
      "R-squared: 0.8128\n",
      "Mean Square Error: 0.0162\n",
      "Epoch: 1  Training Error: 0.0625  Validation Error: 0.0644\n"
     ]
    },
    {
     "output_type": "stream",
     "name": "stderr",
     "text": [
      "C:\\Users\\Andy\\AppData\\Local\\Programs\\Python\\Python39\\lib\\site-packages\\torch\\nn\\modules\\rnn.py:62: UserWarning: dropout option adds dropout after all but last recurrent layer, so non-zero dropout expects num_layers greater than 1, but got dropout=0.2 and num_layers=1\n",
      "  warnings.warn(\"dropout option adds dropout after all but last \"\n",
      "C:\\Users\\Andy\\AppData\\Local\\Programs\\Python\\Python39\\lib\\site-packages\\torch\\nn\\modules\\loss.py:528: UserWarning: Using a target size (torch.Size([20, 1])) that is different to the input size (torch.Size([20])). This will likely lead to incorrect results due to broadcasting. Please ensure they have the same size.\n",
      "  return F.mse_loss(input, target, reduction=self.reduction)\n"
     ]
    },
    {
     "output_type": "stream",
     "name": "stdout",
     "text": [
      "Epoch: 2  Training Error: 0.0592  Validation Error: 0.0483\n",
      "Epoch: 3  Training Error: 0.0246  Validation Error: 0.0173\n",
      "Epoch: 4  Training Error: 0.0141  Validation Error: 0.0067\n",
      "Epoch: 5  Training Error: 0.0072  Validation Error: 0.0039\n",
      "Epoch: 6  Training Error: 0.0048  Validation Error: 0.0037\n",
      "Epoch: 7  Training Error: 0.0043  Validation Error: 0.0037\n",
      "Epoch: 8  Training Error: 0.0042  Validation Error: 0.0037\n",
      "Epoch: 9  Training Error: 0.0041  Validation Error: 0.0038\n",
      "Epoch: 10  Training Error: 0.0042  Validation Error: 0.0038\n",
      "R-squared: 0.8108\n",
      "Mean Square Error: 0.0163\n",
      "Epoch: 1  Training Error: 0.0631  Validation Error: 0.0682\n",
      "Epoch: 2  Training Error: 0.0628  Validation Error: 0.0558\n"
     ]
    },
    {
     "output_type": "stream",
     "name": "stderr",
     "text": [
      "C:\\Users\\Andy\\AppData\\Local\\Programs\\Python\\Python39\\lib\\site-packages\\torch\\nn\\modules\\rnn.py:62: UserWarning: dropout option adds dropout after all but last recurrent layer, so non-zero dropout expects num_layers greater than 1, but got dropout=0.2 and num_layers=1\n",
      "  warnings.warn(\"dropout option adds dropout after all but last \"\n",
      "C:\\Users\\Andy\\AppData\\Local\\Programs\\Python\\Python39\\lib\\site-packages\\torch\\nn\\modules\\loss.py:528: UserWarning: Using a target size (torch.Size([20, 1])) that is different to the input size (torch.Size([20])). This will likely lead to incorrect results due to broadcasting. Please ensure they have the same size.\n",
      "  return F.mse_loss(input, target, reduction=self.reduction)\n"
     ]
    },
    {
     "output_type": "stream",
     "name": "stdout",
     "text": [
      "Epoch: 3  Training Error: 0.0285  Validation Error: 0.0243\n",
      "Epoch: 4  Training Error: 0.0172  Validation Error: 0.0102\n",
      "Epoch: 5  Training Error: 0.0090  Validation Error: 0.0051\n",
      "Epoch: 6  Training Error: 0.0054  Validation Error: 0.0043\n",
      "Epoch: 7  Training Error: 0.0043  Validation Error: 0.0041\n",
      "Epoch: 8  Training Error: 0.0042  Validation Error: 0.0040\n",
      "Epoch: 9  Training Error: 0.0041  Validation Error: 0.0040\n",
      "Epoch: 10  Training Error: 0.0041  Validation Error: 0.0039\n",
      "Epoch: 11  Training Error: 0.0041  Validation Error: 0.0039\n",
      "Epoch: 12  Training Error: 0.0042  Validation Error: 0.0039\n",
      "Epoch: 13  Training Error: 0.0042  Validation Error: 0.0039\n",
      "Epoch: 14  Training Error: 0.0042  Validation Error: 0.0039\n",
      "Epoch: 15  Training Error: 0.0042  Validation Error: 0.0039\n",
      "Epoch: 16  Training Error: 0.0042  Validation Error: 0.0039\n",
      "Epoch: 17  Training Error: 0.0042  Validation Error: 0.0039\n",
      "Epoch: 18  Training Error: 0.0042  Validation Error: 0.0039\n",
      "R-squared: 0.7286\n",
      "Mean Square Error: 0.0195\n",
      "Epoch: 1  Training Error: 0.0528  Validation Error: 0.0428\n"
     ]
    },
    {
     "output_type": "stream",
     "name": "stderr",
     "text": [
      "C:\\Users\\Andy\\AppData\\Local\\Programs\\Python\\Python39\\lib\\site-packages\\torch\\nn\\modules\\rnn.py:62: UserWarning: dropout option adds dropout after all but last recurrent layer, so non-zero dropout expects num_layers greater than 1, but got dropout=0.2 and num_layers=1\n",
      "  warnings.warn(\"dropout option adds dropout after all but last \"\n",
      "C:\\Users\\Andy\\AppData\\Local\\Programs\\Python\\Python39\\lib\\site-packages\\torch\\nn\\modules\\loss.py:528: UserWarning: Using a target size (torch.Size([20, 1])) that is different to the input size (torch.Size([20])). This will likely lead to incorrect results due to broadcasting. Please ensure they have the same size.\n",
      "  return F.mse_loss(input, target, reduction=self.reduction)\n"
     ]
    },
    {
     "output_type": "stream",
     "name": "stdout",
     "text": [
      "Epoch: 2  Training Error: 0.0611  Validation Error: 0.0408\n",
      "Epoch: 3  Training Error: 0.0213  Validation Error: 0.0113\n",
      "Epoch: 4  Training Error: 0.0115  Validation Error: 0.0045\n",
      "Epoch: 5  Training Error: 0.0059  Validation Error: 0.0036\n",
      "Epoch: 6  Training Error: 0.0044  Validation Error: 0.0036\n",
      "Epoch: 7  Training Error: 0.0042  Validation Error: 0.0037\n",
      "Epoch: 8  Training Error: 0.0041  Validation Error: 0.0037\n",
      "Epoch: 9  Training Error: 0.0041  Validation Error: 0.0038\n",
      "R-squared: 0.8134\n",
      "Mean Square Error: 0.0161\n"
     ]
    }
   ],
   "metadata": {}
  },
  {
   "cell_type": "code",
   "execution_count": 44,
   "source": [
    "df = pd.DataFrame({\"100\": r2_scores2, \"200\": r2_scores})\r\n",
    "sns.stripplot(data=df, orient=\"h\")\r\n",
    "plt.xlabel(\"R-squared\")\r\n",
    "plt.ylabel(\"Hidden size\")\r\n",
    "plt.title(\"Testing error of 100 vanilla RNN models\")\r\n",
    "plt.savefig('error', dpi=600)"
   ],
   "outputs": [
    {
     "output_type": "display_data",
     "data": {
      "image/png": "[encoded data removed]",
      "text/plain": [
       "<Figure size 432x288 with 1 Axes>"
      ]
     },
     "metadata": {}
    }
   ],
   "metadata": {}
  },
  {
   "cell_type": "code",
   "execution_count": 28,
   "source": [
    "plot(train_prediction, train_actual)\r\n",
    "metrics(train_prediction, train_actual)"
   ],
   "outputs": [
    {
     "output_type": "stream",
     "name": "stdout",
     "text": [
      "R-squared: 0.9917\n",
      "Mean Square Error: 0.0237\n"
     ]
    },
    {
     "output_type": "execute_result",
     "data": {
      "text/plain": [
       "(0.9917068116984971, 0.023739174)"
      ]
     },
     "metadata": {},
     "execution_count": 28
    },
    {
     "output_type": "display_data",
     "data": {
      "image/png": "[encoded data removed]",
      "text/plain": [
       "<Figure size 432x288 with 1 Axes>"
      ]
     },
     "metadata": {}
    }
   ],
   "metadata": {}
  },
  {
   "cell_type": "code",
   "execution_count": 29,
   "source": [
    "plot(test_prediction, test_actual)\r\n",
    "metrics(test_prediction, test_actual)"
   ],
   "outputs": [
    {
     "output_type": "stream",
     "name": "stdout",
     "text": [
      "R-squared: 0.7567\n",
      "Mean Square Error: 0.0184\n"
     ]
    },
    {
     "output_type": "execute_result",
     "data": {
      "text/plain": [
       "(0.756726068222218, 0.01843588)"
      ]
     },
     "metadata": {},
     "execution_count": 29
    },
    {
     "output_type": "display_data",
     "data": {
      "image/png": "[encoded data removed]",
      "text/plain": [
       "<Figure size 432x288 with 1 Axes>"
      ]
     },
     "metadata": {}
    }
   ],
   "metadata": {}
  }
 ],
 "metadata": {
  "orig_nbformat": 4,
  "language_info": {
   "name": "python",
   "version": "3.9.6",
   "mimetype": "text/x-python",
   "codemirror_mode": {
    "name": "ipython",
    "version": 3
   },
   "pygments_lexer": "ipython3",
   "nbconvert_exporter": "python",
   "file_extension": ".py"
  },
  "kernelspec": {
   "name": "python3",
   "display_name": "Python 3.9.6 64-bit"
  },
  "interpreter": {
   "hash": "e7be37f0d4f974b56952a9e3db86de64bb52fb5182b91743688a15180307762f"
  }
 },
 "nbformat": 4,
 "nbformat_minor": 2
}